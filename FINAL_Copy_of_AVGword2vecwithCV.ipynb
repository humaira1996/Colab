{
  "nbformat": 4,
  "nbformat_minor": 0,
  "metadata": {
    "colab": {
      "name": "FINAL Copy of AVGword2vecwithCV.ipynb",
      "provenance": [],
      "collapsed_sections": [],
      "machine_shape": "hm",
      "include_colab_link": true
    },
    "kernelspec": {
      "display_name": "Python 3",
      "name": "python3"
    },
    "accelerator": "TPU"
  },
  "cells": [
    {
      "cell_type": "markdown",
      "metadata": {
        "id": "view-in-github",
        "colab_type": "text"
      },
      "source": [
        "<a href=\"https://colab.research.google.com/github/humaira1996/Colab/blob/main/FINAL_Copy_of_AVGword2vecwithCV.ipynb\" target=\"_parent\"><img src=\"https://colab.research.google.com/assets/colab-badge.svg\" alt=\"Open In Colab\"/></a>"
      ]
    },
    {
      "cell_type": "markdown",
      "metadata": {
        "id": "4cbgwZWWfWpp"
      },
      "source": [
        "# New Section"
      ]
    },
    {
      "cell_type": "code",
      "metadata": {
        "id": "tAb77yZ9fzMG"
      },
      "source": [
        "%matplotlib inline\n",
        "import nltk\n",
        "from gensim.models import Word2Vec, KeyedVectors\n",
        "import numpy as np\n",
        "import pandas as pd\n",
        "import sqlite3\n",
        "import re\n",
        "import matplotlib.pyplot as plt\n",
        "#import nbconvert\n",
        "import warnings\n",
        "warnings.filterwarnings(\"ignore\")"
      ],
      "execution_count": null,
      "outputs": []
    },
    {
      "cell_type": "code",
      "metadata": {
        "id": "e-I3yQbc7gAH",
        "colab": {
          "base_uri": "https://localhost:8080/",
          "height": 34
        },
        "outputId": "a46422c4-018b-4955-9a57-f652157a0899"
      },
      "source": [
        "from google.colab import drive\n",
        "drive.mount('/gdrive')"
      ],
      "execution_count": null,
      "outputs": [
        {
          "output_type": "stream",
          "text": [
            "Mounted at /gdrive\n"
          ],
          "name": "stdout"
        }
      ]
    },
    {
      "cell_type": "code",
      "metadata": {
        "id": "e8Ya2SNa7nhX",
        "colab": {
          "base_uri": "https://localhost:8080/",
          "height": 34
        },
        "outputId": "7739e2ac-354d-4e6c-aa6e-d6a5510e0689"
      },
      "source": [
        "%cd /gdrive/My Drive/SM_FRIEND_NEWSDATA"
      ],
      "execution_count": null,
      "outputs": [
        {
          "output_type": "stream",
          "text": [
            "/gdrive/My Drive/SM_FRIEND_NEWSDATA\n"
          ],
          "name": "stdout"
        }
      ]
    },
    {
      "cell_type": "code",
      "metadata": {
        "id": "PuLiMUTz75by"
      },
      "source": [
        "data = pd.read_csv('Data_samitdata.csv').apply(lambda x: x.astype(str).str.lower())"
      ],
      "execution_count": null,
      "outputs": []
    },
    {
      "cell_type": "code",
      "metadata": {
        "id": "lJzIFsDB7nkX"
      },
      "source": [
        "data.drop_duplicates(keep=False, inplace=True)"
      ],
      "execution_count": null,
      "outputs": []
    },
    {
      "cell_type": "code",
      "metadata": {
        "id": "lAnzl80z8LuE"
      },
      "source": [
        "stopwords = pd.read_csv('Stopwords.csv')\n",
        "\n",
        "def to_encode(bangla_word):\n",
        "    return bangla_word.encode('utf-8')\n",
        "\n",
        "\n",
        "def to_decode(bangla_word):\n",
        "    return bangla_word.decode('utf-8')\n",
        "\n",
        "set_stop = set(stopwords['words'].map(to_encode))"
      ],
      "execution_count": null,
      "outputs": []
    },
    {
      "cell_type": "code",
      "metadata": {
        "id": "B2vSXwG98LxI"
      },
      "source": [
        "from bengali_stemmer.rafikamal2014 import RafiStemmer\n",
        "stemmer = RafiStemmer()\n",
        "\n",
        "texts = data['text'].values"
      ],
      "execution_count": null,
      "outputs": []
    },
    {
      "cell_type": "code",
      "metadata": {
        "id": "CM7StkKD8L2E"
      },
      "source": [
        "def cleanhtml(sentence):\n",
        "    cleanr = re.compile('/.*?')\n",
        "    cleantext = re.sub(cleanr,' ',sentence)\n",
        "    return cleantext\n",
        "def clean_punct(sentence):\n",
        "    cleaned = re.sub(r'[?|!|\\'|\"|#|।|’|‘]', r'', sentence)\n",
        "    cleaned1 = re.sub(r'[.|,|(|)|\\|/]', r'', cleaned)\n",
        "    cleaned = re.sub(r'[০|১|২|৩|৪|৫|৬|৭|৮|৯]', r'', cleaned1)\n",
        "    cleaned1 = re.sub(r'[-|=]', r' ', cleaned)\n",
        "    cleaned = re.sub(r'[A|B|C|D|E|F|G|H|I|J|K|L|M|N|O|P|Q|R|S|T|U|V|W|X|Y|Z|a|b|c|d|e|f|g|h|i|j|k|l|m|n|o|p|q|r|s|t|u|v|w|x|y|z]', r'', cleaned1)\n",
        "    cleaned1 = re.sub(r'[1|2|3|4|5|6|7|8|9|0]', r'', cleaned)\n",
        "    return cleaned1"
      ],
      "execution_count": null,
      "outputs": []
    },
    {
      "cell_type": "code",
      "metadata": {
        "id": "wvbuF3vB8L5X"
      },
      "source": [
        "def pre_process(data):\n",
        "    i=0\n",
        "    str1=' '\n",
        "    final_string = []\n",
        "    final_words = []\n",
        "    all_negative_words = []\n",
        "    s=''\n",
        "\n",
        "    for sentence in data:\n",
        "        filtered_sentence = []\n",
        "\n",
        "        for w in sentence.split():\n",
        "            for cleaned_word in clean_punct(w).split():\n",
        "                if len(cleaned_word)>2:\n",
        "                    if(to_encode(cleaned_word) not in set_stop):\n",
        "                        s = stemmer.stem_word(cleaned_word)\n",
        "                        if len(s)>2:\n",
        "                            final_words.append(s)\n",
        "                            filtered_sentence.append(s)\n",
        "                    else:\n",
        "                        continue\n",
        "                else:\n",
        "                    continue\n",
        "\n",
        "        str1 = \" \".join(filtered_sentence)\n",
        "        final_string.append(str1)\n",
        "    return final_string"
      ],
      "execution_count": null,
      "outputs": []
    },
    {
      "cell_type": "code",
      "metadata": {
        "id": "sxRsADbX8L93"
      },
      "source": [
        "X = pre_process(data['text'].values)\n",
        "#y = data['label'].values"
      ],
      "execution_count": null,
      "outputs": []
    },
    {
      "cell_type": "code",
      "metadata": {
        "id": "XHikP3OwIT3M"
      },
      "source": [
        "Y = data['label'].values"
      ],
      "execution_count": null,
      "outputs": []
    },
    {
      "cell_type": "code",
      "metadata": {
        "id": "q8Fj_MiS7nnE"
      },
      "source": [
        "from sklearn.model_selection import train_test_split\n",
        "# X_train, X_test, y_train, y_test = train_test_split(X, Y, test_size=0.33, shuffle=Flase)# this is for time series split\n",
        "X_train, X_test, y_train, y_test = train_test_split(X, Y, test_size=0.33,random_state=42) # this is random splitting\n",
        "X_train, X_cv, y_train, y_cv = train_test_split(X_train, y_train, test_size=0.33,random_state=42) # this is random splitting"
      ],
      "execution_count": null,
      "outputs": []
    },
    {
      "cell_type": "code",
      "metadata": {
        "id": "7Hy19b25IcJk",
        "colab": {
          "base_uri": "https://localhost:8080/",
          "height": 34
        },
        "outputId": "ed841868-61f4-4713-b27c-610fe0d03bc0"
      },
      "source": [
        "label=np.unique(y_train)\n",
        "\n",
        "label"
      ],
      "execution_count": null,
      "outputs": [
        {
          "output_type": "execute_result",
          "data": {
            "text/plain": [
              "array(['eco', 'ent', 'int', 'sprt', 'state'], dtype=object)"
            ]
          },
          "metadata": {
            "tags": []
          },
          "execution_count": 15
        }
      ]
    },
    {
      "cell_type": "code",
      "metadata": {
        "id": "yPPDDCu07nqX"
      },
      "source": [
        "from sklearn.feature_extraction.text import CountVectorizer\n",
        "vectorizer = CountVectorizer()\n",
        "#vectorizer.fit(X_train) # fit has to happen only on train data"
      ],
      "execution_count": null,
      "outputs": []
    },
    {
      "cell_type": "markdown",
      "metadata": {
        "id": "RRlcHz_E8-dF"
      },
      "source": [
        "W2VEC MODEL"
      ]
    },
    {
      "cell_type": "code",
      "metadata": {
        "id": "qomjNA0u7nuF"
      },
      "source": [
        "i=0\n",
        "list_of_sentance_train=[]\n",
        "for sentance in X_train:\n",
        "    list_of_sentance_train.append(sentance.split())"
      ],
      "execution_count": null,
      "outputs": []
    },
    {
      "cell_type": "code",
      "metadata": {
        "id": "gl5Gr5Mg7nzi"
      },
      "source": [
        "from gensim.models import Word2Vec\n",
        "from gensim.models import KeyedVectors"
      ],
      "execution_count": null,
      "outputs": []
    },
    {
      "cell_type": "code",
      "metadata": {
        "id": "ky_nHcZG7n2n"
      },
      "source": [
        "# this line of code trains your w2v model on the give list of sentances\n",
        "w2v_model=Word2Vec(list_of_sentance_train,min_count=5,size=3000, workers=10)"
      ],
      "execution_count": null,
      "outputs": []
    },
    {
      "cell_type": "code",
      "metadata": {
        "id": "pafL7Li0jyXW",
        "colab": {
          "base_uri": "https://localhost:8080/",
          "height": 71
        },
        "outputId": "5e659e36-4057-4529-da84-07d9c59ce516"
      },
      "source": [
        "w2v_words = list(w2v_model.wv.vocab)\n",
        "print(\"number of words that occured minimum 5 times \",len(w2v_words))\n",
        "print(\"sample words \", w2v_words[0:50])"
      ],
      "execution_count": null,
      "outputs": [
        {
          "output_type": "stream",
          "text": [
            "number of words that occured minimum 5 times  104608\n",
            "sample words  ['স্বাধীনতা', 'দিবস', 'চেয়ারপারসন', 'খালেদা', 'জিয়াসহ', 'কারারুদ্ধ', 'নেতা', 'কর্মী', 'মুক্ত', 'আন্দোলন', 'শপথ', 'বিএনপিআজ', 'বেলা', 'সাড়', 'বিএনপির', 'প্রতিষ্ঠাতা', 'জিয়াউর', 'রহমান', 'সমাধি', 'শ্রদ্ধা', 'নিবেদন', 'শেষ', 'মহাসচিব', 'মির্জা', 'ফখরুল', 'ইসলাম', 'আলমগীর', 'কথা', 'জানানমির্জা', 'আজক', 'দিন', 'কারাগার', 'অবিলম্ব', 'গ্রহণ', 'মহান', 'উপলক্ষ', 'সকাল', 'রাজধানীর', 'চন্দ্রিমা', 'উদ্যান', 'জড়ো', 'বিপুলসংখ্যক', 'একপর্যা', 'জ্যেষ্ঠ', 'উপস্থিত', 'সবাই', 'ফুল', 'দুর্ভাগ্য', 'উদ্\\u200cযাপন', 'কারাবরণ']\n"
          ],
          "name": "stdout"
        }
      ]
    },
    {
      "cell_type": "code",
      "metadata": {
        "id": "ExW6fq-79UI_"
      },
      "source": [
        "from tqdm import tqdm\n",
        "import numpy as np"
      ],
      "execution_count": null,
      "outputs": []
    },
    {
      "cell_type": "markdown",
      "metadata": {
        "id": "mf61NM2e9Yx1"
      },
      "source": [
        "CONVERT TRAINDATA TEXT"
      ]
    },
    {
      "cell_type": "code",
      "metadata": {
        "id": "sN2B9_6y9cP9",
        "colab": {
          "base_uri": "https://localhost:8080/",
          "height": 34
        },
        "outputId": "b7c893a1-6841-4eea-d637-282fbf9655a2"
      },
      "source": [
        "# average Word2Vec\n",
        "# compute average word2vec for each review.\n",
        "sent_vectors = []; # the avg-w2v for each sentence/review is stored in this list\n",
        "for sent in tqdm(list_of_sentance_train): # for each review/sentence\n",
        "    sent_vec = np.zeros(3000) # as word vectors are of zero length 50, you might need to change this to 300 if you use google's w2v\n",
        "    cnt_words =0; # num of words with a valid vector in the sentence/review\n",
        "    for word in sent: # for each word in a review/sentence\n",
        "        if word in w2v_words:\n",
        "            vec = w2v_model.wv[word]\n",
        "            sent_vec += vec\n",
        "            cnt_words += 1\n",
        "    if cnt_words != 0:\n",
        "        sent_vec /= cnt_words\n",
        "    sent_vectors.append(sent_vec)\n",
        "sent_vectors_train = np.array(sent_vectors)\n",
        "#print(np.asarray(sent_vectors).shape)\n",
        "#print(sent_vectors[0])\n",
        "\n",
        "#print(np.asarray(X).shape)"
      ],
      "execution_count": null,
      "outputs": [
        {
          "output_type": "stream",
          "text": [
            "100%|██████████| 167759/167759 [1:44:38<00:00, 26.72it/s]\n"
          ],
          "name": "stderr"
        }
      ]
    },
    {
      "cell_type": "markdown",
      "metadata": {
        "id": "lmjhHuP_9qp5"
      },
      "source": [
        "CONVERTING CV DATA TEXT"
      ]
    },
    {
      "cell_type": "code",
      "metadata": {
        "id": "P3C4N-kw9twq"
      },
      "source": [
        "i=0\n",
        "list_of_sentance_cv=[]\n",
        "for sentance in X_cv:\n",
        "    list_of_sentance_cv.append(sentance.split())"
      ],
      "execution_count": null,
      "outputs": []
    },
    {
      "cell_type": "code",
      "metadata": {
        "id": "p9y-xE1P9t10",
        "colab": {
          "base_uri": "https://localhost:8080/",
          "height": 34
        },
        "outputId": "3bcce76e-2986-492d-97c9-aef8defb5596"
      },
      "source": [
        "# average Word2Vec\n",
        "# compute average word2vec for each review.\n",
        "sent_vectors_cv = []; # the avg-w2v for each sentence/review is stored in this list\n",
        "for sent in tqdm(list_of_sentance_cv): # for each review/sentence\n",
        "    sent_vec = np.zeros(3000) # as word vectors are of zero length 50, you might need to change this to 300 if you use google's w2v\n",
        "    cnt_words =0; # num of words with a valid vector in the sentence/review\n",
        "    for word in sent: # for each word in a review/sentence\n",
        "        if word in w2v_words:\n",
        "            vec = w2v_model.wv[word]\n",
        "            sent_vec += vec\n",
        "            cnt_words += 1\n",
        "    if cnt_words != 0:\n",
        "        sent_vec /= cnt_words\n",
        "    sent_vectors_cv.append(sent_vec)\n",
        "sent_vectors_cv = np.array(sent_vectors_cv)\n",
        "#print(np.asarray(sent_vectors_cv).shape)\n",
        "#print(sent_vectors_cv[0])"
      ],
      "execution_count": null,
      "outputs": [
        {
          "output_type": "stream",
          "text": [
            "100%|██████████| 82628/82628 [44:45<00:00, 30.77it/s]\n"
          ],
          "name": "stderr"
        }
      ]
    },
    {
      "cell_type": "markdown",
      "metadata": {
        "id": "gb5oMgIp92is"
      },
      "source": [
        "CONVERTING TEST DATA TEXT"
      ]
    },
    {
      "cell_type": "code",
      "metadata": {
        "id": "BUUzyqB69t44"
      },
      "source": [
        "i=0\n",
        "list_of_sentance_test=[]\n",
        "for sentance in X_test:\n",
        "    list_of_sentance_test.append(sentance.split())"
      ],
      "execution_count": null,
      "outputs": []
    },
    {
      "cell_type": "code",
      "metadata": {
        "id": "_sDECRrm9t7v",
        "colab": {
          "base_uri": "https://localhost:8080/",
          "height": 34
        },
        "outputId": "2ea81d48-b62f-4355-a2d1-5f8bce57f0ac"
      },
      "source": [
        "# average Word2Vec\n",
        "# compute average word2vec for each review.\n",
        "sent_vectors_test = []; # the avg-w2v for each sentence/review is stored in this list\n",
        "for sent in tqdm(list_of_sentance_test): # for each review/sentence\n",
        "    sent_vec = np.zeros(3000) # as word vectors are of zero length 50, you might need to change this to 300 if you use google's w2v\n",
        "    cnt_words =0; # num of words with a valid vector in the sentence/review\n",
        "    for word in sent: # for each word in a review/sentence\n",
        "        if word in w2v_words:\n",
        "            vec = w2v_model.wv[word]\n",
        "            sent_vec += vec\n",
        "            cnt_words += 1\n",
        "    if cnt_words != 0:\n",
        "        sent_vec /= cnt_words\n",
        "    sent_vectors_test.append(sent_vec)\n",
        "sent_vectors_test = np.array(sent_vectors_test)\n",
        "#print(np.asarray(sent_vectors_test).shape)\n",
        "#print(sent_vectors_test[0])"
      ],
      "execution_count": null,
      "outputs": [
        {
          "output_type": "stream",
          "text": [
            "100%|██████████| 123325/123325 [1:04:52<00:00, 31.68it/s]\n"
          ],
          "name": "stderr"
        }
      ]
    },
    {
      "cell_type": "markdown",
      "metadata": {
        "id": "uHvTONso-HQj"
      },
      "source": [
        "FIT WITH A MODEL \n",
        "# **GaussianNB classifier**"
      ]
    },
    {
      "cell_type": "code",
      "metadata": {
        "id": "Y3J8B-gS-LYt"
      },
      "source": [
        "from sklearn . naive_bayes import GaussianNB\n",
        "from sklearn import metrics\n",
        "from sklearn . metrics import accuracy_score\n",
        "from sklearn . model_selection import cross_val_score"
      ],
      "execution_count": null,
      "outputs": []
    },
    {
      "cell_type": "code",
      "metadata": {
        "id": "ljWANlaH-Lc6",
        "colab": {
          "base_uri": "https://localhost:8080/",
          "height": 197
        },
        "outputId": "1ac81942-3b84-44bd-8d57-8bb77ae423e7"
      },
      "source": [
        "Gmodel = GaussianNB() . fit ( sent_vectors , y_train )\n",
        "\n",
        " #neigh.fit(sent_vectors_train, y_train)"
      ],
      "execution_count": null,
      "outputs": [
        {
          "output_type": "error",
          "ename": "NameError",
          "evalue": "ignored",
          "traceback": [
            "\u001b[0;31m---------------------------------------------------------------------------\u001b[0m",
            "\u001b[0;31mNameError\u001b[0m                                 Traceback (most recent call last)",
            "\u001b[0;32m<ipython-input-2-62f76bbc943e>\u001b[0m in \u001b[0;36m<module>\u001b[0;34m()\u001b[0m\n\u001b[0;32m----> 1\u001b[0;31m \u001b[0mGmodel\u001b[0m \u001b[0;34m=\u001b[0m \u001b[0mGaussianNB\u001b[0m\u001b[0;34m(\u001b[0m\u001b[0;34m)\u001b[0m \u001b[0;34m.\u001b[0m \u001b[0mfit\u001b[0m \u001b[0;34m(\u001b[0m \u001b[0msent_vectors\u001b[0m \u001b[0;34m,\u001b[0m \u001b[0my_train\u001b[0m \u001b[0;34m)\u001b[0m\u001b[0;34m\u001b[0m\u001b[0;34m\u001b[0m\u001b[0m\n\u001b[0m\u001b[1;32m      2\u001b[0m \u001b[0;34m\u001b[0m\u001b[0m\n\u001b[1;32m      3\u001b[0m  \u001b[0;31m#neigh.fit(sent_vectors_train, y_train)\u001b[0m\u001b[0;34m\u001b[0m\u001b[0;34m\u001b[0m\u001b[0;34m\u001b[0m\u001b[0m\n",
            "\u001b[0;31mNameError\u001b[0m: name 'sent_vectors' is not defined"
          ]
        }
      ]
    },
    {
      "cell_type": "markdown",
      "metadata": {
        "id": "ciz8UFsG6vet"
      },
      "source": [
        "# *Cross validation for gaussian nb*"
      ]
    },
    {
      "cell_type": "code",
      "metadata": {
        "id": "hzH0dJLrLXai",
        "colab": {
          "base_uri": "https://localhost:8080/",
          "height": 54
        },
        "outputId": "1243b058-7a40-4e83-92e3-3ecdb238541a"
      },
      "source": [
        "#using k-fold\n",
        "\n",
        "accuracy = cross_val_score(Gmodel, sent_vectors_cv, y_cv, scoring='accuracy', cv = 10)\n",
        "print(accuracy)"
      ],
      "execution_count": null,
      "outputs": [
        {
          "output_type": "stream",
          "text": [
            "[0.84642382 0.85598451 0.84993344 0.85247489 0.8496914  0.84836016\n",
            " 0.85550042 0.8513857  0.84979424 0.8540305 ]\n"
          ],
          "name": "stdout"
        }
      ]
    },
    {
      "cell_type": "code",
      "metadata": {
        "id": "3NW4bHQxLvRk",
        "colab": {
          "base_uri": "https://localhost:8080/",
          "height": 35
        },
        "outputId": "8fb63909-6563-46b0-cec1-66086aeb2fb4"
      },
      "source": [
        "print(\"Accuracy of Model with Cross Validation is:\",accuracy.mean() * 100)"
      ],
      "execution_count": null,
      "outputs": [
        {
          "output_type": "stream",
          "text": [
            "Accuracy of Model with Cross Validation is: 85.13579066288246\n"
          ],
          "name": "stdout"
        }
      ]
    },
    {
      "cell_type": "code",
      "metadata": {
        "id": "SWKwLowo6QHj",
        "colab": {
          "base_uri": "https://localhost:8080/",
          "height": 35
        },
        "outputId": "7cde6f2c-771b-412b-faaa-c2d31a4672e6"
      },
      "source": [
        "#using cross_validate() function\n",
        "\n",
        "from sklearn.model_selection import cross_validate\n",
        "from sklearn.metrics import recall_score\n",
        "scoring = ['precision_macro', 'recall_macro']\n",
        "scores = cross_validate(Gmodel, sent_vectors_cv, y_cv, scoring=scoring)\n",
        "sorted(scores.keys())"
      ],
      "execution_count": null,
      "outputs": [
        {
          "output_type": "execute_result",
          "data": {
            "text/plain": [
              "['fit_time', 'score_time', 'test_precision_macro', 'test_recall_macro']"
            ]
          },
          "metadata": {
            "tags": []
          },
          "execution_count": 39
        }
      ]
    },
    {
      "cell_type": "code",
      "metadata": {
        "id": "H4nTvyJs6tmg",
        "colab": {
          "base_uri": "https://localhost:8080/",
          "height": 35
        },
        "outputId": "234bfda8-81d9-427c-ac60-9263c3a446b9"
      },
      "source": [
        "scores['test_recall_macro']"
      ],
      "execution_count": null,
      "outputs": [
        {
          "output_type": "execute_result",
          "data": {
            "text/plain": [
              "array([0.88584986, 0.88404225, 0.88099244, 0.88975153, 0.88302936])"
            ]
          },
          "metadata": {
            "tags": []
          },
          "execution_count": 40
        }
      ]
    },
    {
      "cell_type": "markdown",
      "metadata": {
        "id": "XTslD2qdnedA"
      },
      "source": [
        "# *accuracy for test data*"
      ]
    },
    {
      "cell_type": "code",
      "metadata": {
        "id": "z-wHKIDv-Lg7"
      },
      "source": [
        "from sklearn . metrics import classification_report\n",
        "y_test_pred  = Gmodel . predict ( sent_vectors_test )\n",
        "y_cv_pred = Gmodel . predict(sent_vectors_cv)"
      ],
      "execution_count": null,
      "outputs": []
    },
    {
      "cell_type": "code",
      "metadata": {
        "id": "YwXmJ646-LkR",
        "colab": {
          "base_uri": "https://localhost:8080/",
          "height": 272
        },
        "outputId": "6db1a032-b94e-49e8-a38e-5aa33130f51c"
      },
      "source": [
        "#print(\"Cross val score:\",cross_val_score(Gmodel,df,data1.check,cv=5,scoring='accuracy'))\n",
        "print ( 'Model accuracy %s' % accuracy_score ( y_cv , y_cv_pred ) )\n",
        "print ( 'accuracy normalized %s' % accuracy_score ( y_cv , y_cv_pred , normalize = False ) )\n",
        "print ( classification_report ( y_cv , y_cv_pred,target_names=label ) )\n",
        "\n",
        "#X_labels . append ( \"Gaussian\" )\n",
        "#y_labels . append ( accuracy_score ( y_test , y_cv_pred ) )"
      ],
      "execution_count": null,
      "outputs": [
        {
          "output_type": "stream",
          "text": [
            "Model accuracy 0.8497966790918333\n",
            "accuracy normalized 70217\n",
            "              precision    recall  f1-score   support\n",
            "\n",
            "         eco       0.45      0.90      0.60      4205\n",
            "         ent       0.74      0.92      0.82      6778\n",
            "         int       0.59      0.87      0.70      7052\n",
            "        sprt       0.99      0.91      0.95     11227\n",
            "       state       0.97      0.82      0.89     53366\n",
            "\n",
            "    accuracy                           0.85     82628\n",
            "   macro avg       0.75      0.89      0.79     82628\n",
            "weighted avg       0.90      0.85      0.86     82628\n",
            "\n"
          ],
          "name": "stdout"
        }
      ]
    },
    {
      "cell_type": "code",
      "metadata": {
        "id": "wzZZi4tb-flu",
        "colab": {
          "base_uri": "https://localhost:8080/",
          "height": 272
        },
        "outputId": "0a1fe843-fbaa-44d9-ff2d-b0d859d3a534"
      },
      "source": [
        "\n",
        "print ( 'Model accuracy %s' % accuracy_score ( y_test , y_test_pred ) )\n",
        "print ( 'accuracy normalized %s' % accuracy_score ( y_test , y_test_pred , normalize = False ) )\n",
        "print ( classification_report ( y_test , y_test_pred ) )\n",
        "\n",
        "#xlabels . append ( \"Gaussian\" )\n",
        "#ylabels . append ( accuracy_score ( y_test , y_test_pred ) ) "
      ],
      "execution_count": null,
      "outputs": [
        {
          "output_type": "stream",
          "text": [
            "Model accuracy 0.8514169876342996\n",
            "accuracy normalized 105001\n",
            "              precision    recall  f1-score   support\n",
            "\n",
            "         eco       0.45      0.90      0.60      6212\n",
            "         ent       0.74      0.91      0.82      9833\n",
            "         int       0.60      0.87      0.71     10525\n",
            "        sprt       0.99      0.91      0.95     16905\n",
            "       state       0.97      0.82      0.89     79850\n",
            "\n",
            "    accuracy                           0.85    123325\n",
            "   macro avg       0.75      0.88      0.79    123325\n",
            "weighted avg       0.90      0.85      0.86    123325\n",
            "\n"
          ],
          "name": "stdout"
        }
      ]
    },
    {
      "cell_type": "code",
      "metadata": {
        "id": "kwijrfLU32xJ"
      },
      "source": [
        ""
      ],
      "execution_count": null,
      "outputs": []
    },
    {
      "cell_type": "markdown",
      "metadata": {
        "id": "0TT-DP65Ljc6"
      },
      "source": [
        "# **SVM classifier**"
      ]
    },
    {
      "cell_type": "code",
      "metadata": {
        "id": "XKTqSXFH32-N"
      },
      "source": [
        "import sklearn\n",
        "from sklearn import svm\n",
        "from sklearn . model_selection import cross_val_score"
      ],
      "execution_count": null,
      "outputs": []
    },
    {
      "cell_type": "code",
      "metadata": {
        "id": "De5DTsLn36Nr",
        "colab": {
          "base_uri": "https://localhost:8080/",
          "height": 90
        },
        "outputId": "886c9019-bea5-4546-976a-551a424746c4"
      },
      "source": [
        "smodel = svm . SVC ( C = 3, gamma = 'scale', kernel = 'rbf' )\n",
        "\n",
        "smodel . fit ( sent_vectors , y_train )\n",
        "\n"
      ],
      "execution_count": null,
      "outputs": [
        {
          "output_type": "execute_result",
          "data": {
            "text/plain": [
              "SVC(C=3, break_ties=False, cache_size=200, class_weight=None, coef0=0.0,\n",
              "    decision_function_shape='ovr', degree=3, gamma='scale', kernel='rbf',\n",
              "    max_iter=-1, probability=False, random_state=None, shrinking=True,\n",
              "    tol=0.001, verbose=False)"
            ]
          },
          "metadata": {
            "tags": []
          },
          "execution_count": 27
        }
      ]
    },
    {
      "cell_type": "markdown",
      "metadata": {
        "id": "hmlmZZmIsUQ3"
      },
      "source": [
        "# *Cross validation score for svm*"
      ]
    },
    {
      "cell_type": "code",
      "metadata": {
        "id": "aQ3sMiEwqWjr",
        "colab": {
          "base_uri": "https://localhost:8080/",
          "height": 35
        },
        "outputId": "c06c5035-9f26-48d7-9b09-0a4ff9789956"
      },
      "source": [
        "from sklearn import metrics\n",
        "scores = cross_val_score(smodel, sent_vectors_cv, y_cv, cv=5, scoring='f1_macro')\n",
        "scores\n",
        "\n",
        "print(\"Accuracy: %0.2f (+/- %0.2f)\" % (scores.mean(), scores.std() * 2))"
      ],
      "execution_count": null,
      "outputs": [
        {
          "output_type": "stream",
          "text": [
            "Accuracy: 0.93 (+/- 0.01)\n"
          ],
          "name": "stdout"
        }
      ]
    },
    {
      "cell_type": "code",
      "metadata": {
        "id": "4pl05788ct0y",
        "colab": {
          "base_uri": "https://localhost:8080/",
          "height": 54
        },
        "outputId": "c438d510-0e10-4a82-b2d1-5d60db5ea885"
      },
      "source": [
        "#using k-fold\n",
        "\n",
        "accuracy = cross_val_score(smodel, sent_vectors_cv, y_cv, scoring='accuracy', cv = 10)\n",
        "print(accuracy)\n",
        "\n",
        "#get the mean of each fold \n",
        "#print(\"Accuracy of Model with Cross Validation is:\",accuracy.mean() * 100)"
      ],
      "execution_count": null,
      "outputs": [
        {
          "output_type": "stream",
          "text": [
            "[0.9627254  0.96623502 0.96659809 0.96405664 0.96308847 0.96284642\n",
            " 0.96151519 0.96260438 0.96066328 0.96078431]\n"
          ],
          "name": "stdout"
        }
      ]
    },
    {
      "cell_type": "code",
      "metadata": {
        "id": "7y-_YED4vAZQ",
        "colab": {
          "base_uri": "https://localhost:8080/",
          "height": 35
        },
        "outputId": "fe86eab0-6e96-4a21-fc48-8806e3ef4cdf"
      },
      "source": [
        "print(\"Accuracy of Model with Cross Validation is:\",accuracy.mean() * 100)"
      ],
      "execution_count": null,
      "outputs": [
        {
          "output_type": "stream",
          "text": [
            "Accuracy of Model with Cross Validation is: 96.31117202903472\n"
          ],
          "name": "stdout"
        }
      ]
    },
    {
      "cell_type": "markdown",
      "metadata": {
        "id": "IucTMMpisYJM"
      },
      "source": [
        "The cross_validate function and multiple metric evaluation"
      ]
    },
    {
      "cell_type": "code",
      "metadata": {
        "id": "PfrvaD-HsmTw",
        "colab": {
          "base_uri": "https://localhost:8080/",
          "height": 35
        },
        "outputId": "f247c836-3a37-41bf-b84f-721a242fff97"
      },
      "source": [
        "from sklearn.model_selection import cross_validate\n",
        "from sklearn.metrics import recall_score\n",
        "scoring = ['precision_macro', 'recall_macro']\n",
        "#clf = svm.SVC(kernel='linear', C=1, random_state=0)\n",
        "scores = cross_validate(smodel, sent_vectors_cv, y_cv, scoring=scoring)\n",
        "sorted(scores.keys())"
      ],
      "execution_count": null,
      "outputs": [
        {
          "output_type": "execute_result",
          "data": {
            "text/plain": [
              "['fit_time', 'score_time', 'test_precision_macro', 'test_recall_macro']"
            ]
          },
          "metadata": {
            "tags": []
          },
          "execution_count": 30
        }
      ]
    },
    {
      "cell_type": "code",
      "metadata": {
        "id": "wc8Ox9Yfs12u",
        "colab": {
          "base_uri": "https://localhost:8080/",
          "height": 35
        },
        "outputId": "b9587273-8530-490a-da6a-5d5b0f1df566"
      },
      "source": [
        " scores['test_recall_macro']"
      ],
      "execution_count": null,
      "outputs": [
        {
          "output_type": "execute_result",
          "data": {
            "text/plain": [
              "array([0.93051534, 0.93375057, 0.93037475, 0.92825006, 0.92611699])"
            ]
          },
          "metadata": {
            "tags": []
          },
          "execution_count": 31
        }
      ]
    },
    {
      "cell_type": "markdown",
      "metadata": {
        "id": "f8tOYpiyxtZb"
      },
      "source": [
        "# *accuracy score for test data*"
      ]
    },
    {
      "cell_type": "code",
      "metadata": {
        "id": "n0I0RcUf4E4x"
      },
      "source": [
        "from sklearn . metrics import classification_report\n",
        "y_test_pred  = smodel . predict ( sent_vectors_test )\n",
        "y_cv_pred = smodel . predict(sent_vectors_cv)"
      ],
      "execution_count": null,
      "outputs": []
    },
    {
      "cell_type": "code",
      "metadata": {
        "id": "DCHuK35n2d09",
        "colab": {
          "base_uri": "https://localhost:8080/",
          "height": 272
        },
        "outputId": "509a19b2-5ccb-4e06-d8f2-95dba649381c"
      },
      "source": [
        "#print(\"Cross val score:\",cross_val_score(Gmodel,df,data1.check,cv=5,scoring='accuracy'))\n",
        "print ( 'Model accuracy %s' % accuracy_score ( y_cv , y_cv_pred ) )\n",
        "print ( 'accuracy normalized %s' % accuracy_score ( y_cv , y_cv_pred , normalize = False ) )\n",
        "print ( classification_report ( y_cv , y_cv_pred,target_names=label ) )"
      ],
      "execution_count": null,
      "outputs": [
        {
          "output_type": "stream",
          "text": [
            "Model accuracy 0.9655443675267463\n",
            "accuracy normalized 79781\n",
            "              precision    recall  f1-score   support\n",
            "\n",
            "         eco       0.83      0.83      0.83      4205\n",
            "         ent       0.94      0.94      0.94      6778\n",
            "         int       0.95      0.94      0.95      7052\n",
            "        sprt       0.99      0.99      0.99     11227\n",
            "       state       0.98      0.98      0.98     53366\n",
            "\n",
            "    accuracy                           0.97     82628\n",
            "   macro avg       0.94      0.94      0.94     82628\n",
            "weighted avg       0.97      0.97      0.97     82628\n",
            "\n"
          ],
          "name": "stdout"
        }
      ]
    },
    {
      "cell_type": "code",
      "metadata": {
        "id": "6Y5HPeZ62vgE",
        "colab": {
          "base_uri": "https://localhost:8080/",
          "height": 272
        },
        "outputId": "882ce176-4e87-415a-9ed0-e8d45a694c92"
      },
      "source": [
        "print ( 'Model accuracy %s' % accuracy_score ( y_test , y_test_pred ) )\n",
        "print ( 'accuracy normalized %s' % accuracy_score ( y_test , y_test_pred , normalize = False ) )\n",
        "print ( classification_report ( y_test , y_test_pred ) )"
      ],
      "execution_count": null,
      "outputs": [
        {
          "output_type": "stream",
          "text": [
            "Model accuracy 0.9658301236570038\n",
            "accuracy normalized 119111\n",
            "              precision    recall  f1-score   support\n",
            "\n",
            "         eco       0.83      0.82      0.83      6212\n",
            "         ent       0.94      0.94      0.94      9833\n",
            "         int       0.95      0.94      0.95     10525\n",
            "        sprt       0.99      0.99      0.99     16905\n",
            "       state       0.98      0.98      0.98     79850\n",
            "\n",
            "    accuracy                           0.97    123325\n",
            "   macro avg       0.94      0.94      0.94    123325\n",
            "weighted avg       0.97      0.97      0.97    123325\n",
            "\n"
          ],
          "name": "stdout"
        }
      ]
    },
    {
      "cell_type": "markdown",
      "metadata": {
        "id": "OAev3P9FOhTw"
      },
      "source": [
        "# **logistic regression**"
      ]
    },
    {
      "cell_type": "code",
      "metadata": {
        "id": "572AYUcPOkz3"
      },
      "source": [
        "from sklearn.linear_model import LogisticRegression\n",
        "Lmodel = LogisticRegression ( multi_class = 'ovr' , solver = 'lbfgs' )"
      ],
      "execution_count": null,
      "outputs": []
    },
    {
      "cell_type": "code",
      "metadata": {
        "id": "HrkuOox0OtpP",
        "colab": {
          "base_uri": "https://localhost:8080/",
          "height": 108
        },
        "outputId": "85a6f0fc-abf1-43d2-8873-66b3e1b095d9"
      },
      "source": [
        "Lmodel . fit ( sent_vectors , y_train )"
      ],
      "execution_count": null,
      "outputs": [
        {
          "output_type": "execute_result",
          "data": {
            "text/plain": [
              "LogisticRegression(C=1.0, class_weight=None, dual=False, fit_intercept=True,\n",
              "                   intercept_scaling=1, l1_ratio=None, max_iter=100,\n",
              "                   multi_class='ovr', n_jobs=None, penalty='l2',\n",
              "                   random_state=None, solver='lbfgs', tol=0.0001, verbose=0,\n",
              "                   warm_start=False)"
            ]
          },
          "metadata": {
            "tags": []
          },
          "execution_count": 45
        }
      ]
    },
    {
      "cell_type": "markdown",
      "metadata": {
        "id": "7e8yXiOoV0su"
      },
      "source": [
        "## cross validation score for logistic regression "
      ]
    },
    {
      "cell_type": "code",
      "metadata": {
        "id": "dEDg9BY0V0Dy",
        "colab": {
          "base_uri": "https://localhost:8080/",
          "height": 54
        },
        "outputId": "475a6d14-564c-4e52-f4b2-786c8429dcc8"
      },
      "source": [
        "accuracy = cross_val_score(Lmodel, sent_vectors_cv, y_cv, scoring='accuracy', cv = 10)\n",
        "print(accuracy)"
      ],
      "execution_count": null,
      "outputs": [
        {
          "output_type": "stream",
          "text": [
            "[0.95013917 0.95280165 0.95558514 0.95159143 0.95304369 0.95219654\n",
            " 0.95582718 0.95376982 0.95219075 0.94916485]\n"
          ],
          "name": "stdout"
        }
      ]
    },
    {
      "cell_type": "code",
      "metadata": {
        "id": "VGoGQ9c0WMpi",
        "colab": {
          "base_uri": "https://localhost:8080/",
          "height": 35
        },
        "outputId": "f50a1e29-1873-412e-bad9-85433b6ebbe1"
      },
      "source": [
        "print(\"Accuracy of Model with Cross Validation is:\",accuracy.mean() * 100)"
      ],
      "execution_count": null,
      "outputs": [
        {
          "output_type": "stream",
          "text": [
            "Accuracy of Model with Cross Validation is: 95.26310220937185\n"
          ],
          "name": "stdout"
        }
      ]
    },
    {
      "cell_type": "code",
      "metadata": {
        "id": "HH6g5dZCWPS4",
        "colab": {
          "base_uri": "https://localhost:8080/",
          "height": 35
        },
        "outputId": "9ad4fa64-82be-43aa-dd89-652163b32bff"
      },
      "source": [
        "from sklearn.model_selection import cross_validate\n",
        "from sklearn.metrics import recall_score\n",
        "scoring = ['precision_macro', 'recall_macro']\n",
        "#clf = svm.SVC(kernel='linear', C=1, random_state=0)\n",
        "scores = cross_validate(smodel, sent_vectors_cv, y_cv, scoring=scoring)\n",
        "sorted(scores.keys())"
      ],
      "execution_count": null,
      "outputs": [
        {
          "output_type": "execute_result",
          "data": {
            "text/plain": [
              "['fit_time', 'score_time', 'test_precision_macro', 'test_recall_macro']"
            ]
          },
          "metadata": {
            "tags": []
          },
          "execution_count": 48
        }
      ]
    },
    {
      "cell_type": "code",
      "metadata": {
        "id": "gQxDzqSyWfmP",
        "colab": {
          "base_uri": "https://localhost:8080/",
          "height": 35
        },
        "outputId": "8fe0cc8d-5f04-4779-baec-14b3017f50f9"
      },
      "source": [
        "scores['test_recall_macro']"
      ],
      "execution_count": null,
      "outputs": [
        {
          "output_type": "execute_result",
          "data": {
            "text/plain": [
              "array([0.93051534, 0.93375057, 0.93037475, 0.92825006, 0.92611699])"
            ]
          },
          "metadata": {
            "tags": []
          },
          "execution_count": 49
        }
      ]
    },
    {
      "cell_type": "markdown",
      "metadata": {
        "id": "wf0DXoZfWg8X"
      },
      "source": [
        "**CLASSIFICATION** **REPORT**"
      ]
    },
    {
      "cell_type": "code",
      "metadata": {
        "id": "R_rjf7y6Ot1R"
      },
      "source": [
        "from sklearn . metrics import classification_report\n",
        "from sklearn . model_selection import cross_val_score\n",
        "\n",
        "y_test_pred  = Lmodel . predict ( sent_vectors_test )\n",
        "y_cv_pred = Lmodel . predict(sent_vectors_cv)"
      ],
      "execution_count": null,
      "outputs": []
    },
    {
      "cell_type": "code",
      "metadata": {
        "id": "LjrGXvTGOt7l",
        "colab": {
          "base_uri": "https://localhost:8080/",
          "height": 272
        },
        "outputId": "62d2d0ad-446a-48d4-8581-e10c9032731e"
      },
      "source": [
        "print ( 'Model accuracy %s' % accuracy_score ( y_cv , y_cv_pred ) )\n",
        "print ( 'accuracy normalized %s' % accuracy_score ( y_cv , y_cv_pred , normalize = False ) )\n",
        "print ( classification_report ( y_cv , y_cv_pred,target_names=label ) )"
      ],
      "execution_count": null,
      "outputs": [
        {
          "output_type": "stream",
          "text": [
            "Model accuracy 0.9537202885220506\n",
            "accuracy normalized 78804\n",
            "              precision    recall  f1-score   support\n",
            "\n",
            "         eco       0.83      0.74      0.78      4205\n",
            "         ent       0.92      0.91      0.92      6778\n",
            "         int       0.92      0.92      0.92      7052\n",
            "        sprt       0.99      0.98      0.98     11227\n",
            "       state       0.96      0.97      0.97     53366\n",
            "\n",
            "    accuracy                           0.95     82628\n",
            "   macro avg       0.92      0.91      0.91     82628\n",
            "weighted avg       0.95      0.95      0.95     82628\n",
            "\n"
          ],
          "name": "stdout"
        }
      ]
    },
    {
      "cell_type": "code",
      "metadata": {
        "id": "kNZRtGyxOt5G",
        "colab": {
          "base_uri": "https://localhost:8080/",
          "height": 272
        },
        "outputId": "6891c8d5-9b5f-4e7a-ba9d-66ef3c9fb57f"
      },
      "source": [
        "print ( 'Model accuracy %s' % accuracy_score ( y_test , y_test_pred ) )\n",
        "print ( 'accuracy normalized %s' % accuracy_score ( y_test , y_test_pred , normalize = False ) )\n",
        "print ( classification_report ( y_test , y_test_pred ) )"
      ],
      "execution_count": null,
      "outputs": [
        {
          "output_type": "stream",
          "text": [
            "Model accuracy 0.9532860328400568\n",
            "accuracy normalized 117564\n",
            "              precision    recall  f1-score   support\n",
            "\n",
            "         eco       0.82      0.74      0.78      6212\n",
            "         ent       0.92      0.92      0.92      9833\n",
            "         int       0.92      0.92      0.92     10525\n",
            "        sprt       0.98      0.98      0.98     16905\n",
            "       state       0.96      0.97      0.97     79850\n",
            "\n",
            "    accuracy                           0.95    123325\n",
            "   macro avg       0.92      0.91      0.91    123325\n",
            "weighted avg       0.95      0.95      0.95    123325\n",
            "\n"
          ],
          "name": "stdout"
        }
      ]
    },
    {
      "cell_type": "markdown",
      "metadata": {
        "id": "FpFY8dK0QIsz"
      },
      "source": [
        "# **Random Forest**"
      ]
    },
    {
      "cell_type": "code",
      "metadata": {
        "id": "buY_rhksQYTW"
      },
      "source": [
        "from sklearn.ensemble import RandomForestClassifier\n",
        "Rmodel = RandomForestClassifier ( n_estimators=100 )"
      ],
      "execution_count": null,
      "outputs": []
    },
    {
      "cell_type": "code",
      "metadata": {
        "id": "gXksc8OsQYg_",
        "colab": {
          "base_uri": "https://localhost:8080/",
          "height": 163
        },
        "outputId": "045569b1-1b62-42d0-8dd8-5956e09edb29"
      },
      "source": [
        "Rmodel . fit ( sent_vectors , y_train )"
      ],
      "execution_count": null,
      "outputs": [
        {
          "output_type": "execute_result",
          "data": {
            "text/plain": [
              "RandomForestClassifier(bootstrap=True, ccp_alpha=0.0, class_weight=None,\n",
              "                       criterion='gini', max_depth=None, max_features='auto',\n",
              "                       max_leaf_nodes=None, max_samples=None,\n",
              "                       min_impurity_decrease=0.0, min_impurity_split=None,\n",
              "                       min_samples_leaf=1, min_samples_split=2,\n",
              "                       min_weight_fraction_leaf=0.0, n_estimators=100,\n",
              "                       n_jobs=None, oob_score=False, random_state=None,\n",
              "                       verbose=0, warm_start=False)"
            ]
          },
          "metadata": {
            "tags": []
          },
          "execution_count": 27
        }
      ]
    },
    {
      "cell_type": "markdown",
      "metadata": {
        "id": "m--NpQBDW3Ni"
      },
      "source": [
        "# **CROSS VALIDATION**"
      ]
    },
    {
      "cell_type": "code",
      "metadata": {
        "id": "3i2HlYoOW7re",
        "colab": {
          "base_uri": "https://localhost:8080/",
          "height": 54
        },
        "outputId": "8ea52e40-9882-459b-dfae-1a6c3da2c0b4"
      },
      "source": [
        "accuracy = cross_val_score(Rmodel, sent_vectors_cv, y_cv, scoring='accuracy', cv = 10)\n",
        "print(accuracy)"
      ],
      "execution_count": null,
      "outputs": [
        {
          "output_type": "stream",
          "text": [
            "[0.93912623 0.94215176 0.93852112 0.93852112 0.94045746 0.94057848\n",
            " 0.94021542 0.94057848 0.93948197 0.93851368]\n"
          ],
          "name": "stdout"
        }
      ]
    },
    {
      "cell_type": "code",
      "metadata": {
        "id": "MBhmxfZMXDZa",
        "colab": {
          "base_uri": "https://localhost:8080/",
          "height": 35
        },
        "outputId": "e9d07d68-43f5-4479-b2be-38e86c078526"
      },
      "source": [
        "print(\"Accuracy of Model with Cross Validation is:\",accuracy.mean() * 100)"
      ],
      "execution_count": null,
      "outputs": [
        {
          "output_type": "stream",
          "text": [
            "Accuracy of Model with Cross Validation is: 93.98145709263306\n"
          ],
          "name": "stdout"
        }
      ]
    },
    {
      "cell_type": "code",
      "metadata": {
        "id": "nBchuCDjXX6-",
        "colab": {
          "base_uri": "https://localhost:8080/",
          "height": 35
        },
        "outputId": "ae3c2eab-cc3e-41d1-db14-00705bf006e0"
      },
      "source": [
        "from sklearn.model_selection import cross_validate\n",
        "from sklearn.metrics import recall_score\n",
        "scoring = ['precision_macro', 'recall_macro']\n",
        "scores = cross_validate(smodel, sent_vectors_cv, y_cv, scoring=scoring)\n",
        "sorted(scores.keys())\n",
        "\n",
        "scores['test_recall_macro']"
      ],
      "execution_count": null,
      "outputs": [
        {
          "output_type": "execute_result",
          "data": {
            "text/plain": [
              "array([0.93051534, 0.93375057, 0.93037475, 0.92825006, 0.92611699])"
            ]
          },
          "metadata": {
            "tags": []
          },
          "execution_count": 57
        }
      ]
    },
    {
      "cell_type": "markdown",
      "metadata": {
        "id": "q8U-k_ktXp37"
      },
      "source": [
        "# **CLASSIFICATION REPORT**"
      ]
    },
    {
      "cell_type": "code",
      "metadata": {
        "id": "IQ8q_Ex7QYku"
      },
      "source": [
        "from sklearn . metrics import classification_report\n",
        "from sklearn . model_selection import cross_val_score\n",
        "\n",
        "y_test_pred  = Rmodel . predict ( sent_vectors_test )\n",
        "y_cv_pred = Rmodel . predict(sent_vectors_cv)"
      ],
      "execution_count": null,
      "outputs": []
    },
    {
      "cell_type": "code",
      "metadata": {
        "id": "7vBwTdNFQYqM",
        "colab": {
          "base_uri": "https://localhost:8080/",
          "height": 272
        },
        "outputId": "98c1c667-48bb-44f5-9208-03ec43b5ff92"
      },
      "source": [
        "print ( 'Model accuracy %s' % accuracy_score ( y_cv , y_cv_pred ) )\n",
        "print ( 'accuracy normalized %s' % accuracy_score ( y_cv , y_cv_pred , normalize = False ) )\n",
        "print ( classification_report ( y_cv , y_cv_pred,target_names=label ) )"
      ],
      "execution_count": null,
      "outputs": [
        {
          "output_type": "stream",
          "text": [
            "Model accuracy 0.9434211163286054\n",
            "accuracy normalized 77953\n",
            "              precision    recall  f1-score   support\n",
            "\n",
            "         eco       0.85      0.69      0.76      4205\n",
            "         ent       0.91      0.89      0.90      6778\n",
            "         int       0.91      0.85      0.88      7052\n",
            "        sprt       0.99      0.97      0.98     11227\n",
            "       state       0.95      0.98      0.96     53366\n",
            "\n",
            "    accuracy                           0.94     82628\n",
            "   macro avg       0.92      0.88      0.90     82628\n",
            "weighted avg       0.94      0.94      0.94     82628\n",
            "\n"
          ],
          "name": "stdout"
        }
      ]
    },
    {
      "cell_type": "code",
      "metadata": {
        "id": "eHDsKjCdREsl",
        "colab": {
          "base_uri": "https://localhost:8080/",
          "height": 272
        },
        "outputId": "3edbee27-8fa1-4ac5-91b7-aa6fc4ff02fe"
      },
      "source": [
        "print ( 'Model accuracy %s' % accuracy_score ( y_test , y_test_pred ) )\n",
        "print ( 'accuracy normalized %s' % accuracy_score ( y_test , y_test_pred , normalize = False ) )\n",
        "print ( classification_report ( y_test , y_test_pred ) )"
      ],
      "execution_count": null,
      "outputs": [
        {
          "output_type": "stream",
          "text": [
            "Model accuracy 0.9441475775390229\n",
            "accuracy normalized 116437\n",
            "              precision    recall  f1-score   support\n",
            "\n",
            "         eco       0.84      0.69      0.76      6212\n",
            "         ent       0.92      0.89      0.90      9833\n",
            "         int       0.91      0.85      0.88     10525\n",
            "        sprt       0.99      0.97      0.98     16905\n",
            "       state       0.95      0.98      0.96     79850\n",
            "\n",
            "    accuracy                           0.94    123325\n",
            "   macro avg       0.92      0.88      0.90    123325\n",
            "weighted avg       0.94      0.94      0.94    123325\n",
            "\n"
          ],
          "name": "stdout"
        }
      ]
    },
    {
      "cell_type": "markdown",
      "metadata": {
        "id": "FgTnuzFpRcJA"
      },
      "source": [
        "# **Decission Tree**"
      ]
    },
    {
      "cell_type": "code",
      "metadata": {
        "id": "uWzR2PVhRift"
      },
      "source": [
        "from sklearn.tree import DecisionTreeClassifier\n",
        "Dmodel = DecisionTreeClassifier (random_state=0, max_depth=2)                "
      ],
      "execution_count": null,
      "outputs": []
    },
    {
      "cell_type": "code",
      "metadata": {
        "id": "w4f-rHTpRi_h",
        "colab": {
          "base_uri": "https://localhost:8080/",
          "height": 126
        },
        "outputId": "f3232c52-f1d2-4594-dfeb-c619a5b75b3f"
      },
      "source": [
        "Dmodel . fit ( sent_vectors , y_train )"
      ],
      "execution_count": null,
      "outputs": [
        {
          "output_type": "execute_result",
          "data": {
            "text/plain": [
              "DecisionTreeClassifier(ccp_alpha=0.0, class_weight=None, criterion='gini',\n",
              "                       max_depth=2, max_features=None, max_leaf_nodes=None,\n",
              "                       min_impurity_decrease=0.0, min_impurity_split=None,\n",
              "                       min_samples_leaf=1, min_samples_split=2,\n",
              "                       min_weight_fraction_leaf=0.0, presort='deprecated',\n",
              "                       random_state=0, splitter='best')"
            ]
          },
          "metadata": {
            "tags": []
          },
          "execution_count": 31
        }
      ]
    },
    {
      "cell_type": "markdown",
      "metadata": {
        "id": "BaWsZLZ9YHbz"
      },
      "source": [
        "# **CROSS VALIDATION**"
      ]
    },
    {
      "cell_type": "code",
      "metadata": {
        "id": "Hb5F8cHVX_wg",
        "colab": {
          "base_uri": "https://localhost:8080/",
          "height": 54
        },
        "outputId": "28d985eb-293e-4feb-8cc2-45c45c672ad5"
      },
      "source": [
        "accuracy = cross_val_score(Dmodel, sent_vectors_cv, y_cv, scoring='accuracy', cv = 10)\n",
        "print(accuracy)"
      ],
      "execution_count": null,
      "outputs": [
        {
          "output_type": "stream",
          "text": [
            "[0.80721288 0.80334019 0.80176691 0.79983057 0.80019363 0.79983057\n",
            " 0.80430836 0.8039453  0.80113774 0.80440571]\n"
          ],
          "name": "stdout"
        }
      ]
    },
    {
      "cell_type": "code",
      "metadata": {
        "id": "t38fwo9hYYU2",
        "colab": {
          "base_uri": "https://localhost:8080/",
          "height": 35
        },
        "outputId": "620b7f5e-569b-4a9a-f3fb-18a128ec5428"
      },
      "source": [
        "print(\"Accuracy of Model with Cross Validation is:\",accuracy.mean() * 100)"
      ],
      "execution_count": null,
      "outputs": [
        {
          "output_type": "stream",
          "text": [
            "Accuracy of Model with Cross Validation is: 80.25971867778281\n"
          ],
          "name": "stdout"
        }
      ]
    },
    {
      "cell_type": "code",
      "metadata": {
        "id": "tDIBAOoTYmPg",
        "colab": {
          "base_uri": "https://localhost:8080/",
          "height": 35
        },
        "outputId": "b12d86b6-4b02-4f5f-80dd-4858d0e80882"
      },
      "source": [
        "from sklearn import metrics\n",
        "from sklearn.model_selection import cross_validate\n",
        "from sklearn.metrics import recall_score\n",
        "scoring = ['precision_macro', 'recall_macro']\n",
        "#clf = svm.SVC(kernel='linear', C=1, random_state=0)\n",
        "scores = cross_validate(Dmodel, sent_vectors_cv, y_cv, scoring=scoring)\n",
        "sorted(scores.keys())\n"
      ],
      "execution_count": null,
      "outputs": [
        {
          "output_type": "execute_result",
          "data": {
            "text/plain": [
              "['fit_time', 'score_time', 'test_precision_macro', 'test_recall_macro']"
            ]
          },
          "metadata": {
            "tags": []
          },
          "execution_count": 39
        }
      ]
    },
    {
      "cell_type": "code",
      "metadata": {
        "id": "yGLH1gyGUdfM",
        "colab": {
          "base_uri": "https://localhost:8080/",
          "height": 35
        },
        "outputId": "3e6b4214-d34a-4bbe-84c1-60a5610c4176"
      },
      "source": [
        "scores['test_recall_macro']"
      ],
      "execution_count": null,
      "outputs": [
        {
          "output_type": "execute_result",
          "data": {
            "text/plain": [
              "array([0.52259342, 0.51741328, 0.51368734, 0.51845153, 0.51914995])"
            ]
          },
          "metadata": {
            "tags": []
          },
          "execution_count": 40
        }
      ]
    },
    {
      "cell_type": "code",
      "metadata": {
        "id": "7vugRDIcRjFZ"
      },
      "source": [
        "y_test_pred  = Dmodel . predict ( sent_vectors_test )\n",
        "y_cv_pred = Dmodel . predict(sent_vectors_cv)"
      ],
      "execution_count": null,
      "outputs": []
    },
    {
      "cell_type": "code",
      "metadata": {
        "id": "YxuGKrN1RjKo",
        "colab": {
          "base_uri": "https://localhost:8080/",
          "height": 272
        },
        "outputId": "d86c315b-8e40-4927-bd79-013cef9dcb5c"
      },
      "source": [
        "print ( 'Model accuracy %s' % accuracy_score ( y_cv , y_cv_pred ) )\n",
        "print ( 'accuracy normalized %s' % accuracy_score ( y_cv , y_cv_pred , normalize = False ) )\n",
        "print ( classification_report ( y_cv , y_cv_pred,target_names=label ) )"
      ],
      "execution_count": null,
      "outputs": [
        {
          "output_type": "stream",
          "text": [
            "Model accuracy 0.8937043133078375\n",
            "accuracy normalized 73845\n",
            "              precision    recall  f1-score   support\n",
            "\n",
            "         eco       0.62      0.61      0.61      4205\n",
            "         ent       0.81      0.81      0.81      6778\n",
            "         int       0.75      0.76      0.76      7052\n",
            "        sprt       0.95      0.94      0.94     11227\n",
            "       state       0.93      0.93      0.93     53366\n",
            "\n",
            "    accuracy                           0.89     82628\n",
            "   macro avg       0.81      0.81      0.81     82628\n",
            "weighted avg       0.89      0.89      0.89     82628\n",
            "\n"
          ],
          "name": "stdout"
        }
      ]
    },
    {
      "cell_type": "code",
      "metadata": {
        "id": "_HhzJeqaRjDr",
        "colab": {
          "base_uri": "https://localhost:8080/",
          "height": 272
        },
        "outputId": "d956cdf6-03dd-4509-af83-feb5de59eff9"
      },
      "source": [
        "print ( 'Model accuracy %s' % accuracy_score ( y_test , y_test_pred ) )\n",
        "print ( 'accuracy normalized %s' % accuracy_score ( y_test , y_test_pred , normalize = False ) )\n",
        "print ( classification_report ( y_test , y_test_pred ) )"
      ],
      "execution_count": null,
      "outputs": [
        {
          "output_type": "stream",
          "text": [
            "Model accuracy 0.8052138658017434\n",
            "accuracy normalized 99303\n",
            "              precision    recall  f1-score   support\n",
            "\n",
            "         eco       0.00      0.00      0.00      6212\n",
            "         ent       0.65      0.79      0.71      9833\n",
            "         int       0.00      0.00      0.00     10525\n",
            "        sprt       0.92      0.83      0.87     16905\n",
            "       state       0.81      0.97      0.88     79850\n",
            "\n",
            "    accuracy                           0.81    123325\n",
            "   macro avg       0.47      0.52      0.49    123325\n",
            "weighted avg       0.70      0.81      0.75    123325\n",
            "\n"
          ],
          "name": "stdout"
        }
      ]
    },
    {
      "cell_type": "markdown",
      "metadata": {
        "id": "uC7vAFEOShdp"
      },
      "source": [
        "Multinomial Naivebayes(sklearn data transformation)"
      ]
    },
    {
      "cell_type": "code",
      "metadata": {
        "id": "EwW9CIx6JR09"
      },
      "source": [
        "from sklearn.pipeline import Pipeline\n",
        "from sklearn.pipeline import make_pipeline\n",
        "from sklearn.naive_bayes import MultinomialNB\n",
        "from sklearn.preprocessing import Binarizer\n",
        "Mmodel=make_pipeline(Binarizer(), MultinomialNB())"
      ],
      "execution_count": null,
      "outputs": []
    },
    {
      "cell_type": "code",
      "metadata": {
        "id": "YYBdmOi_Jdyw"
      },
      "source": [
        "from sklearn import preprocessing\n",
        "scaler = preprocessing.StandardScaler().fit(sent_vectors_train)\n",
        "sent_vectors_train_transformed = scaler.transform(sent_vectors_train)"
      ],
      "execution_count": null,
      "outputs": []
    },
    {
      "cell_type": "code",
      "metadata": {
        "id": "flxR32EPKdZp",
        "colab": {
          "base_uri": "https://localhost:8080/",
          "height": 108
        },
        "outputId": "8aac9910-ddc2-4b9d-f5f4-88707797ea6f"
      },
      "source": [
        "Mmodel.fit(sent_vectors_train_transformed, y_train)"
      ],
      "execution_count": null,
      "outputs": [
        {
          "output_type": "execute_result",
          "data": {
            "text/plain": [
              "Pipeline(memory=None,\n",
              "         steps=[('binarizer', Binarizer(copy=True, threshold=0.0)),\n",
              "                ('multinomialnb',\n",
              "                 MultinomialNB(alpha=1.0, class_prior=None, fit_prior=True))],\n",
              "         verbose=False)"
            ]
          },
          "metadata": {
            "tags": []
          },
          "execution_count": 45
        }
      ]
    },
    {
      "cell_type": "markdown",
      "metadata": {
        "id": "CFaO4nbyZOXt"
      },
      "source": [
        "# CROSS VALIDATION "
      ]
    },
    {
      "cell_type": "code",
      "metadata": {
        "id": "0GJsWtP8aDYT",
        "colab": {
          "base_uri": "https://localhost:8080/",
          "height": 54
        },
        "outputId": "536eb722-af2e-4c20-e120-f5eb708b86eb"
      },
      "source": [
        "#using k-fold\n",
        "accuracy = cross_val_score(Mmodel, sent_vectors_cv, y_cv, scoring='accuracy', cv = 10)\n",
        "print(accuracy)"
      ],
      "execution_count": null,
      "outputs": [
        {
          "output_type": "stream",
          "text": [
            "[0.8446085  0.85320102 0.84884425 0.85053855 0.84981242 0.84884425\n",
            " 0.85320102 0.84823914 0.8479787  0.85052046]\n"
          ],
          "name": "stdout"
        }
      ]
    },
    {
      "cell_type": "code",
      "metadata": {
        "id": "nhe_T5Z0aYEN",
        "colab": {
          "base_uri": "https://localhost:8080/",
          "height": 35
        },
        "outputId": "de1adcc3-27e9-4fa1-a01e-2b9edeb471d3"
      },
      "source": [
        "print(\"Accuracy of Model with Cross Validation is:\",accuracy.mean() * 100)"
      ],
      "execution_count": null,
      "outputs": [
        {
          "output_type": "stream",
          "text": [
            "Accuracy of Model with Cross Validation is: 84.95788272921789\n"
          ],
          "name": "stdout"
        }
      ]
    },
    {
      "cell_type": "code",
      "metadata": {
        "id": "MTEVZvUoalkp",
        "colab": {
          "base_uri": "https://localhost:8080/",
          "height": 35
        },
        "outputId": "4ff247ad-b0c6-4f82-e800-92298f702bfd"
      },
      "source": [
        "#using cross_validate function\n",
        "from sklearn.model_selection import cross_validate\n",
        "from sklearn.metrics import recall_score\n",
        "scoring = ['precision_macro', 'recall_macro']\n",
        "scores = cross_validate(Mmodel, sent_vectors_cv, y_cv, scoring=scoring)\n",
        "sorted(scores.keys())\n",
        "\n",
        "scores['test_recall_macro']"
      ],
      "execution_count": null,
      "outputs": [
        {
          "output_type": "execute_result",
          "data": {
            "text/plain": [
              "array([0.87877256, 0.87991589, 0.88032083, 0.88175404, 0.8740925 ])"
            ]
          },
          "metadata": {
            "tags": []
          },
          "execution_count": 51
        }
      ]
    },
    {
      "cell_type": "code",
      "metadata": {
        "id": "E-51sT-sKjLT"
      },
      "source": [
        "sent_vectors_test_transformed = scaler.transform(sent_vectors_test)\n",
        "y_test_pred  = Mmodel. predict ( sent_vectors_test_transformed )"
      ],
      "execution_count": null,
      "outputs": []
    },
    {
      "cell_type": "code",
      "metadata": {
        "id": "0hAavbui-5kV"
      },
      "source": [
        "from sklearn import metrics\n",
        "from sklearn . metrics import accuracy_score\n",
        "from sklearn.metrics import classification_report\n"
      ],
      "execution_count": null,
      "outputs": []
    },
    {
      "cell_type": "code",
      "metadata": {
        "id": "BtLNMiqY-90e",
        "colab": {
          "base_uri": "https://localhost:8080/",
          "height": 272
        },
        "outputId": "4184c5bf-73a4-4323-bdde-90aabeafbcce"
      },
      "source": [
        "print ( 'Model accuracy %s' % accuracy_score ( y_test , y_test_pred ) )\n",
        "print ( 'accuracy normalized %s' % accuracy_score ( y_test , y_test_pred , normalize = False ) )\n",
        "print ( classification_report ( y_test , y_test_pred,target_names=label ))"
      ],
      "execution_count": null,
      "outputs": [
        {
          "output_type": "stream",
          "text": [
            "Model accuracy 0.8467626190958849\n",
            "accuracy normalized 104427\n",
            "              precision    recall  f1-score   support\n",
            "\n",
            "         eco       0.42      0.88      0.57      6212\n",
            "         ent       0.75      0.90      0.82      9833\n",
            "         int       0.62      0.84      0.71     10525\n",
            "        sprt       0.98      0.93      0.95     16905\n",
            "       state       0.97      0.82      0.89     79850\n",
            "\n",
            "    accuracy                           0.85    123325\n",
            "   macro avg       0.74      0.88      0.79    123325\n",
            "weighted avg       0.89      0.85      0.86    123325\n",
            "\n"
          ],
          "name": "stdout"
        }
      ]
    }
  ]
}