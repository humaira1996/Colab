{
  "nbformat": 4,
  "nbformat_minor": 0,
  "metadata": {
    "accelerator": "GPU",
    "colab": {
      "name": "Copy of AVGword2vecwithCV.ipynb",
      "provenance": [],
      "collapsed_sections": [
        "uHvTONso-HQj",
        "ciz8UFsG6vet",
        "XTslD2qdnedA",
        "hmlmZZmIsUQ3",
        "f8tOYpiyxtZb",
        "OAev3P9FOhTw",
        "7e8yXiOoV0su",
        "q8U-k_ktXp37",
        "uC7vAFEOShdp",
        "CFaO4nbyZOXt"
      ],
      "machine_shape": "hm"
    },
    "kernelspec": {
      "display_name": "Python 3",
      "name": "python3"
    }
  },
  "cells": [
    {
      "cell_type": "markdown",
      "metadata": {
        "id": "4cbgwZWWfWpp"
      },
      "source": [
        "# New Section"
      ]
    },
    {
      "cell_type": "code",
      "metadata": {
        "id": "tAb77yZ9fzMG"
      },
      "source": [
        "%matplotlib inline\n",
        "import nltk\n",
        "from gensim.models import Word2Vec, KeyedVectors\n",
        "import numpy as np\n",
        "import pandas as pd\n",
        "import sqlite3\n",
        "import re\n",
        "import matplotlib.pyplot as plt\n",
        "#import nbconvert\n",
        "import warnings\n",
        "warnings.filterwarnings(\"ignore\")"
      ],
      "execution_count": null,
      "outputs": []
    },
    {
      "cell_type": "code",
      "metadata": {
        "colab": {
          "base_uri": "https://localhost:8080/"
        },
        "id": "e-I3yQbc7gAH",
        "outputId": "5ff2c0de-b0f1-4a56-a2b6-f5e82af0493f"
      },
      "source": [
        "from google.colab import drive\n",
        "drive.mount('/gdrive')"
      ],
      "execution_count": null,
      "outputs": [
        {
          "output_type": "stream",
          "text": [
            "Mounted at /gdrive\n"
          ],
          "name": "stdout"
        }
      ]
    },
    {
      "cell_type": "code",
      "metadata": {
        "colab": {
          "base_uri": "https://localhost:8080/"
        },
        "id": "e8Ya2SNa7nhX",
        "outputId": "605f4207-e2f4-459d-9223-1e527f1201e4"
      },
      "source": [
        "%cd /gdrive/My Driv/SM_FRIEND_NEWSDATA"
      ],
      "execution_count": null,
      "outputs": [
        {
          "output_type": "stream",
          "text": [
            "/gdrive/My Drive/SM_FRIEND_NEWSDATA\n"
          ],
          "name": "stdout"
        }
      ]
    },
    {
      "cell_type": "code",
      "metadata": {
        "id": "ShS8nASbzje0"
      },
      "source": [
        "#new clean data\n",
        "data = pd.read_csv('finalsamit_data.csv').apply(lambda x: x.astype(str).str.lower())"
      ],
      "execution_count": null,
      "outputs": []
    },
    {
      "cell_type": "code",
      "metadata": {
        "id": "lJzIFsDB7nkX"
      },
      "source": [
        "data.drop_duplicates(keep=False, inplace=True)"
      ],
      "execution_count": null,
      "outputs": []
    },
    {
      "cell_type": "code",
      "metadata": {
        "id": "lAnzl80z8LuE"
      },
      "source": [
        "stopwords = pd.read_csv('Stopwords.csv')\n",
        "\n",
        "def to_encode(bangla_word):\n",
        "    return bangla_word.encode('utf-8')\n",
        "\n",
        "\n",
        "def to_decode(bangla_word):\n",
        "    return bangla_word.decode('utf-8')\n",
        "\n",
        "set_stop = set(stopwords['words'].map(to_encode))"
      ],
      "execution_count": null,
      "outputs": []
    },
    {
      "cell_type": "code",
      "metadata": {
        "id": "B2vSXwG98LxI"
      },
      "source": [
        "from bengali_stemmer.rafikamal2014 import RafiStemmer\n",
        "stemmer = RafiStemmer()\n",
        "\n",
        "texts = data['text'].values"
      ],
      "execution_count": null,
      "outputs": []
    },
    {
      "cell_type": "code",
      "metadata": {
        "id": "XMqQAnu-0asu"
      },
      "source": [
        "import re\n",
        "def cleanhtml(sentence):\n",
        "    cleanr1 = re.compile('/.*?')\n",
        "    cleantext = re.sub(cleanr1,' ',sentence)\n",
        "    cleanr = re.compile('<.*?>|&([a-z0-9]+|#[0-9]{1,6}|#x[0-9a-f]{1,6});')\n",
        "    cleantext = re.sub(cleanr,' ',sentence)\n",
        "    return cleantext"
      ],
      "execution_count": null,
      "outputs": []
    },
    {
      "cell_type": "code",
      "metadata": {
        "id": "CM7StkKD8L2E"
      },
      "source": [
        "\n",
        "def clean_punct(sentence):\n",
        "    cleaned = re.sub(r'[?|!|\\'|\"|#|।|’|‘]', r'', sentence)\n",
        "    cleaned1 = re.sub(r'[.|,|(|)|\\|/]', r'', cleaned)\n",
        "    cleaned = re.sub(r'[০|১|২|৩|৪|৫|৬|৭|৮|৯]', r'', cleaned1)\n",
        "    cleaned1 = re.sub(r'[-|=]', r' ', cleaned)\n",
        "    cleaned = re.sub(r'[A|B|C|D|E|F|G|H|I|J|K|L|M|N|O|P|Q|R|S|T|U|V|W|X|Y|Z|a|b|c|d|e|f|g|h|i|j|k|l|m|n|o|p|q|r|s|t|u|v|w|x|y|z]', r'', cleaned1)\n",
        "    cleaned1 = re.sub(r'[1|2|3|4|5|6|7|8|9|0]', r'', cleaned)\n",
        "    return cleaned1"
      ],
      "execution_count": null,
      "outputs": []
    },
    {
      "cell_type": "code",
      "metadata": {
        "id": "o3L2oMam0rLv"
      },
      "source": [
        "def pre_process(data):\n",
        "    i=0\n",
        "    str1=' '\n",
        "    final_string = []\n",
        "    final_words = []\n",
        "    \n",
        "    s=''\n",
        "\n",
        "    for sentence in data:\n",
        "        filtered_sentence = []\n",
        "\n",
        "        for w in sentence.split():\n",
        "            for cleaned_word1 in cleanhtml(w).split():\n",
        "                for cleaned_word in clean_punct(cleaned_word1).split():\n",
        "                    if len(cleaned_word)>2:\n",
        "                        if(to_encode(cleaned_word) not in set_stop):\n",
        "                            s = stemmer.stem_word(cleaned_word)\n",
        "                            if len(s)>2:\n",
        "                                final_words.append(s)\n",
        "                                filtered_sentence.append(s)\n",
        "                        else:\n",
        "                            continue\n",
        "                    else:\n",
        "                        continue\n",
        "\n",
        "        str1 = \" \".join(filtered_sentence)\n",
        "        final_string.append(str1)\n",
        "    return final_string"
      ],
      "execution_count": null,
      "outputs": []
    },
    {
      "cell_type": "code",
      "metadata": {
        "id": "sxRsADbX8L93"
      },
      "source": [
        "X = pre_process(data['text'].values)\n",
        "#y = data['label'].values"
      ],
      "execution_count": null,
      "outputs": []
    },
    {
      "cell_type": "code",
      "metadata": {
        "id": "XHikP3OwIT3M"
      },
      "source": [
        "Y = data['label'].values"
      ],
      "execution_count": null,
      "outputs": []
    },
    {
      "cell_type": "code",
      "metadata": {
        "id": "q8Fj_MiS7nnE"
      },
      "source": [
        "from sklearn.model_selection import train_test_split\n",
        "# X_train, X_test, y_train, y_test = train_test_split(X, Y, test_size=0.33, shuffle=Flase)# this is for time series split\n",
        "X_train, X_test, y_train, y_test = train_test_split(X, Y, test_size=0.33,random_state=42) # this is random splitting\n",
        "X_train, X_cv, y_train, y_cv = train_test_split(X_train, y_train, test_size=0.33,random_state=42) # this is random splitting"
      ],
      "execution_count": null,
      "outputs": []
    },
    {
      "cell_type": "code",
      "metadata": {
        "colab": {
          "base_uri": "https://localhost:8080/"
        },
        "id": "7Hy19b25IcJk",
        "outputId": "c030f632-760a-4028-f32e-5d6b9567b9d0"
      },
      "source": [
        "label=np.unique(y_train)\n",
        "\n",
        "label"
      ],
      "execution_count": null,
      "outputs": [
        {
          "output_type": "execute_result",
          "data": {
            "text/plain": [
              "array(['eco', 'ent', 'int', 'sprt', 'state'], dtype=object)"
            ]
          },
          "metadata": {
            "tags": []
          },
          "execution_count": 14
        }
      ]
    },
    {
      "cell_type": "code",
      "metadata": {
        "id": "yPPDDCu07nqX"
      },
      "source": [
        "from sklearn.feature_extraction.text import CountVectorizer\n",
        "vectorizer = CountVectorizer()\n",
        "#vectorizer.fit(X_train) # fit has to happen only on train data"
      ],
      "execution_count": null,
      "outputs": []
    },
    {
      "cell_type": "markdown",
      "metadata": {
        "id": "RRlcHz_E8-dF"
      },
      "source": [
        "W2VEC MODEL"
      ]
    },
    {
      "cell_type": "code",
      "metadata": {
        "id": "qomjNA0u7nuF"
      },
      "source": [
        "i=0\n",
        "list_of_sentance_train=[]\n",
        "for sentance in X_train:\n",
        "    list_of_sentance_train.append(sentance.split())"
      ],
      "execution_count": null,
      "outputs": []
    },
    {
      "cell_type": "code",
      "metadata": {
        "id": "gl5Gr5Mg7nzi"
      },
      "source": [
        "from gensim.models import Word2Vec\n",
        "from gensim.models import KeyedVectors"
      ],
      "execution_count": null,
      "outputs": []
    },
    {
      "cell_type": "code",
      "metadata": {
        "id": "ky_nHcZG7n2n"
      },
      "source": [
        "# this line of code trains your w2v model on the give list of sentances\n",
        "w2v_model=Word2Vec(list_of_sentance_train,min_count=5,size=300, workers=10)"
      ],
      "execution_count": null,
      "outputs": []
    },
    {
      "cell_type": "code",
      "metadata": {
        "colab": {
          "base_uri": "https://localhost:8080/"
        },
        "id": "pafL7Li0jyXW",
        "outputId": "6f65ae54-b5ce-4e3e-dcb3-9125b5dc22cd"
      },
      "source": [
        "w2v_words = list(w2v_model.wv.vocab)\n",
        "print(\"number of words that occured minimum 5 times \",len(w2v_words))\n",
        "print(\"sample words \", w2v_words[0:50])"
      ],
      "execution_count": null,
      "outputs": [
        {
          "output_type": "stream",
          "text": [
            "number of words that occured minimum 5 times  102177\n",
            "sample words  ['মৌলভীবাজার', 'কমলগঞ্জ', 'উপজেলা', 'পুকুর', 'ডুব', 'সুমাইয়া', 'বেগম', 'নাম', 'দেড়', 'বছর', 'শিশুর', 'মৃত্যু', 'গতকাল', 'বেলা', 'দুই', 'আলীনগর', 'ইউনিয়ন', 'গ্রাম', 'ঘটনা', 'শিশু', 'পরিব', 'সূত্র', 'উপজেল', 'বস্তির', 'ইসমত', 'মিয়', 'শিশুকন্যা', 'মায়', 'মামা', 'তাহির', 'বাড়ি', 'বেড়া', 'দুপুর', 'অজান্', 'বাড়ির', 'পেছন', 'পানি', 'পড়', 'আধা', 'ঘণ্', 'পরিবার', 'লোকজন', 'মৃতদেহ', 'ভাস', 'দেখ', 'সাভার', 'রানা', 'প্লাজা', 'ঘটনায়', 'হত্যা']\n"
          ],
          "name": "stdout"
        }
      ]
    },
    {
      "cell_type": "code",
      "metadata": {
        "id": "ExW6fq-79UI_"
      },
      "source": [
        "from tqdm import tqdm\n",
        "import numpy as np"
      ],
      "execution_count": null,
      "outputs": []
    },
    {
      "cell_type": "markdown",
      "metadata": {
        "id": "mf61NM2e9Yx1"
      },
      "source": [
        "CONVERT TRAINDATA TEXT"
      ]
    },
    {
      "cell_type": "code",
      "metadata": {
        "colab": {
          "base_uri": "https://localhost:8080/"
        },
        "id": "sN2B9_6y9cP9",
        "outputId": "cb3ac957-e10d-491b-b196-dae8d5c78bd6"
      },
      "source": [
        "# average Word2Vec\n",
        "# compute average word2vec for each review.\n",
        "sent_vectors = []; # the avg-w2v for each sentence/review is stored in this list\n",
        "for sent in tqdm(list_of_sentance_train): # for each review/sentence\n",
        "    sent_vec = np.zeros(300) # as word vectors are of zero length 50, you might need to change this to 300 if you use google's w2v\n",
        "    cnt_words =0; # num of words with a valid vector in the sentence/review\n",
        "    for word in sent: # for each word in a review/sentence\n",
        "        if word in w2v_words:\n",
        "            vec = w2v_model.wv[word]\n",
        "            sent_vec += vec\n",
        "            cnt_words += 1\n",
        "    if cnt_words != 0:\n",
        "        sent_vec /= cnt_words\n",
        "    sent_vectors.append(sent_vec)\n",
        "sent_vectors_train = np.array(sent_vectors)\n",
        "#print(np.asarray(sent_vectors).shape)\n",
        "#print(sent_vectors[0])\n",
        "\n",
        "#print(np.asarray(X).shape)"
      ],
      "execution_count": null,
      "outputs": [
        {
          "output_type": "stream",
          "text": [
            "100%|██████████| 167759/167759 [1:52:52<00:00, 24.77it/s]\n"
          ],
          "name": "stderr"
        }
      ]
    },
    {
      "cell_type": "markdown",
      "metadata": {
        "id": "lmjhHuP_9qp5"
      },
      "source": [
        "CONVERTING CV DATA TEXT"
      ]
    },
    {
      "cell_type": "code",
      "metadata": {
        "id": "P3C4N-kw9twq"
      },
      "source": [
        "i=0\n",
        "list_of_sentance_cv=[]\n",
        "for sentance in X_cv:\n",
        "    list_of_sentance_cv.append(sentance.split())"
      ],
      "execution_count": null,
      "outputs": []
    },
    {
      "cell_type": "code",
      "metadata": {
        "id": "p9y-xE1P9t10",
        "colab": {
          "base_uri": "https://localhost:8080/"
        },
        "outputId": "480ed6be-f65d-4da3-d55c-2ba8459c523f"
      },
      "source": [
        "# average Word2Vec\n",
        "# compute average word2vec for each review.\n",
        "sent_vectors_cv = []; # the avg-w2v for each sentence/review is stored in this list\n",
        "for sent in tqdm(list_of_sentance_cv): # for each review/sentence\n",
        "    sent_vec = np.zeros(300) # as word vectors are of zero length 50, you might need to change this to 300 if you use google's w2v\n",
        "    cnt_words =0; # num of words with a valid vector in the sentence/review\n",
        "    for word in sent: # for each word in a review/sentence\n",
        "        if word in w2v_words:\n",
        "            vec = w2v_model.wv[word]\n",
        "            sent_vec += vec\n",
        "            cnt_words += 1\n",
        "    if cnt_words != 0:\n",
        "        sent_vec /= cnt_words\n",
        "    sent_vectors_cv.append(sent_vec)\n",
        "sent_vectors_cv = np.array(sent_vectors_cv)\n",
        "#print(np.asarray(sent_vectors_cv).shape)\n",
        "#print(sent_vectors_cv[0])"
      ],
      "execution_count": null,
      "outputs": [
        {
          "output_type": "stream",
          "text": [
            "100%|██████████| 82628/82628 [57:41<00:00, 23.87it/s]\n"
          ],
          "name": "stderr"
        }
      ]
    },
    {
      "cell_type": "markdown",
      "metadata": {
        "id": "gb5oMgIp92is"
      },
      "source": [
        "CONVERTING TEST DATA TEXT"
      ]
    },
    {
      "cell_type": "code",
      "metadata": {
        "id": "BUUzyqB69t44"
      },
      "source": [
        "i=0\n",
        "list_of_sentance_test=[]\n",
        "for sentance in X_test:\n",
        "    list_of_sentance_test.append(sentance.split())"
      ],
      "execution_count": null,
      "outputs": []
    },
    {
      "cell_type": "code",
      "metadata": {
        "id": "_sDECRrm9t7v",
        "collapsed": true,
        "colab": {
          "base_uri": "https://localhost:8080/"
        },
        "outputId": "27ed8c49-7d9e-4227-c7ff-be96c3122c44"
      },
      "source": [
        "# average Word2Vec\n",
        "# compute average word2vec for each review.\n",
        "sent_vectors_test = []; # the avg-w2v for each sentence/review is stored in this list\n",
        "for sent in tqdm(list_of_sentance_test): # for each review/sentence\n",
        "    sent_vec = np.zeros(300) # as word vectors are of zero length 50, you might need to change this to 300 if you use google's w2v\n",
        "    cnt_words =0; # num of words with a valid vector in the sentence/review\n",
        "    for word in sent: # for each word in a review/sentence\n",
        "        if word in w2v_words:\n",
        "            vec = w2v_model.wv[word]\n",
        "            sent_vec += vec\n",
        "            cnt_words += 1\n",
        "    if cnt_words != 0:\n",
        "        sent_vec /= cnt_words\n",
        "    sent_vectors_test.append(sent_vec)\n",
        "sent_vectors_test = np.array(sent_vectors_test)\n",
        "#print(np.asarray(sent_vectors_test).shape)\n",
        "#print(sent_vectors_test[0])"
      ],
      "execution_count": null,
      "outputs": [
        {
          "output_type": "stream",
          "text": [
            "100%|██████████| 123325/123325 [1:25:22<00:00, 24.08it/s]\n"
          ],
          "name": "stderr"
        }
      ]
    },
    {
      "cell_type": "markdown",
      "metadata": {
        "id": "uHvTONso-HQj"
      },
      "source": [
        "FIT WITH A MODEL \n",
        "# **GaussianNB classifier**"
      ]
    },
    {
      "cell_type": "code",
      "metadata": {
        "id": "Y3J8B-gS-LYt"
      },
      "source": [
        "from sklearn . naive_bayes import GaussianNB\n",
        "from sklearn import metrics\n",
        "from sklearn . metrics import accuracy_score\n",
        "from sklearn . model_selection import cross_val_score"
      ],
      "execution_count": null,
      "outputs": []
    },
    {
      "cell_type": "code",
      "metadata": {
        "id": "ljWANlaH-Lc6"
      },
      "source": [
        "Gmodel = GaussianNB() . fit ( sent_vectors , y_train )\n",
        "\n",
        " #neigh.fit(sent_vectors_train, y_train)"
      ],
      "execution_count": null,
      "outputs": []
    },
    {
      "cell_type": "markdown",
      "metadata": {
        "id": "ciz8UFsG6vet"
      },
      "source": [
        "# *Cross validation for gaussian nb*"
      ]
    },
    {
      "cell_type": "code",
      "metadata": {
        "colab": {
          "base_uri": "https://localhost:8080/"
        },
        "id": "hzH0dJLrLXai",
        "outputId": "f6ff7494-16d5-48b5-e026-f9efa49266f4"
      },
      "source": [
        "#using k-fold\n",
        "\n",
        "accuracy = cross_val_score(Gmodel, sent_vectors_cv, y_cv, scoring='accuracy', cv = 10)\n",
        "print(accuracy)"
      ],
      "execution_count": null,
      "outputs": [
        {
          "output_type": "stream",
          "text": [
            "[0.85320102 0.84739199 0.8486022  0.8502965  0.84376135 0.85404817\n",
            " 0.84509258 0.84485054 0.85027838 0.84846284]\n"
          ],
          "name": "stdout"
        }
      ]
    },
    {
      "cell_type": "code",
      "metadata": {
        "colab": {
          "base_uri": "https://localhost:8080/"
        },
        "id": "3NW4bHQxLvRk",
        "outputId": "20bd66dd-57a5-4ba2-f8d7-4f8c7c3f58f6"
      },
      "source": [
        "print(\"Accuracy of Model with Cross Validation is:\",accuracy.mean() * 100)"
      ],
      "execution_count": null,
      "outputs": [
        {
          "output_type": "stream",
          "text": [
            "Accuracy of Model with Cross Validation is: 84.85985567133592\n"
          ],
          "name": "stdout"
        }
      ]
    },
    {
      "cell_type": "code",
      "metadata": {
        "colab": {
          "base_uri": "https://localhost:8080/"
        },
        "id": "SWKwLowo6QHj",
        "outputId": "8a871951-1c7d-4fb4-c075-483f7ba86fbe"
      },
      "source": [
        "#using cross_validate() function\n",
        "\n",
        "from sklearn.model_selection import cross_validate\n",
        "from sklearn.metrics import recall_score\n",
        "scoring = ['precision_macro', 'recall_macro']\n",
        "scores = cross_validate(Gmodel, sent_vectors_cv, y_cv, scoring=scoring)\n",
        "sorted(scores.keys())"
      ],
      "execution_count": null,
      "outputs": [
        {
          "output_type": "execute_result",
          "data": {
            "text/plain": [
              "['fit_time', 'score_time', 'test_precision_macro', 'test_recall_macro']"
            ]
          },
          "metadata": {
            "tags": []
          },
          "execution_count": 30
        }
      ]
    },
    {
      "cell_type": "code",
      "metadata": {
        "colab": {
          "base_uri": "https://localhost:8080/"
        },
        "id": "H4nTvyJs6tmg",
        "outputId": "a2b32d02-5fd7-4e5f-d256-6b2048a8a0dc"
      },
      "source": [
        "scores['test_recall_macro']"
      ],
      "execution_count": null,
      "outputs": [
        {
          "output_type": "execute_result",
          "data": {
            "text/plain": [
              "array([0.88671576, 0.88210566, 0.88434591, 0.87941815, 0.88469419])"
            ]
          },
          "metadata": {
            "tags": []
          },
          "execution_count": 31
        }
      ]
    },
    {
      "cell_type": "markdown",
      "metadata": {
        "id": "XTslD2qdnedA"
      },
      "source": [
        "# *accuracy for test data*"
      ]
    },
    {
      "cell_type": "code",
      "metadata": {
        "id": "kAd_7EDSSRbZ"
      },
      "source": [
        "from sklearn . metrics import classification_report"
      ],
      "execution_count": null,
      "outputs": []
    },
    {
      "cell_type": "code",
      "metadata": {
        "id": "z-wHKIDv-Lg7"
      },
      "source": [
        "\n",
        "y_test_pred  = Gmodel . predict ( sent_vectors_test )\n"
      ],
      "execution_count": null,
      "outputs": []
    },
    {
      "cell_type": "code",
      "metadata": {
        "id": "ZaSkQ7mkRKpb",
        "colab": {
          "base_uri": "https://localhost:8080/"
        },
        "outputId": "c29daf89-6824-4622-f6dc-f11cb889118d"
      },
      "source": [
        "#trainig accuracy for gaussian neigh bayes\n",
        "y_train_pred = Gmodel . predict(sent_vectors)\n",
        "print ( 'Model accuracy %s' % accuracy_score ( y_train , y_train_pred ) )"
      ],
      "execution_count": null,
      "outputs": [
        {
          "output_type": "stream",
          "text": [
            "Model accuracy 0.8489559427512086\n"
          ],
          "name": "stdout"
        }
      ]
    },
    {
      "cell_type": "code",
      "metadata": {
        "colab": {
          "base_uri": "https://localhost:8080/"
        },
        "id": "wzZZi4tb-flu",
        "outputId": "d4507fcb-209c-49fa-e022-3afa01f0e39a"
      },
      "source": [
        "\n",
        "print ( 'Model accuracy %s' % accuracy_score ( y_test , y_test_pred ) )\n",
        "print ( 'accuracy normalized %s' % accuracy_score ( y_test , y_test_pred , normalize = False ) )\n",
        "print ( classification_report ( y_test , y_test_pred ) )\n",
        "\n",
        "#xlabels . append ( \"Gaussian\" )\n",
        "#ylabels . append ( accuracy_score ( y_test , y_test_pred ) ) "
      ],
      "execution_count": null,
      "outputs": [
        {
          "output_type": "stream",
          "text": [
            "Model accuracy 0.8486438272856274\n",
            "accuracy normalized 104659\n",
            "              precision    recall  f1-score   support\n",
            "\n",
            "         eco       0.45      0.91      0.60      6189\n",
            "         ent       0.74      0.92      0.82     10005\n",
            "         int       0.59      0.87      0.70     10560\n",
            "        sprt       0.99      0.91      0.95     16643\n",
            "       state       0.97      0.82      0.89     79928\n",
            "\n",
            "    accuracy                           0.85    123325\n",
            "   macro avg       0.75      0.89      0.79    123325\n",
            "weighted avg       0.90      0.85      0.86    123325\n",
            "\n"
          ],
          "name": "stdout"
        }
      ]
    },
    {
      "cell_type": "code",
      "metadata": {
        "colab": {
          "base_uri": "https://localhost:8080/"
        },
        "id": "9ulqHVToRRNv",
        "outputId": "61b7dfbe-d794-4b91-df73-96622ca43295"
      },
      "source": [
        "print(label)"
      ],
      "execution_count": null,
      "outputs": [
        {
          "output_type": "stream",
          "text": [
            "['eco' 'ent' 'int' 'sprt' 'state']\n"
          ],
          "name": "stdout"
        }
      ]
    },
    {
      "cell_type": "code",
      "metadata": {
        "id": "9VXZA34xRxLh"
      },
      "source": [
        "label=np.array(['economics', 'entertainment', 'international', 'sports', 'state'], dtype=object)"
      ],
      "execution_count": null,
      "outputs": []
    },
    {
      "cell_type": "code",
      "metadata": {
        "colab": {
          "base_uri": "https://localhost:8080/",
          "height": 781
        },
        "id": "FSsczhngR6U-",
        "outputId": "be661bcc-4d5f-4a14-9c98-c03c8be6f4b0"
      },
      "source": [
        "%matplotlib inline\n",
        "import matplotlib.pyplot as plt\n",
        "from sklearn.metrics import confusion_matrix\n",
        "\n",
        "def plot_confusion_matrix(y_test, y_test_pred, classes,\n",
        "                          normalize=False,\n",
        "                          title=None,\n",
        "                          cmap=plt.cm.Blues):\n",
        "    \"\"\"\n",
        "    This function prints and plots the confusion matrix.\n",
        "    Normalization can be applied by setting `normalize=True`.\n",
        "    \"\"\"\n",
        "    if not title:\n",
        "        if normalize:\n",
        "            title = 'Normalized confusion matrix'\n",
        "        else:\n",
        "            title = 'Confusion matrix, without normalization'\n",
        "\n",
        "    # Compute confusion matrix\n",
        "    cm = confusion_matrix(y_test, y_test_pred)\n",
        "    if normalize:\n",
        "        cm = cm.astype('float') / cm.sum(axis=1)[:, np.newaxis]\n",
        "        print(\"Normalized confusion matrix\")\n",
        "    else:\n",
        "        print('Confusion matrix, without normalization')\n",
        "\n",
        "    print(cm)\n",
        "\n",
        "    fig, ax = plt.subplots()\n",
        "    im = ax.imshow(cm, interpolation='nearest', cmap=cmap)\n",
        "    ax.figure.colorbar(im, ax=ax)\n",
        "    # We want to show all ticks...\n",
        "    ax.set(xticks=np.arange(cm.shape[1]),\n",
        "           yticks=np.arange(cm.shape[0]),\n",
        "           # ... and label them with the respective list entries\n",
        "           xticklabels=label, yticklabels=label,\n",
        "           title=title,\n",
        "           ylabel='True label',\n",
        "           xlabel='Predicted label')\n",
        "\n",
        "    # Rotate the tick labels and set their alignment.\n",
        "    plt.setp(ax.get_xticklabels(), rotation=45, ha=\"right\",\n",
        "             rotation_mode=\"anchor\")\n",
        "\n",
        "    # Loop over data dimensions and create text annotations.\n",
        "    fmt = '.2f' if normalize else 'd'\n",
        "    thresh = cm.max() / 2.\n",
        "    for i in range(cm.shape[0]):\n",
        "        for j in range(cm.shape[1]):\n",
        "            ax.text(j, i, format(cm[i, j], fmt),\n",
        "                    ha=\"center\", va=\"center\",\n",
        "                    color=\"white\" if cm[i, j] > thresh else \"black\")\n",
        "    fig.tight_layout()\n",
        "    plt.xlim(-0.5, len(np.unique(y_test))-0.5) # ADD THIS LINE\n",
        "    plt.ylim(len(np.unique(y_test))-0.5, -0.5) # ADD THIS LINE\n",
        "    return ax\n",
        "\n",
        "\n",
        "np.set_printoptions(precision=2)\n",
        "\n",
        "# Plot non-normalized confusion matrix\n",
        "plot_confusion_matrix(y_test, y_test_pred, classes=label,\n",
        "                      title='Confusion matrix, without normalization')\n",
        "\n",
        "# Plot normalized confusion matrix\n",
        "plot_confusion_matrix(y_test, y_test_pred, classes=label, normalize=True,\n",
        "                      title='Normalized confusion matrix')\n",
        "\n",
        "plt.show()"
      ],
      "execution_count": null,
      "outputs": [
        {
          "output_type": "stream",
          "text": [
            "Confusion matrix, without normalization\n",
            "[[ 5638    63   140     3   345]\n",
            " [   72  9183   230    60   460]\n",
            " [  216   436  9144    11   753]\n",
            " [  143   439   504 15212   345]\n",
            " [ 6501  2301  5549    95 65482]]\n",
            "Normalized confusion matrix\n",
            "[[9.11e-01 1.02e-02 2.26e-02 4.85e-04 5.57e-02]\n",
            " [7.20e-03 9.18e-01 2.30e-02 6.00e-03 4.60e-02]\n",
            " [2.05e-02 4.13e-02 8.66e-01 1.04e-03 7.13e-02]\n",
            " [8.59e-03 2.64e-02 3.03e-02 9.14e-01 2.07e-02]\n",
            " [8.13e-02 2.88e-02 6.94e-02 1.19e-03 8.19e-01]]\n"
          ],
          "name": "stdout"
        },
        {
          "output_type": "display_data",
          "data": {
            "image/png": "[encoded data removed]",
            "text/plain": [
              "<Figure size 432x288 with 2 Axes>"
            ]
          },
          "metadata": {
            "tags": []
          }
        },
        {
          "output_type": "display_data",
          "data": {
            "image/png": "[encoded data removed]",
            "text/plain": [
              "<Figure size 432x288 with 2 Axes>"
            ]
          },
          "metadata": {
            "tags": []
          }
        }
      ]
    },
    {
      "cell_type": "markdown",
      "metadata": {
        "id": "0TT-DP65Ljc6"
      },
      "source": [
        "# **SVM classifier**"
      ]
    },
    {
      "cell_type": "code",
      "metadata": {
        "id": "XKTqSXFH32-N"
      },
      "source": [
        "import sklearn\n",
        "from sklearn import svm\n",
        "from sklearn . model_selection import cross_val_score"
      ],
      "execution_count": null,
      "outputs": []
    },
    {
      "cell_type": "code",
      "metadata": {
        "colab": {
          "base_uri": "https://localhost:8080/"
        },
        "id": "De5DTsLn36Nr",
        "outputId": "005f9f25-1663-4673-e561-fa8d2873d19e"
      },
      "source": [
        "smodel = svm . SVC ( C = 3, gamma = 'scale', kernel = 'rbf' )\n",
        "\n",
        "smodel . fit ( sent_vectors , y_train )\n",
        "\n"
      ],
      "execution_count": null,
      "outputs": [
        {
          "output_type": "execute_result",
          "data": {
            "text/plain": [
              "SVC(C=3, break_ties=False, cache_size=200, class_weight=None, coef0=0.0,\n",
              "    decision_function_shape='ovr', degree=3, gamma='scale', kernel='rbf',\n",
              "    max_iter=-1, probability=False, random_state=None, shrinking=True,\n",
              "    tol=0.001, verbose=False)"
            ]
          },
          "metadata": {
            "tags": []
          },
          "execution_count": 40
        }
      ]
    },
    {
      "cell_type": "markdown",
      "metadata": {
        "id": "hmlmZZmIsUQ3"
      },
      "source": [
        "# *Cross validation score for svm*"
      ]
    },
    {
      "cell_type": "code",
      "metadata": {
        "colab": {
          "base_uri": "https://localhost:8080/"
        },
        "id": "4pl05788ct0y",
        "outputId": "78d5fbac-6023-4bfe-cc24-2bf80b3bd18b"
      },
      "source": [
        "#using k-fold\n",
        "\n",
        "accuracy = cross_val_score(smodel, sent_vectors_cv, y_cv, scoring='accuracy', cv = 10)\n",
        "print(accuracy)\n",
        "\n",
        "#get the mean of each fold \n",
        "#print(\"Accuracy of Model with Cross Validation is:\",accuracy.mean() * 100)"
      ],
      "execution_count": null,
      "outputs": [
        {
          "output_type": "stream",
          "text": [
            "[0.96 0.96 0.96 0.96 0.96 0.96 0.96 0.96 0.96 0.96]\n"
          ],
          "name": "stdout"
        }
      ]
    },
    {
      "cell_type": "code",
      "metadata": {
        "colab": {
          "base_uri": "https://localhost:8080/"
        },
        "id": "7y-_YED4vAZQ",
        "outputId": "ca7371f1-1809-4bbe-9074-112d475ae42e"
      },
      "source": [
        "print(\"Accuracy of Model with Cross Validation is:\",accuracy.mean() * 100)"
      ],
      "execution_count": null,
      "outputs": [
        {
          "output_type": "stream",
          "text": [
            "Accuracy of Model with Cross Validation is: 96.22403704550356\n"
          ],
          "name": "stdout"
        }
      ]
    },
    {
      "cell_type": "markdown",
      "metadata": {
        "id": "4eKnBmjuF_fs"
      },
      "source": [
        "**Train** **accuracy**"
      ]
    },
    {
      "cell_type": "code",
      "metadata": {
        "id": "Us-F5KoDFxQU"
      },
      "source": [
        "y_train_pred  = smodel . predict ( sent_vectors )"
      ],
      "execution_count": null,
      "outputs": []
    },
    {
      "cell_type": "code",
      "metadata": {
        "colab": {
          "base_uri": "https://localhost:8080/"
        },
        "id": "Uz0DT2ymFXn8",
        "outputId": "5e365528-e293-4fdf-cb4b-9ec57a8cc991"
      },
      "source": [
        "print ( 'Model accuracy %s' % accuracy_score (  y_train , y_train_pred ) )"
      ],
      "execution_count": null,
      "outputs": [
        {
          "output_type": "stream",
          "text": [
            "Model accuracy 0.9776763094677484\n"
          ],
          "name": "stdout"
        }
      ]
    },
    {
      "cell_type": "markdown",
      "metadata": {
        "id": "f8tOYpiyxtZb"
      },
      "source": [
        "# *accuracy score for test data*"
      ]
    },
    {
      "cell_type": "code",
      "metadata": {
        "id": "n0I0RcUf4E4x"
      },
      "source": [
        "from sklearn . metrics import classification_report\n",
        "y_test_pred  = smodel . predict ( sent_vectors_test )\n",
        "#y_cv_pred = smodel . predict(sent_vectors_cv)"
      ],
      "execution_count": null,
      "outputs": []
    },
    {
      "cell_type": "code",
      "metadata": {
        "id": "bf_7XD-K_W0e"
      },
      "source": [
        "label=np.unique(y_train)"
      ],
      "execution_count": null,
      "outputs": []
    },
    {
      "cell_type": "code",
      "metadata": {
        "colab": {
          "base_uri": "https://localhost:8080/"
        },
        "id": "6Y5HPeZ62vgE",
        "outputId": "479c8fd1-2596-432b-d1cb-12cf1c06f55c"
      },
      "source": [
        "print ( 'Model accuracy %s' % accuracy_score ( y_test , y_test_pred ) )\n",
        "print ( 'accuracy normalized %s' % accuracy_score ( y_test , y_test_pred , normalize = False ) )\n",
        "print ( classification_report ( y_test , y_test_pred ) )"
      ],
      "execution_count": null,
      "outputs": [
        {
          "output_type": "stream",
          "text": [
            "Model accuracy 0.9662679910804784\n",
            "accuracy normalized 119165\n",
            "              precision    recall  f1-score   support\n",
            "\n",
            "         eco       0.83      0.83      0.83      6189\n",
            "         ent       0.94      0.94      0.94     10005\n",
            "         int       0.95      0.94      0.95     10560\n",
            "        sprt       0.99      0.99      0.99     16643\n",
            "       state       0.98      0.98      0.98     79928\n",
            "\n",
            "    accuracy                           0.97    123325\n",
            "   macro avg       0.94      0.94      0.94    123325\n",
            "weighted avg       0.97      0.97      0.97    123325\n",
            "\n"
          ],
          "name": "stdout"
        }
      ]
    },
    {
      "cell_type": "code",
      "metadata": {
        "colab": {
          "base_uri": "https://localhost:8080/",
          "height": 781
        },
        "id": "i2fTFfWDEQ8q",
        "outputId": "fb11d822-e13f-40e8-f58d-405ca768f857"
      },
      "source": [
        "%matplotlib inline\n",
        "import matplotlib.pyplot as plt\n",
        "from sklearn.metrics import confusion_matrix\n",
        "\n",
        "def plot_confusion_matrix(y_test, y_test_pred, classes,\n",
        "                          normalize=False,\n",
        "                          title=None,\n",
        "                          cmap=plt.cm.Blues):\n",
        "    \"\"\"\n",
        "    This function prints and plots the confusion matrix.\n",
        "    Normalization can be applied by setting `normalize=True`.\n",
        "    \"\"\"\n",
        "    if not title:\n",
        "        if normalize:\n",
        "            title = 'Normalized confusion matrix'\n",
        "        else:\n",
        "            title = 'Confusion matrix, without normalization'\n",
        "\n",
        "    # Compute confusion matrix\n",
        "    cm = confusion_matrix(y_test, y_test_pred)\n",
        "    if normalize:\n",
        "        cm = cm.astype('float') / cm.sum(axis=1)[:, np.newaxis]\n",
        "        print(\"Normalized confusion matrix\")\n",
        "    else:\n",
        "        print('Confusion matrix, without normalization')\n",
        "\n",
        "    print(cm)\n",
        "\n",
        "    fig, ax = plt.subplots()\n",
        "    im = ax.imshow(cm, interpolation='nearest', cmap=cmap)\n",
        "    ax.figure.colorbar(im, ax=ax)\n",
        "    # We want to show all ticks...\n",
        "    ax.set(xticks=np.arange(cm.shape[1]),\n",
        "           yticks=np.arange(cm.shape[0]),\n",
        "           # ... and label them with the respective list entries\n",
        "           xticklabels=label, yticklabels=label,\n",
        "           title=title,\n",
        "           ylabel='True label',\n",
        "           xlabel='Predicted label')\n",
        "\n",
        "    # Rotate the tick labels and set their alignment.\n",
        "    plt.setp(ax.get_xticklabels(), rotation=45, ha=\"right\",\n",
        "             rotation_mode=\"anchor\")\n",
        "\n",
        "    # Loop over data dimensions and create text annotations.\n",
        "    fmt = '.2f' if normalize else 'd'\n",
        "    thresh = cm.max() / 2.\n",
        "    for i in range(cm.shape[0]):\n",
        "        for j in range(cm.shape[1]):\n",
        "            ax.text(j, i, format(cm[i, j], fmt),\n",
        "                    ha=\"center\", va=\"center\",\n",
        "                    color=\"white\" if cm[i, j] > thresh else \"black\")\n",
        "    fig.tight_layout()\n",
        "    plt.xlim(-0.5, len(np.unique(y_test))-0.5) # ADD THIS LINE\n",
        "    plt.ylim(len(np.unique(y_test))-0.5, -0.5) # ADD THIS LINE\n",
        "    return ax\n",
        "\n",
        "\n",
        "np.set_printoptions(precision=2)\n",
        "\n",
        "# Plot non-normalized confusion matrix\n",
        "plot_confusion_matrix(y_test, y_test_pred, classes=label,\n",
        "                      title='Confusion matrix, without normalization')\n",
        "\n",
        "# Plot normalized confusion matrix\n",
        "plot_confusion_matrix(y_test, y_test_pred, classes=label, normalize=True,\n",
        "                      title='Normalized confusion matrix')\n",
        "\n",
        "plt.show()"
      ],
      "execution_count": null,
      "outputs": [
        {
          "output_type": "stream",
          "text": [
            "Confusion matrix, without normalization\n",
            "[[ 5117     9    70     9   984]\n",
            " [   16  9448    75    47   419]\n",
            " [   66   126  9963    31   374]\n",
            " [    8    57    30 16467    81]\n",
            " [  928   412   320    98 78170]]\n",
            "Normalized confusion matrix\n",
            "[[8.27e-01 1.45e-03 1.13e-02 1.45e-03 1.59e-01]\n",
            " [1.60e-03 9.44e-01 7.50e-03 4.70e-03 4.19e-02]\n",
            " [6.25e-03 1.19e-02 9.43e-01 2.94e-03 3.54e-02]\n",
            " [4.81e-04 3.42e-03 1.80e-03 9.89e-01 4.87e-03]\n",
            " [1.16e-02 5.15e-03 4.00e-03 1.23e-03 9.78e-01]]\n"
          ],
          "name": "stdout"
        },
        {
          "output_type": "display_data",
          "data": {
            "image/png": "[encoded data removed]",
            "text/plain": [
              "<Figure size 432x288 with 2 Axes>"
            ]
          },
          "metadata": {
            "tags": []
          }
        },
        {
          "output_type": "display_data",
          "data": {
            "image/png": "[encoded data removed]",
            "text/plain": [
              "<Figure size 432x288 with 2 Axes>"
            ]
          },
          "metadata": {
            "tags": []
          }
        }
      ]
    },
    {
      "cell_type": "markdown",
      "metadata": {
        "id": "OAev3P9FOhTw"
      },
      "source": [
        "# **logistic regression**"
      ]
    },
    {
      "cell_type": "code",
      "metadata": {
        "id": "572AYUcPOkz3"
      },
      "source": [
        "from sklearn.linear_model import LogisticRegression\n",
        "Lmodel = LogisticRegression ( multi_class = 'ovr' , solver = 'lbfgs' )"
      ],
      "execution_count": null,
      "outputs": []
    },
    {
      "cell_type": "code",
      "metadata": {
        "id": "HrkuOox0OtpP",
        "colab": {
          "base_uri": "https://localhost:8080/"
        },
        "outputId": "f8327241-2025-4ba4-d1b2-518d8a361831"
      },
      "source": [
        "Lmodel . fit ( sent_vectors , y_train )"
      ],
      "execution_count": null,
      "outputs": [
        {
          "output_type": "execute_result",
          "data": {
            "text/plain": [
              "LogisticRegression(C=1.0, class_weight=None, dual=False, fit_intercept=True,\n",
              "                   intercept_scaling=1, l1_ratio=None, max_iter=100,\n",
              "                   multi_class='ovr', n_jobs=None, penalty='l2',\n",
              "                   random_state=None, solver='lbfgs', tol=0.0001, verbose=0,\n",
              "                   warm_start=False)"
            ]
          },
          "metadata": {
            "tags": []
          },
          "execution_count": 50
        }
      ]
    },
    {
      "cell_type": "markdown",
      "metadata": {
        "id": "7e8yXiOoV0su"
      },
      "source": [
        "## cross validation score for logistic regression "
      ]
    },
    {
      "cell_type": "code",
      "metadata": {
        "colab": {
          "base_uri": "https://localhost:8080/"
        },
        "id": "dEDg9BY0V0Dy",
        "outputId": "3c79f8b5-502d-4e40-9b06-182ce91bef86"
      },
      "source": [
        "from sklearn import metrics\n",
        "from sklearn . metrics import accuracy_score\n",
        "from sklearn . model_selection import cross_val_score\n",
        "accuracy = cross_val_score(Lmodel, sent_vectors_cv, y_cv, scoring='accuracy', cv = 10)\n",
        "print(accuracy)"
      ],
      "execution_count": null,
      "outputs": [
        {
          "output_type": "stream",
          "text": [
            "[0.95691637 0.94832385 0.95134939 0.95268062 0.95304369 0.95147041\n",
            " 0.95134939 0.95752148 0.95352215 0.94577584]\n"
          ],
          "name": "stdout"
        }
      ]
    },
    {
      "cell_type": "code",
      "metadata": {
        "colab": {
          "base_uri": "https://localhost:8080/"
        },
        "id": "VGoGQ9c0WMpi",
        "outputId": "2ef8c826-342c-4a3d-f032-de07bf988a17"
      },
      "source": [
        "print(\"Accuracy of Model with Cross Validation is:\",accuracy.mean() * 100)"
      ],
      "execution_count": null,
      "outputs": [
        {
          "output_type": "stream",
          "text": [
            "Accuracy of Model with Cross Validation is: 95.21953200773424\n"
          ],
          "name": "stdout"
        }
      ]
    },
    {
      "cell_type": "code",
      "metadata": {
        "id": "R_rjf7y6Ot1R"
      },
      "source": [
        "from sklearn . metrics import classification_report\n",
        "from sklearn . model_selection import cross_val_score\n",
        "\n",
        "y_test_pred  = Lmodel . predict ( sent_vectors_test )\n",
        "y_train_pred = Lmodel . predict(sent_vectors)"
      ],
      "execution_count": null,
      "outputs": []
    },
    {
      "cell_type": "code",
      "metadata": {
        "id": "W1BmebxXMM8i",
        "colab": {
          "base_uri": "https://localhost:8080/"
        },
        "outputId": "5ebca3bf-91c6-482a-f2cc-f1aedc216158"
      },
      "source": [
        "#train accuracy\n",
        "print ( 'Model accuracy %s' % accuracy_score (  y_train , y_train_pred ) )"
      ],
      "execution_count": null,
      "outputs": [
        {
          "output_type": "stream",
          "text": [
            "Model accuracy 0.95505457233293\n"
          ],
          "name": "stdout"
        }
      ]
    },
    {
      "cell_type": "code",
      "metadata": {
        "colab": {
          "base_uri": "https://localhost:8080/"
        },
        "id": "kNZRtGyxOt5G",
        "outputId": "69cfdf5f-be3c-4631-d6b7-ccfef0a85746"
      },
      "source": [
        "print ( 'Model accuracy %s' % accuracy_score ( y_test , y_test_pred ) )\n",
        "print ( 'accuracy normalized %s' % accuracy_score ( y_test , y_test_pred , normalize = False ) )\n",
        "print ( classification_report ( y_test , y_test_pred,target_names=label  ) )"
      ],
      "execution_count": null,
      "outputs": [
        {
          "output_type": "stream",
          "text": [
            "Model accuracy 0.9541212244070545\n",
            "accuracy normalized 117667\n",
            "              precision    recall  f1-score   support\n",
            "\n",
            "         eco       0.82      0.74      0.78      6189\n",
            "         ent       0.92      0.92      0.92     10005\n",
            "         int       0.93      0.92      0.92     10560\n",
            "        sprt       0.98      0.98      0.98     16643\n",
            "       state       0.96      0.97      0.97     79928\n",
            "\n",
            "    accuracy                           0.95    123325\n",
            "   macro avg       0.92      0.91      0.91    123325\n",
            "weighted avg       0.95      0.95      0.95    123325\n",
            "\n"
          ],
          "name": "stdout"
        }
      ]
    },
    {
      "cell_type": "code",
      "metadata": {
        "id": "WNbGvfv8Twi7"
      },
      "source": [
        "label=np.array(['economics', 'entertainment', 'international', 'sports', 'state'], dtype=object)"
      ],
      "execution_count": null,
      "outputs": []
    },
    {
      "cell_type": "code",
      "metadata": {
        "id": "Z64v1lKdNFYm",
        "colab": {
          "base_uri": "https://localhost:8080/",
          "height": 778
        },
        "outputId": "931cc333-fec7-46b8-d38d-97969ee7ffdc"
      },
      "source": [
        "%matplotlib inline\n",
        "import matplotlib.pyplot as plt\n",
        "from sklearn.metrics import confusion_matrix\n",
        "\n",
        "def plot_confusion_matrix(y_test, y_test_pred, classes,\n",
        "                          normalize=False,\n",
        "                          title=None,\n",
        "                          cmap=plt.cm.Blues):\n",
        "    \"\"\"\n",
        "    This function prints and plots the confusion matrix.\n",
        "    Normalization can be applied by setting `normalize=True`.\n",
        "    \"\"\"\n",
        "    if not title:\n",
        "        if normalize:\n",
        "            title = 'Normalized confusion matrix'\n",
        "        else:\n",
        "            title = 'Confusion matrix, without normalization'\n",
        "\n",
        "    # Compute confusion matrix\n",
        "    cm = confusion_matrix(y_test, y_test_pred)\n",
        "    if normalize:\n",
        "        cm = cm.astype('float') / cm.sum(axis=1)[:, np.newaxis]\n",
        "        print(\"Normalized confusion matrix\")\n",
        "    else:\n",
        "        print('Confusion matrix, without normalization')\n",
        "\n",
        "    print(cm)\n",
        "\n",
        "    fig, ax = plt.subplots()\n",
        "    im = ax.imshow(cm, interpolation='nearest', cmap=cmap)\n",
        "    ax.figure.colorbar(im, ax=ax)\n",
        "    # We want to show all ticks...\n",
        "    ax.set(xticks=np.arange(cm.shape[1]),\n",
        "           yticks=np.arange(cm.shape[0]),\n",
        "           # ... and label them with the respective list entries\n",
        "           xticklabels=label, yticklabels=label,\n",
        "           title=title,\n",
        "           ylabel='True label',\n",
        "           xlabel='Predicted label')\n",
        "\n",
        "    # Rotate the tick labels and set their alignment.\n",
        "    plt.setp(ax.get_xticklabels(), rotation=45, ha=\"right\",\n",
        "             rotation_mode=\"anchor\")\n",
        "\n",
        "    # Loop over data dimensions and create text annotations.\n",
        "    fmt = '.2f' if normalize else 'd'\n",
        "    thresh = cm.max() / 2.\n",
        "    for i in range(cm.shape[0]):\n",
        "        for j in range(cm.shape[1]):\n",
        "            ax.text(j, i, format(cm[i, j], fmt),\n",
        "                    ha=\"center\", va=\"center\",\n",
        "                    color=\"white\" if cm[i, j] > thresh else \"black\")\n",
        "    fig.tight_layout()\n",
        "    plt.xlim(-0.5, len(np.unique(y_test))-0.5) # ADD THIS LINE\n",
        "    plt.ylim(len(np.unique(y_test))-0.5, -0.5) # ADD THIS LINE\n",
        "    return ax\n",
        "\n",
        "\n",
        "np.set_printoptions(precision=2)\n",
        "\n",
        "# Plot non-normalized confusion matrix\n",
        "plot_confusion_matrix(y_test, y_test_pred, classes=label,\n",
        "                      title='Confusion matrix, without normalization')\n",
        "\n",
        "# Plot normalized confusion matrix\n",
        "plot_confusion_matrix(y_test, y_test_pred, classes=label, normalize=True,\n",
        "                      title='Normalized confusion matrix')\n",
        "\n",
        "plt.show()"
      ],
      "execution_count": null,
      "outputs": [
        {
          "output_type": "stream",
          "text": [
            "Confusion matrix, without normalization\n",
            "[[ 4575    19   110    12  1473]\n",
            " [   10  9181   112    72   630]\n",
            " [   59   136  9714    24   627]\n",
            " [    4    75    57 16372   135]\n",
            " [  924   531   506   142 77825]]\n",
            "Normalized confusion matrix\n",
            "[[7.39e-01 3.07e-03 1.78e-02 1.94e-03 2.38e-01]\n",
            " [1.00e-03 9.18e-01 1.12e-02 7.20e-03 6.30e-02]\n",
            " [5.59e-03 1.29e-02 9.20e-01 2.27e-03 5.94e-02]\n",
            " [2.40e-04 4.51e-03 3.42e-03 9.84e-01 8.11e-03]\n",
            " [1.16e-02 6.64e-03 6.33e-03 1.78e-03 9.74e-01]]\n"
          ],
          "name": "stdout"
        },
        {
          "output_type": "display_data",
          "data": {
            "image/png": "[encoded data removed]",
            "text/plain": [
              "<Figure size 432x288 with 2 Axes>"
            ]
          },
          "metadata": {
            "tags": [],
            "needs_background": "light"
          }
        },
        {
          "output_type": "display_data",
          "data": {
            "image/png": "[encoded data removed]",
            "text/plain": [
              "<Figure size 432x288 with 2 Axes>"
            ]
          },
          "metadata": {
            "tags": [],
            "needs_background": "light"
          }
        }
      ]
    },
    {
      "cell_type": "markdown",
      "metadata": {
        "id": "FpFY8dK0QIsz"
      },
      "source": [
        "# **Random Forest**"
      ]
    },
    {
      "cell_type": "code",
      "metadata": {
        "id": "buY_rhksQYTW"
      },
      "source": [
        "from sklearn.ensemble import RandomForestClassifier\n",
        "Rmodel = RandomForestClassifier ( n_estimators=100 )"
      ],
      "execution_count": null,
      "outputs": []
    },
    {
      "cell_type": "code",
      "metadata": {
        "id": "gXksc8OsQYg_",
        "colab": {
          "base_uri": "https://localhost:8080/"
        },
        "outputId": "9ac371d5-68a3-4ea8-cedb-e80d2c9d5813"
      },
      "source": [
        "Rmodel . fit ( sent_vectors , y_train )"
      ],
      "execution_count": null,
      "outputs": [
        {
          "output_type": "execute_result",
          "data": {
            "text/plain": [
              "RandomForestClassifier(bootstrap=True, ccp_alpha=0.0, class_weight=None,\n",
              "                       criterion='gini', max_depth=None, max_features='auto',\n",
              "                       max_leaf_nodes=None, max_samples=None,\n",
              "                       min_impurity_decrease=0.0, min_impurity_split=None,\n",
              "                       min_samples_leaf=1, min_samples_split=2,\n",
              "                       min_weight_fraction_leaf=0.0, n_estimators=100,\n",
              "                       n_jobs=None, oob_score=False, random_state=None,\n",
              "                       verbose=0, warm_start=False)"
            ]
          },
          "metadata": {
            "tags": []
          },
          "execution_count": 27
        }
      ]
    },
    {
      "cell_type": "markdown",
      "metadata": {
        "id": "m--NpQBDW3Ni"
      },
      "source": [
        "# **CROSS VALIDATION**"
      ]
    },
    {
      "cell_type": "code",
      "metadata": {
        "id": "3i2HlYoOW7re",
        "colab": {
          "base_uri": "https://localhost:8080/"
        },
        "outputId": "882ea6df-e55a-4d07-a02f-33b04af6a93a"
      },
      "source": [
        "accuracy = cross_val_score(Rmodel, sent_vectors_cv, y_cv, scoring='accuracy', cv = 10)\n",
        "print(accuracy)"
      ],
      "execution_count": null,
      "outputs": [
        {
          "output_type": "stream",
          "text": [
            "[0.94481423 0.93706886 0.93997338 0.93755295 0.94057848 0.9390052\n",
            " 0.93646375 0.94118359 0.94008715 0.93851368]\n"
          ],
          "name": "stdout"
        }
      ]
    },
    {
      "cell_type": "code",
      "metadata": {
        "id": "MBhmxfZMXDZa"
      },
      "source": [
        "print(\"Accuracy of Model with Cross Validation is:\",accuracy.mean() * 100)"
      ],
      "execution_count": null,
      "outputs": []
    },
    {
      "cell_type": "markdown",
      "metadata": {
        "id": "q8U-k_ktXp37"
      },
      "source": [
        "# **CLASSIFICATION REPORT**"
      ]
    },
    {
      "cell_type": "code",
      "metadata": {
        "id": "IQ8q_Ex7QYku"
      },
      "source": [
        "from sklearn . metrics import classification_report\n",
        "from sklearn . model_selection import cross_val_score\n",
        "\n",
        "y_test_pred  = Rmodel . predict ( sent_vectors_test )\n",
        "y_train_pred = Rmodel . predict(sent_vectors)"
      ],
      "execution_count": null,
      "outputs": []
    },
    {
      "cell_type": "code",
      "metadata": {
        "id": "vD1ZB4SeNW7g",
        "colab": {
          "base_uri": "https://localhost:8080/"
        },
        "outputId": "f71a7c53-aba4-4225-8fb4-954452d1e4cc"
      },
      "source": [
        "#training accuracy\n",
        "print ( 'Model accuracy %s' % accuracy_score ( y_train , y_train_pred ) )"
      ],
      "execution_count": null,
      "outputs": [
        {
          "output_type": "stream",
          "text": [
            "Model accuracy 0.999982117203846\n"
          ],
          "name": "stdout"
        }
      ]
    },
    {
      "cell_type": "code",
      "metadata": {
        "id": "eHDsKjCdREsl",
        "colab": {
          "base_uri": "https://localhost:8080/"
        },
        "outputId": "f26f3b56-a06d-4318-9a1b-a867ca49458a"
      },
      "source": [
        "print ( 'Model accuracy %s' % accuracy_score ( y_test , y_test_pred ) )\n",
        "print ( 'accuracy normalized %s' % accuracy_score ( y_test , y_test_pred , normalize = False ) )\n",
        "print ( classification_report ( y_test , y_test_pred,target_names=label) )"
      ],
      "execution_count": null,
      "outputs": [
        {
          "output_type": "stream",
          "text": [
            "Model accuracy 0.9440421650111493\n",
            "accuracy normalized 116424\n",
            "              precision    recall  f1-score   support\n",
            "\n",
            "         eco       0.84      0.70      0.76      6189\n",
            "         ent       0.91      0.89      0.90     10005\n",
            "         int       0.91      0.85      0.88     10560\n",
            "        sprt       0.98      0.97      0.98     16643\n",
            "       state       0.95      0.98      0.96     79928\n",
            "\n",
            "    accuracy                           0.94    123325\n",
            "   macro avg       0.92      0.88      0.90    123325\n",
            "weighted avg       0.94      0.94      0.94    123325\n",
            "\n"
          ],
          "name": "stdout"
        }
      ]
    },
    {
      "cell_type": "code",
      "metadata": {
        "id": "se3J47FVOU8Q",
        "colab": {
          "base_uri": "https://localhost:8080/",
          "height": 781
        },
        "outputId": "33ddc4d2-f0e6-488c-fb20-6c4c32210d9f"
      },
      "source": [
        "label=np.array(['economics', 'entertainment', 'international', 'sports', 'state'], dtype=object)\n",
        "\n",
        "%matplotlib inline\n",
        "import matplotlib.pyplot as plt\n",
        "from sklearn.metrics import confusion_matrix\n",
        "def plot_confusion_matrix(y_test, y_test_pred, classes,\n",
        "                          normalize=False,\n",
        "                          title=None,\n",
        "                          cmap=plt.cm.Blues):\n",
        "    \"\"\"\n",
        "    This function prints and plots the confusion matrix.\n",
        "    Normalization can be applied by setting `normalize=True`.\n",
        "    \"\"\"\n",
        "    if not title:\n",
        "        if normalize:\n",
        "            title = 'Normalized confusion matrix'\n",
        "        else:\n",
        "            title = 'Confusion matrix, without normalization'\n",
        "\n",
        "    # Compute confusion matrix\n",
        "    cm = confusion_matrix(y_test, y_test_pred)\n",
        "    if normalize:\n",
        "        cm = cm.astype('float') / cm.sum(axis=1)[:, np.newaxis]\n",
        "        print(\"Normalized confusion matrix\")\n",
        "    else:\n",
        "        print('Confusion matrix, without normalization')\n",
        "\n",
        "    print(cm)\n",
        "\n",
        "    fig, ax = plt.subplots()\n",
        "    im = ax.imshow(cm, interpolation='nearest', cmap=cmap)\n",
        "    ax.figure.colorbar(im, ax=ax)\n",
        "    # We want to show all ticks...\n",
        "    ax.set(xticks=np.arange(cm.shape[1]),\n",
        "           yticks=np.arange(cm.shape[0]),\n",
        "           # ... and label them with the respective list entries\n",
        "           xticklabels=label, yticklabels=label,\n",
        "           title=title,\n",
        "           ylabel='True label',\n",
        "           xlabel='Predicted label')\n",
        "\n",
        "    # Rotate the tick labels and set their alignment.\n",
        "    plt.setp(ax.get_xticklabels(), rotation=45, ha=\"right\",\n",
        "             rotation_mode=\"anchor\")\n",
        "\n",
        "    # Loop over data dimensions and create text annotations.\n",
        "    fmt = '.2f' if normalize else 'd'\n",
        "    thresh = cm.max() / 2.\n",
        "    for i in range(cm.shape[0]):\n",
        "        for j in range(cm.shape[1]):\n",
        "            ax.text(j, i, format(cm[i, j], fmt),\n",
        "                    ha=\"center\", va=\"center\",\n",
        "                    color=\"white\" if cm[i, j] > thresh else \"black\")\n",
        "    fig.tight_layout()\n",
        "    plt.xlim(-0.5, len(np.unique(y_test))-0.5) # ADD THIS LINE\n",
        "    plt.ylim(len(np.unique(y_test))-0.5, -0.5) # ADD THIS LINE\n",
        "    return ax\n",
        "\n",
        "\n",
        "np.set_printoptions(precision=2)\n",
        "\n",
        "# Plot non-normalized confusion matrix\n",
        "plot_confusion_matrix(y_test, y_test_pred, classes=label,\n",
        "                      title='Confusion matrix, without normalization')\n",
        "\n",
        "# Plot normalized confusion matrix\n",
        "plot_confusion_matrix(y_test, y_test_pred, classes=label, normalize=True,\n",
        "                      title='Normalized confusion matrix')\n",
        "\n",
        "plt.show()"
      ],
      "execution_count": null,
      "outputs": [
        {
          "output_type": "stream",
          "text": [
            "Confusion matrix, without normalization\n",
            "[[ 4323    20    92    12  1742]\n",
            " [    5  8911   145    95   849]\n",
            " [   51   186  9009    27  1287]\n",
            " [    7   133   103 16133   267]\n",
            " [  765   493   501   121 78048]]\n",
            "Normalized confusion matrix\n",
            "[[6.98e-01 3.23e-03 1.49e-02 1.94e-03 2.81e-01]\n",
            " [5.00e-04 8.91e-01 1.45e-02 9.50e-03 8.49e-02]\n",
            " [4.83e-03 1.76e-02 8.53e-01 2.56e-03 1.22e-01]\n",
            " [4.21e-04 7.99e-03 6.19e-03 9.69e-01 1.60e-02]\n",
            " [9.57e-03 6.17e-03 6.27e-03 1.51e-03 9.76e-01]]\n"
          ],
          "name": "stdout"
        },
        {
          "output_type": "display_data",
          "data": {
            "image/png": "[encoded data removed]",
            "text/plain": [
              "<Figure size 432x288 with 2 Axes>"
            ]
          },
          "metadata": {
            "tags": [],
            "needs_background": "light"
          }
        },
        {
          "output_type": "display_data",
          "data": {
            "image/png": "[encoded data removed]",
            "text/plain": [
              "<Figure size 432x288 with 2 Axes>"
            ]
          },
          "metadata": {
            "tags": [],
            "needs_background": "light"
          }
        }
      ]
    },
    {
      "cell_type": "markdown",
      "metadata": {
        "id": "FgTnuzFpRcJA"
      },
      "source": [
        "# **Decission Tree**"
      ]
    },
    {
      "cell_type": "code",
      "metadata": {
        "id": "uWzR2PVhRift"
      },
      "source": [
        "from sklearn.tree import DecisionTreeClassifier\n",
        "Dmodel = DecisionTreeClassifier ()                "
      ],
      "execution_count": null,
      "outputs": []
    },
    {
      "cell_type": "code",
      "metadata": {
        "id": "w4f-rHTpRi_h",
        "colab": {
          "base_uri": "https://localhost:8080/"
        },
        "outputId": "39594ebb-1bab-4ef7-fa03-5ad8e1e94313"
      },
      "source": [
        "Dmodel . fit ( sent_vectors , y_train )"
      ],
      "execution_count": null,
      "outputs": [
        {
          "output_type": "execute_result",
          "data": {
            "text/plain": [
              "DecisionTreeClassifier(ccp_alpha=0.0, class_weight=None, criterion='gini',\n",
              "                       max_depth=None, max_features=None, max_leaf_nodes=None,\n",
              "                       min_impurity_decrease=0.0, min_impurity_split=None,\n",
              "                       min_samples_leaf=1, min_samples_split=2,\n",
              "                       min_weight_fraction_leaf=0.0, presort='deprecated',\n",
              "                       random_state=None, splitter='best')"
            ]
          },
          "metadata": {
            "tags": []
          },
          "execution_count": 33
        }
      ]
    },
    {
      "cell_type": "markdown",
      "metadata": {
        "id": "BaWsZLZ9YHbz"
      },
      "source": [
        "# **CROSS VALIDATION**"
      ]
    },
    {
      "cell_type": "code",
      "metadata": {
        "id": "Hb5F8cHVX_wg",
        "colab": {
          "base_uri": "https://localhost:8080/"
        },
        "outputId": "1e9d3bad-4506-4fde-b4b2-71c3708b3d18"
      },
      "source": [
        "accuracy = cross_val_score(Dmodel, sent_vectors_cv, y_cv, scoring='accuracy', cv = 10)\n",
        "print(accuracy)"
      ],
      "execution_count": null,
      "outputs": [
        {
          "output_type": "stream",
          "text": [
            "[0.89 0.88 0.89 0.89 0.89 0.89 0.88 0.89 0.89 0.88]\n"
          ],
          "name": "stdout"
        }
      ]
    },
    {
      "cell_type": "code",
      "metadata": {
        "id": "t38fwo9hYYU2",
        "colab": {
          "base_uri": "https://localhost:8080/"
        },
        "outputId": "5632bae2-8400-4f37-80be-db375b85dc6e"
      },
      "source": [
        "print(\"Accuracy of Model with Cross Validation is:\",accuracy.mean() * 100)"
      ],
      "execution_count": null,
      "outputs": [
        {
          "output_type": "stream",
          "text": [
            "Accuracy of Model with Cross Validation is: 88.70600475126993\n"
          ],
          "name": "stdout"
        }
      ]
    },
    {
      "cell_type": "code",
      "metadata": {
        "id": "7vugRDIcRjFZ"
      },
      "source": [
        "y_test_pred  = Dmodel . predict ( sent_vectors_test )\n",
        "y_train_pred = Dmodel . predict(sent_vectors)"
      ],
      "execution_count": null,
      "outputs": []
    },
    {
      "cell_type": "code",
      "metadata": {
        "id": "yJmWzYYoPl-Z",
        "colab": {
          "base_uri": "https://localhost:8080/"
        },
        "outputId": "e757a0a0-f198-4944-cd1e-0698b0a01a25"
      },
      "source": [
        "#trainaccuracy\n",
        "print ( 'Model accuracy %s' % accuracy_score ( y_train , y_train_pred ) )"
      ],
      "execution_count": null,
      "outputs": [
        {
          "output_type": "stream",
          "text": [
            "Model accuracy 0.9999880781358973\n"
          ],
          "name": "stdout"
        }
      ]
    },
    {
      "cell_type": "code",
      "metadata": {
        "id": "_HhzJeqaRjDr",
        "colab": {
          "base_uri": "https://localhost:8080/"
        },
        "outputId": "41898942-e6ad-4449-d30b-6b57f33d277e"
      },
      "source": [
        "print ( 'Model accuracy %s' % accuracy_score ( y_test , y_test_pred ) )\n",
        "print ( 'accuracy normalized %s' % accuracy_score ( y_test , y_test_pred , normalize = False ) )\n",
        "print ( classification_report ( y_test , y_test_pred,target_names = label ) )"
      ],
      "execution_count": null,
      "outputs": [
        {
          "output_type": "stream",
          "text": [
            "Model accuracy 0.8970687208595175\n",
            "accuracy normalized 110631\n",
            "               precision    recall  f1-score   support\n",
            "\n",
            "    economics       0.64      0.65      0.65      6189\n",
            "entertainment       0.82      0.81      0.81     10005\n",
            "international       0.77      0.76      0.77     10560\n",
            "       sports       0.94      0.94      0.94     16643\n",
            "        state       0.94      0.94      0.94     79928\n",
            "\n",
            "     accuracy                           0.90    123325\n",
            "    macro avg       0.82      0.82      0.82    123325\n",
            " weighted avg       0.90      0.90      0.90    123325\n",
            "\n"
          ],
          "name": "stdout"
        }
      ]
    },
    {
      "cell_type": "code",
      "metadata": {
        "id": "8OsDW7PJPgGK",
        "colab": {
          "base_uri": "https://localhost:8080/",
          "height": 781
        },
        "outputId": "7b4d97ea-453d-42e4-8c66-e7fe054b4679"
      },
      "source": [
        "label=np.array(['economics', 'entertainment', 'international', 'sports', 'state'], dtype=object)\n",
        "%matplotlib inline\n",
        "import matplotlib.pyplot as plt\n",
        "from sklearn.metrics import confusion_matrix\n",
        "def plot_confusion_matrix(y_test, y_test_pred, classes,\n",
        "                          normalize=False,\n",
        "                          title=None,\n",
        "                          cmap=plt.cm.Blues):\n",
        "    \"\"\"\n",
        "    This function prints and plots the confusion matrix.\n",
        "    Normalization can be applied by setting `normalize=True`.\n",
        "    \"\"\"\n",
        "    if not title:\n",
        "        if normalize:\n",
        "            title = 'Normalized confusion matrix'\n",
        "        else:\n",
        "            title = 'Confusion matrix, without normalization'\n",
        "\n",
        "    # Compute confusion matrix\n",
        "    cm = confusion_matrix(y_test, y_test_pred)\n",
        "    if normalize:\n",
        "        cm = cm.astype('float') / cm.sum(axis=1)[:, np.newaxis]\n",
        "        print(\"Normalized confusion matrix\")\n",
        "    else:\n",
        "        print('Confusion matrix, without normalization')\n",
        "\n",
        "    print(cm)\n",
        "\n",
        "    fig, ax = plt.subplots()\n",
        "    im = ax.imshow(cm, interpolation='nearest', cmap=cmap)\n",
        "    ax.figure.colorbar(im, ax=ax)\n",
        "    # We want to show all ticks...\n",
        "    ax.set(xticks=np.arange(cm.shape[1]),\n",
        "           yticks=np.arange(cm.shape[0]),\n",
        "           # ... and label them with the respective list entries\n",
        "           xticklabels=label, yticklabels=label,\n",
        "           title=title,\n",
        "           ylabel='True label',\n",
        "           xlabel='Predicted label')\n",
        "\n",
        "    # Rotate the tick labels and set their alignment.\n",
        "    plt.setp(ax.get_xticklabels(), rotation=45, ha=\"right\",\n",
        "             rotation_mode=\"anchor\")\n",
        "\n",
        "    # Loop over data dimensions and create text annotations.\n",
        "    fmt = '.2f' if normalize else 'd'\n",
        "    thresh = cm.max() / 2.\n",
        "    for i in range(cm.shape[0]):\n",
        "        for j in range(cm.shape[1]):\n",
        "            ax.text(j, i, format(cm[i, j], fmt),\n",
        "                    ha=\"center\", va=\"center\",\n",
        "                    color=\"white\" if cm[i, j] > thresh else \"black\")\n",
        "    fig.tight_layout()\n",
        "    plt.xlim(-0.5, len(np.unique(y_test))-0.5) # ADD THIS LINE\n",
        "    plt.ylim(len(np.unique(y_test))-0.5, -0.5) # ADD THIS LINE\n",
        "    return ax\n",
        "\n",
        "\n",
        "np.set_printoptions(precision=2)\n",
        "\n",
        "# Plot non-normalized confusion matrix\n",
        "plot_confusion_matrix(y_test, y_test_pred, classes=label,\n",
        "                      title='Confusion matrix, without normalization')\n",
        "\n",
        "# Plot normalized confusion matrix\n",
        "plot_confusion_matrix(y_test, y_test_pred, classes=label, normalize=True,\n",
        "                      title='Normalized confusion matrix')\n",
        "\n",
        "plt.show()"
      ],
      "execution_count": null,
      "outputs": [
        {
          "output_type": "stream",
          "text": [
            "Confusion matrix, without normalization\n",
            "[[ 4035    69   198    74  1813]\n",
            " [   61  8118   356   331  1139]\n",
            " [  213   349  8067   239  1692]\n",
            " [   81   294   232 15593   443]\n",
            " [ 1930  1122  1631   427 74818]]\n",
            "Normalized confusion matrix\n",
            "[[0.65 0.01 0.03 0.01 0.29]\n",
            " [0.01 0.81 0.04 0.03 0.11]\n",
            " [0.02 0.03 0.76 0.02 0.16]\n",
            " [0.   0.02 0.01 0.94 0.03]\n",
            " [0.02 0.01 0.02 0.01 0.94]]\n"
          ],
          "name": "stdout"
        },
        {
          "output_type": "display_data",
          "data": {
            "image/png": "[encoded data removed]",
            "text/plain": [
              "<Figure size 432x288 with 2 Axes>"
            ]
          },
          "metadata": {
            "tags": [],
            "needs_background": "light"
          }
        },
        {
          "output_type": "display_data",
          "data": {
            "image/png": "[encoded data removed]",
            "text/plain": [
              "<Figure size 432x288 with 2 Axes>"
            ]
          },
          "metadata": {
            "tags": [],
            "needs_background": "light"
          }
        }
      ]
    },
    {
      "cell_type": "markdown",
      "metadata": {
        "id": "uC7vAFEOShdp"
      },
      "source": [
        "# **Multinomial Naivebayes(sklearn data transformation)**"
      ]
    },
    {
      "cell_type": "code",
      "metadata": {
        "id": "EwW9CIx6JR09"
      },
      "source": [
        "from sklearn.pipeline import Pipeline\n",
        "from sklearn.pipeline import make_pipeline\n",
        "from sklearn.naive_bayes import MultinomialNB\n",
        "from sklearn.preprocessing import Binarizer\n",
        "Mmodel=make_pipeline(Binarizer(), MultinomialNB())"
      ],
      "execution_count": null,
      "outputs": []
    },
    {
      "cell_type": "code",
      "metadata": {
        "id": "YYBdmOi_Jdyw"
      },
      "source": [
        "from sklearn import preprocessing\n",
        "scaler = preprocessing.StandardScaler().fit(sent_vectors_train)\n",
        "sent_vectors_train_transformed = scaler.transform(sent_vectors_train)"
      ],
      "execution_count": null,
      "outputs": []
    },
    {
      "cell_type": "code",
      "metadata": {
        "id": "flxR32EPKdZp"
      },
      "source": [
        "Mmodel.fit(sent_vectors_train_transformed, y_train)"
      ],
      "execution_count": null,
      "outputs": []
    },
    {
      "cell_type": "markdown",
      "metadata": {
        "id": "CFaO4nbyZOXt"
      },
      "source": [
        "# CROSS VALIDATION "
      ]
    },
    {
      "cell_type": "code",
      "metadata": {
        "colab": {
          "base_uri": "https://localhost:8080/",
          "height": 54
        },
        "id": "0GJsWtP8aDYT",
        "outputId": "536eb722-af2e-4c20-e120-f5eb708b86eb"
      },
      "source": [
        "#using k-fold\n",
        "accuracy = cross_val_score(Mmodel, sent_vectors_cv, y_cv, scoring='accuracy', cv = 10)\n",
        "print(accuracy)"
      ],
      "execution_count": null,
      "outputs": [
        {
          "output_type": "stream",
          "text": [
            "[0.8446085  0.85320102 0.84884425 0.85053855 0.84981242 0.84884425\n",
            " 0.85320102 0.84823914 0.8479787  0.85052046]\n"
          ],
          "name": "stdout"
        }
      ]
    },
    {
      "cell_type": "code",
      "metadata": {
        "colab": {
          "base_uri": "https://localhost:8080/",
          "height": 35
        },
        "id": "nhe_T5Z0aYEN",
        "outputId": "de1adcc3-27e9-4fa1-a01e-2b9edeb471d3"
      },
      "source": [
        "print(\"Accuracy of Model with Cross Validation is:\",accuracy.mean() * 100)"
      ],
      "execution_count": null,
      "outputs": [
        {
          "output_type": "stream",
          "text": [
            "Accuracy of Model with Cross Validation is: 84.95788272921789\n"
          ],
          "name": "stdout"
        }
      ]
    },
    {
      "cell_type": "code",
      "metadata": {
        "id": "E-51sT-sKjLT"
      },
      "source": [
        "sent_vectors_test_transformed = scaler.transform(sent_vectors_test)\n",
        "y_test_pred  = Mmodel. predict ( sent_vectors_test_transformed )\n",
        "y_train_pred = Mmodel.predict (sent_vectors)"
      ],
      "execution_count": null,
      "outputs": []
    },
    {
      "cell_type": "code",
      "metadata": {
        "id": "M6uT1JzGaHVU"
      },
      "source": [
        "from sklearn import metrics\n",
        "from sklearn . metrics import accuracy_score"
      ],
      "execution_count": null,
      "outputs": []
    },
    {
      "cell_type": "code",
      "metadata": {
        "id": "DM-2CSzkQFiy",
        "colab": {
          "base_uri": "https://localhost:8080/"
        },
        "outputId": "b933c1b0-b38c-42c0-b7c0-c58113ec4452"
      },
      "source": [
        "#train accuracy\n",
        "print ( 'Model accuracy %s' % accuracy_score ( y_train , y_train_pred ) )"
      ],
      "execution_count": null,
      "outputs": [
        {
          "output_type": "stream",
          "text": [
            "Model accuracy 0.858857050888477\n"
          ],
          "name": "stdout"
        }
      ]
    },
    {
      "cell_type": "code",
      "metadata": {
        "id": "0hAavbui-5kV"
      },
      "source": [
        "from sklearn import metrics\n",
        "from sklearn . metrics import accuracy_score\n",
        "from sklearn.metrics import classification_report\n"
      ],
      "execution_count": null,
      "outputs": []
    },
    {
      "cell_type": "code",
      "metadata": {
        "colab": {
          "base_uri": "https://localhost:8080/"
        },
        "id": "BtLNMiqY-90e",
        "outputId": "4d3de1d4-f8ae-47a9-ef1d-0d558e4ee273"
      },
      "source": [
        "print ( 'Model accuracy %s' % accuracy_score ( y_test , y_test_pred ) )\n",
        "print ( 'accuracy normalized %s' % accuracy_score ( y_test , y_test_pred , normalize = False ) )\n",
        "print ( classification_report ( y_test , y_test_pred,target_names=label ))"
      ],
      "execution_count": null,
      "outputs": [
        {
          "output_type": "stream",
          "text": [
            "Model accuracy 0.8422704236772754\n",
            "accuracy normalized 103873\n",
            "              precision    recall  f1-score   support\n",
            "\n",
            "         eco       0.41      0.89      0.56      6189\n",
            "         ent       0.74      0.91      0.82     10005\n",
            "         int       0.60      0.84      0.70     10560\n",
            "        sprt       0.98      0.93      0.95     16643\n",
            "       state       0.97      0.81      0.88     79928\n",
            "\n",
            "    accuracy                           0.84    123325\n",
            "   macro avg       0.74      0.87      0.78    123325\n",
            "weighted avg       0.89      0.84      0.86    123325\n",
            "\n"
          ],
          "name": "stdout"
        }
      ]
    },
    {
      "cell_type": "code",
      "metadata": {
        "id": "TFln9yXIalTb"
      },
      "source": [
        "%matplotlib inline\n",
        "import matplotlib.pyplot as plt\n",
        "from sklearn.metrics import confusion_matrix"
      ],
      "execution_count": null,
      "outputs": []
    },
    {
      "cell_type": "code",
      "metadata": {
        "id": "3lDO52cnQHTu",
        "colab": {
          "base_uri": "https://localhost:8080/",
          "height": 781
        },
        "outputId": "d38c36d6-996c-4e8b-baa6-bef824a26a91"
      },
      "source": [
        "label=np.array(['economics', 'entertainment', 'international', 'sports', 'state'], dtype=object)\n",
        "def plot_confusion_matrix(y_test, y_test_pred, classes,\n",
        "                          normalize=False,\n",
        "                          title=None,\n",
        "                          cmap=plt.cm.Blues):\n",
        "    \"\"\"\n",
        "    This function prints and plots the confusion matrix.\n",
        "    Normalization can be applied by setting `normalize=True`.\n",
        "    \"\"\"\n",
        "    if not title:\n",
        "        if normalize:\n",
        "            title = 'Normalized confusion matrix'\n",
        "        else:\n",
        "            title = 'Confusion matrix, without normalization'\n",
        "\n",
        "    # Compute confusion matrix\n",
        "    cm = confusion_matrix(y_test, y_test_pred)\n",
        "    if normalize:\n",
        "        cm = cm.astype('float') / cm.sum(axis=1)[:, np.newaxis]\n",
        "        print(\"Normalized confusion matrix\")\n",
        "    else:\n",
        "        print('Confusion matrix, without normalization')\n",
        "\n",
        "    print(cm)\n",
        "\n",
        "    fig, ax = plt.subplots()\n",
        "    im = ax.imshow(cm, interpolation='nearest', cmap=cmap)\n",
        "    ax.figure.colorbar(im, ax=ax)\n",
        "    # We want to show all ticks...\n",
        "    ax.set(xticks=np.arange(cm.shape[1]),\n",
        "           yticks=np.arange(cm.shape[0]),\n",
        "           # ... and label them with the respective list entries\n",
        "           xticklabels=label, yticklabels=label,\n",
        "           title=title,\n",
        "           ylabel='True label',\n",
        "           xlabel='Predicted label')\n",
        "\n",
        "    # Rotate the tick labels and set their alignment.\n",
        "    plt.setp(ax.get_xticklabels(), rotation=45, ha=\"right\",\n",
        "             rotation_mode=\"anchor\")\n",
        "\n",
        "    # Loop over data dimensions and create text annotations.\n",
        "    fmt = '.2f' if normalize else 'd'\n",
        "    thresh = cm.max() / 2.\n",
        "    for i in range(cm.shape[0]):\n",
        "        for j in range(cm.shape[1]):\n",
        "            ax.text(j, i, format(cm[i, j], fmt),\n",
        "                    ha=\"center\", va=\"center\",\n",
        "                    color=\"white\" if cm[i, j] > thresh else \"black\")\n",
        "    fig.tight_layout()\n",
        "    plt.xlim(-0.5, len(np.unique(y_test))-0.5) # ADD THIS LINE\n",
        "    plt.ylim(len(np.unique(y_test))-0.5, -0.5) # ADD THIS LINE\n",
        "    return ax\n",
        "\n",
        "\n",
        "np.set_printoptions(precision=2)\n",
        "\n",
        "# Plot non-normalized confusion matrix\n",
        "plot_confusion_matrix(y_test, y_test_pred, classes=label,\n",
        "                      title='Confusion matrix, without normalization')\n",
        "\n",
        "# Plot normalized confusion matrix\n",
        "plot_confusion_matrix(y_test, y_test_pred, classes=label, normalize=True,\n",
        "                      title='Normalized confusion matrix')\n",
        "\n",
        "plt.show()"
      ],
      "execution_count": null,
      "outputs": [
        {
          "output_type": "stream",
          "text": [
            "Confusion matrix, without normalization\n",
            "[[ 5499    47   116     8   519]\n",
            " [   99  9077   187   107   535]\n",
            " [  329   533  8838    45   815]\n",
            " [  155   329   375 15433   351]\n",
            " [ 7326  2228  5224   124 65026]]\n",
            "Normalized confusion matrix\n",
            "[[0.89 0.01 0.02 0.   0.08]\n",
            " [0.01 0.91 0.02 0.01 0.05]\n",
            " [0.03 0.05 0.84 0.   0.08]\n",
            " [0.01 0.02 0.02 0.93 0.02]\n",
            " [0.09 0.03 0.07 0.   0.81]]\n"
          ],
          "name": "stdout"
        },
        {
          "output_type": "display_data",
          "data": {
            "image/png": "[encoded data removed]",
            "text/plain": [
              "<Figure size 432x288 with 2 Axes>"
            ]
          },
          "metadata": {
            "tags": [],
            "needs_background": "light"
          }
        },
        {
          "output_type": "display_data",
          "data": {
            "image/png": "[encoded data removed]",
            "text/plain": [
              "<Figure size 432x288 with 2 Axes>"
            ]
          },
          "metadata": {
            "tags": [],
            "needs_background": "light"
          }
        }
      ]
    }
  ]
}