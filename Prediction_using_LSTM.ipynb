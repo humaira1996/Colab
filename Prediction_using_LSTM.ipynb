{
  "cells": [
    {
      "cell_type": "markdown",
      "metadata": {
        "id": "view-in-github",
        "colab_type": "text"
      },
      "source": [
        "<a href=\"https://colab.research.google.com/github/humaira1996/Colab/blob/main/Prediction_using_LSTM.ipynb\" target=\"_parent\"><img src=\"https://colab.research.google.com/assets/colab-badge.svg\" alt=\"Open In Colab\"/></a>"
      ]
    },
    {
      "cell_type": "markdown",
      "metadata": {
        "id": "4PRK0PiB3_Lm"
      },
      "source": [
        "### Stock Market Prediction And Forecasting Using Stacked LSTM"
      ]
    },
    {
      "cell_type": "code",
      "execution_count": null,
      "metadata": {
        "id": "Ggpa38s73_Lr"
      },
      "outputs": [],
      "source": [
        "### Keras and Tensorflow >2.0"
      ]
    },
    {
      "cell_type": "code",
      "source": [
        "from google.colab import drive\n",
        "drive.mount('/content/drive')\n",
        "import os\n",
        "os.chdir(\"/content/drive/My Drive\")\n",
        "!ls"
      ],
      "metadata": {
        "id": "TmM8HFfj6ALW",
        "colab": {
          "base_uri": "https://localhost:8080/"
        },
        "outputId": "b01b01a2-9e81-40e8-e8f5-18f5b7e634b8"
      },
      "execution_count": 1,
      "outputs": [
        {
          "output_type": "stream",
          "name": "stdout",
          "text": [
            "Mounted at /content/drive\n",
            "'1075 (1).docx'\t\t\t   'Intern- Agreement_Humaira_Afia.gdoc'\n",
            "'2. CV_ Humaira.pdf'\t\t   'Intern- Agreement_Humaira_Afia.pdf'\n",
            "'CamScanner 01-21-2024 13.35.pdf'   Letter.gdoc\n",
            " Classroom\t\t\t    NVDA.csv\n",
            "'Colab Notebooks'\t\t   'PMSCS600distribution_Form (1).pdf'\n",
            "'cv rough.gsheet'\t\t    PMSCS600distribution_Form.pdf\n",
            " Dog\t\t\t\t   'Resume (1).gdoc'\n",
            "'Humaira_Afia_CV (1).pdf'\t    Resume.gdoc\n",
            "'Humaira_Afia_CV (2).pdf'\t    Screenshot_2016-07-21-15-16-44-365.jpeg\n",
            "'HumairaAfiaCV (2).pdf'\t\t    Screenshot_2016-11-05-23-55-50-719.jpeg\n",
            " HumairaAfiaCV_bjit.gdoc\t   'Screenshot (21).png'\n",
            " HumairaAfiaCV_bjit.pdf\t\t    Signature_Bangladesh_Bank.jpg\n",
            " Humaira_Afia_CV.pdf\t\t    StockPrice.ipynb\n",
            " IMG_20160102_0007_converted.jpg    SUPLIMENTARY_2021127978_pdf.pdf\n",
            " IMG_20160102_0009.jpg\t\t   'Thesis Report'\n",
            " IMG_20191115_004730_399.jpg\t    Untitled.ipynb\n",
            " IMG-20210110-WA0006.jpg\t   'Untitled spreadsheet.gsheet'\n"
          ]
        }
      ]
    },
    {
      "cell_type": "code",
      "source": [
        "import pandas as pd\n",
        "df = pd.read_csv('NVDA.csv')\n",
        "df"
      ],
      "metadata": {
        "colab": {
          "base_uri": "https://localhost:8080/",
          "height": 423
        },
        "id": "G_Ra0Yi66ucu",
        "outputId": "88f2028e-25c0-4a87-8e33-8a298ee19d1d"
      },
      "execution_count": 2,
      "outputs": [
        {
          "output_type": "execute_result",
          "data": {
            "text/plain": [
              "            Date        Open        High         Low       Close   Adj Close  \\\n",
              "0     2000-01-03    0.984375    0.992188    0.919271    0.975260    0.894608   \n",
              "1     2000-01-04    0.958333    0.960938    0.901042    0.949219    0.870721   \n",
              "2     2000-01-05    0.921875    0.937500    0.904948    0.917969    0.842055   \n",
              "3     2000-01-06    0.917969    0.917969    0.822917    0.858073    0.787112   \n",
              "4     2000-01-07    0.854167    0.881510    0.841146    0.872396    0.800251   \n",
              "...          ...         ...         ...         ...         ...         ...   \n",
              "6111  2024-04-18  849.700012  861.900024  824.020020  846.710022  846.710022   \n",
              "6112  2024-04-19  831.500000  843.239990  756.059998  762.000000  762.000000   \n",
              "6113  2024-04-22  781.039978  800.729980  764.000000  795.179993  795.179993   \n",
              "6114  2024-04-23  807.690002  827.690002  802.640015  824.229980  824.229980   \n",
              "6115  2024-04-24  839.500000  840.820007  791.830017  796.770020  796.770020   \n",
              "\n",
              "        Volume  \n",
              "0     30091200  \n",
              "1     30048000  \n",
              "2     18835200  \n",
              "3     12048000  \n",
              "4      7118400  \n",
              "...        ...  \n",
              "6111  44726000  \n",
              "6112  87190500  \n",
              "6113  59634100  \n",
              "6114  43855900  \n",
              "6115  50961600  \n",
              "\n",
              "[6116 rows x 7 columns]"
            ],
            "text/html": [
              "\n",
              "  <div id=\"df-26a688d4-67c4-4213-a630-f205fcff79ef\" class=\"colab-df-container\">\n",
              "    <div>\n",
              "<style scoped>\n",
              "    .dataframe tbody tr th:only-of-type {\n",
              "        vertical-align: middle;\n",
              "    }\n",
              "\n",
              "    .dataframe tbody tr th {\n",
              "        vertical-align: top;\n",
              "    }\n",
              "\n",
              "    .dataframe thead th {\n",
              "        text-align: right;\n",
              "    }\n",
              "</style>\n",
              "<table border=\"1\" class=\"dataframe\">\n",
              "  <thead>\n",
              "    <tr style=\"text-align: right;\">\n",
              "      <th></th>\n",
              "      <th>Date</th>\n",
              "      <th>Open</th>\n",
              "      <th>High</th>\n",
              "      <th>Low</th>\n",
              "      <th>Close</th>\n",
              "      <th>Adj Close</th>\n",
              "      <th>Volume</th>\n",
              "    </tr>\n",
              "  </thead>\n",
              "  <tbody>\n",
              "    <tr>\n",
              "      <th>0</th>\n",
              "      <td>2000-01-03</td>\n",
              "      <td>0.984375</td>\n",
              "      <td>0.992188</td>\n",
              "      <td>0.919271</td>\n",
              "      <td>0.975260</td>\n",
              "      <td>0.894608</td>\n",
              "      <td>30091200</td>\n",
              "    </tr>\n",
              "    <tr>\n",
              "      <th>1</th>\n",
              "      <td>2000-01-04</td>\n",
              "      <td>0.958333</td>\n",
              "      <td>0.960938</td>\n",
              "      <td>0.901042</td>\n",
              "      <td>0.949219</td>\n",
              "      <td>0.870721</td>\n",
              "      <td>30048000</td>\n",
              "    </tr>\n",
              "    <tr>\n",
              "      <th>2</th>\n",
              "      <td>2000-01-05</td>\n",
              "      <td>0.921875</td>\n",
              "      <td>0.937500</td>\n",
              "      <td>0.904948</td>\n",
              "      <td>0.917969</td>\n",
              "      <td>0.842055</td>\n",
              "      <td>18835200</td>\n",
              "    </tr>\n",
              "    <tr>\n",
              "      <th>3</th>\n",
              "      <td>2000-01-06</td>\n",
              "      <td>0.917969</td>\n",
              "      <td>0.917969</td>\n",
              "      <td>0.822917</td>\n",
              "      <td>0.858073</td>\n",
              "      <td>0.787112</td>\n",
              "      <td>12048000</td>\n",
              "    </tr>\n",
              "    <tr>\n",
              "      <th>4</th>\n",
              "      <td>2000-01-07</td>\n",
              "      <td>0.854167</td>\n",
              "      <td>0.881510</td>\n",
              "      <td>0.841146</td>\n",
              "      <td>0.872396</td>\n",
              "      <td>0.800251</td>\n",
              "      <td>7118400</td>\n",
              "    </tr>\n",
              "    <tr>\n",
              "      <th>...</th>\n",
              "      <td>...</td>\n",
              "      <td>...</td>\n",
              "      <td>...</td>\n",
              "      <td>...</td>\n",
              "      <td>...</td>\n",
              "      <td>...</td>\n",
              "      <td>...</td>\n",
              "    </tr>\n",
              "    <tr>\n",
              "      <th>6111</th>\n",
              "      <td>2024-04-18</td>\n",
              "      <td>849.700012</td>\n",
              "      <td>861.900024</td>\n",
              "      <td>824.020020</td>\n",
              "      <td>846.710022</td>\n",
              "      <td>846.710022</td>\n",
              "      <td>44726000</td>\n",
              "    </tr>\n",
              "    <tr>\n",
              "      <th>6112</th>\n",
              "      <td>2024-04-19</td>\n",
              "      <td>831.500000</td>\n",
              "      <td>843.239990</td>\n",
              "      <td>756.059998</td>\n",
              "      <td>762.000000</td>\n",
              "      <td>762.000000</td>\n",
              "      <td>87190500</td>\n",
              "    </tr>\n",
              "    <tr>\n",
              "      <th>6113</th>\n",
              "      <td>2024-04-22</td>\n",
              "      <td>781.039978</td>\n",
              "      <td>800.729980</td>\n",
              "      <td>764.000000</td>\n",
              "      <td>795.179993</td>\n",
              "      <td>795.179993</td>\n",
              "      <td>59634100</td>\n",
              "    </tr>\n",
              "    <tr>\n",
              "      <th>6114</th>\n",
              "      <td>2024-04-23</td>\n",
              "      <td>807.690002</td>\n",
              "      <td>827.690002</td>\n",
              "      <td>802.640015</td>\n",
              "      <td>824.229980</td>\n",
              "      <td>824.229980</td>\n",
              "      <td>43855900</td>\n",
              "    </tr>\n",
              "    <tr>\n",
              "      <th>6115</th>\n",
              "      <td>2024-04-24</td>\n",
              "      <td>839.500000</td>\n",
              "      <td>840.820007</td>\n",
              "      <td>791.830017</td>\n",
              "      <td>796.770020</td>\n",
              "      <td>796.770020</td>\n",
              "      <td>50961600</td>\n",
              "    </tr>\n",
              "  </tbody>\n",
              "</table>\n",
              "<p>6116 rows × 7 columns</p>\n",
              "</div>\n",
              "    <div class=\"colab-df-buttons\">\n",
              "\n",
              "  <div class=\"colab-df-container\">\n",
              "    <button class=\"colab-df-convert\" onclick=\"convertToInteractive('df-26a688d4-67c4-4213-a630-f205fcff79ef')\"\n",
              "            title=\"Convert this dataframe to an interactive table.\"\n",
              "            style=\"display:none;\">\n",
              "\n",
              "  <svg xmlns=\"http://www.w3.org/2000/svg\" height=\"24px\" viewBox=\"0 -960 960 960\">\n",
              "    <path d=\"M120-120v-720h720v720H120Zm60-500h600v-160H180v160Zm220 220h160v-160H400v160Zm0 220h160v-160H400v160ZM180-400h160v-160H180v160Zm440 0h160v-160H620v160ZM180-180h160v-160H180v160Zm440 0h160v-160H620v160Z\"/>\n",
              "  </svg>\n",
              "    </button>\n",
              "\n",
              "  <style>\n",
              "    .colab-df-container {\n",
              "      display:flex;\n",
              "      gap: 12px;\n",
              "    }\n",
              "\n",
              "    .colab-df-convert {\n",
              "      background-color: #E8F0FE;\n",
              "      border: none;\n",
              "      border-radius: 50%;\n",
              "      cursor: pointer;\n",
              "      display: none;\n",
              "      fill: #1967D2;\n",
              "      height: 32px;\n",
              "      padding: 0 0 0 0;\n",
              "      width: 32px;\n",
              "    }\n",
              "\n",
              "    .colab-df-convert:hover {\n",
              "      background-color: #E2EBFA;\n",
              "      box-shadow: 0px 1px 2px rgba(60, 64, 67, 0.3), 0px 1px 3px 1px rgba(60, 64, 67, 0.15);\n",
              "      fill: #174EA6;\n",
              "    }\n",
              "\n",
              "    .colab-df-buttons div {\n",
              "      margin-bottom: 4px;\n",
              "    }\n",
              "\n",
              "    [theme=dark] .colab-df-convert {\n",
              "      background-color: #3B4455;\n",
              "      fill: #D2E3FC;\n",
              "    }\n",
              "\n",
              "    [theme=dark] .colab-df-convert:hover {\n",
              "      background-color: #434B5C;\n",
              "      box-shadow: 0px 1px 3px 1px rgba(0, 0, 0, 0.15);\n",
              "      filter: drop-shadow(0px 1px 2px rgba(0, 0, 0, 0.3));\n",
              "      fill: #FFFFFF;\n",
              "    }\n",
              "  </style>\n",
              "\n",
              "    <script>\n",
              "      const buttonEl =\n",
              "        document.querySelector('#df-26a688d4-67c4-4213-a630-f205fcff79ef button.colab-df-convert');\n",
              "      buttonEl.style.display =\n",
              "        google.colab.kernel.accessAllowed ? 'block' : 'none';\n",
              "\n",
              "      async function convertToInteractive(key) {\n",
              "        const element = document.querySelector('#df-26a688d4-67c4-4213-a630-f205fcff79ef');\n",
              "        const dataTable =\n",
              "          await google.colab.kernel.invokeFunction('convertToInteractive',\n",
              "                                                    [key], {});\n",
              "        if (!dataTable) return;\n",
              "\n",
              "        const docLinkHtml = 'Like what you see? Visit the ' +\n",
              "          '<a target=\"_blank\" href=https://colab.research.google.com/notebooks/data_table.ipynb>data table notebook</a>'\n",
              "          + ' to learn more about interactive tables.';\n",
              "        element.innerHTML = '';\n",
              "        dataTable['output_type'] = 'display_data';\n",
              "        await google.colab.output.renderOutput(dataTable, element);\n",
              "        const docLink = document.createElement('div');\n",
              "        docLink.innerHTML = docLinkHtml;\n",
              "        element.appendChild(docLink);\n",
              "      }\n",
              "    </script>\n",
              "  </div>\n",
              "\n",
              "\n",
              "<div id=\"df-819d90cc-9771-4182-98a6-4d6ef0a0bd4f\">\n",
              "  <button class=\"colab-df-quickchart\" onclick=\"quickchart('df-819d90cc-9771-4182-98a6-4d6ef0a0bd4f')\"\n",
              "            title=\"Suggest charts\"\n",
              "            style=\"display:none;\">\n",
              "\n",
              "<svg xmlns=\"http://www.w3.org/2000/svg\" height=\"24px\"viewBox=\"0 0 24 24\"\n",
              "     width=\"24px\">\n",
              "    <g>\n",
              "        <path d=\"M19 3H5c-1.1 0-2 .9-2 2v14c0 1.1.9 2 2 2h14c1.1 0 2-.9 2-2V5c0-1.1-.9-2-2-2zM9 17H7v-7h2v7zm4 0h-2V7h2v10zm4 0h-2v-4h2v4z\"/>\n",
              "    </g>\n",
              "</svg>\n",
              "  </button>\n",
              "\n",
              "<style>\n",
              "  .colab-df-quickchart {\n",
              "      --bg-color: #E8F0FE;\n",
              "      --fill-color: #1967D2;\n",
              "      --hover-bg-color: #E2EBFA;\n",
              "      --hover-fill-color: #174EA6;\n",
              "      --disabled-fill-color: #AAA;\n",
              "      --disabled-bg-color: #DDD;\n",
              "  }\n",
              "\n",
              "  [theme=dark] .colab-df-quickchart {\n",
              "      --bg-color: #3B4455;\n",
              "      --fill-color: #D2E3FC;\n",
              "      --hover-bg-color: #434B5C;\n",
              "      --hover-fill-color: #FFFFFF;\n",
              "      --disabled-bg-color: #3B4455;\n",
              "      --disabled-fill-color: #666;\n",
              "  }\n",
              "\n",
              "  .colab-df-quickchart {\n",
              "    background-color: var(--bg-color);\n",
              "    border: none;\n",
              "    border-radius: 50%;\n",
              "    cursor: pointer;\n",
              "    display: none;\n",
              "    fill: var(--fill-color);\n",
              "    height: 32px;\n",
              "    padding: 0;\n",
              "    width: 32px;\n",
              "  }\n",
              "\n",
              "  .colab-df-quickchart:hover {\n",
              "    background-color: var(--hover-bg-color);\n",
              "    box-shadow: 0 1px 2px rgba(60, 64, 67, 0.3), 0 1px 3px 1px rgba(60, 64, 67, 0.15);\n",
              "    fill: var(--button-hover-fill-color);\n",
              "  }\n",
              "\n",
              "  .colab-df-quickchart-complete:disabled,\n",
              "  .colab-df-quickchart-complete:disabled:hover {\n",
              "    background-color: var(--disabled-bg-color);\n",
              "    fill: var(--disabled-fill-color);\n",
              "    box-shadow: none;\n",
              "  }\n",
              "\n",
              "  .colab-df-spinner {\n",
              "    border: 2px solid var(--fill-color);\n",
              "    border-color: transparent;\n",
              "    border-bottom-color: var(--fill-color);\n",
              "    animation:\n",
              "      spin 1s steps(1) infinite;\n",
              "  }\n",
              "\n",
              "  @keyframes spin {\n",
              "    0% {\n",
              "      border-color: transparent;\n",
              "      border-bottom-color: var(--fill-color);\n",
              "      border-left-color: var(--fill-color);\n",
              "    }\n",
              "    20% {\n",
              "      border-color: transparent;\n",
              "      border-left-color: var(--fill-color);\n",
              "      border-top-color: var(--fill-color);\n",
              "    }\n",
              "    30% {\n",
              "      border-color: transparent;\n",
              "      border-left-color: var(--fill-color);\n",
              "      border-top-color: var(--fill-color);\n",
              "      border-right-color: var(--fill-color);\n",
              "    }\n",
              "    40% {\n",
              "      border-color: transparent;\n",
              "      border-right-color: var(--fill-color);\n",
              "      border-top-color: var(--fill-color);\n",
              "    }\n",
              "    60% {\n",
              "      border-color: transparent;\n",
              "      border-right-color: var(--fill-color);\n",
              "    }\n",
              "    80% {\n",
              "      border-color: transparent;\n",
              "      border-right-color: var(--fill-color);\n",
              "      border-bottom-color: var(--fill-color);\n",
              "    }\n",
              "    90% {\n",
              "      border-color: transparent;\n",
              "      border-bottom-color: var(--fill-color);\n",
              "    }\n",
              "  }\n",
              "</style>\n",
              "\n",
              "  <script>\n",
              "    async function quickchart(key) {\n",
              "      const quickchartButtonEl =\n",
              "        document.querySelector('#' + key + ' button');\n",
              "      quickchartButtonEl.disabled = true;  // To prevent multiple clicks.\n",
              "      quickchartButtonEl.classList.add('colab-df-spinner');\n",
              "      try {\n",
              "        const charts = await google.colab.kernel.invokeFunction(\n",
              "            'suggestCharts', [key], {});\n",
              "      } catch (error) {\n",
              "        console.error('Error during call to suggestCharts:', error);\n",
              "      }\n",
              "      quickchartButtonEl.classList.remove('colab-df-spinner');\n",
              "      quickchartButtonEl.classList.add('colab-df-quickchart-complete');\n",
              "    }\n",
              "    (() => {\n",
              "      let quickchartButtonEl =\n",
              "        document.querySelector('#df-819d90cc-9771-4182-98a6-4d6ef0a0bd4f button');\n",
              "      quickchartButtonEl.style.display =\n",
              "        google.colab.kernel.accessAllowed ? 'block' : 'none';\n",
              "    })();\n",
              "  </script>\n",
              "</div>\n",
              "\n",
              "  <div id=\"id_e1787895-6d66-478a-8661-e3258adfd746\">\n",
              "    <style>\n",
              "      .colab-df-generate {\n",
              "        background-color: #E8F0FE;\n",
              "        border: none;\n",
              "        border-radius: 50%;\n",
              "        cursor: pointer;\n",
              "        display: none;\n",
              "        fill: #1967D2;\n",
              "        height: 32px;\n",
              "        padding: 0 0 0 0;\n",
              "        width: 32px;\n",
              "      }\n",
              "\n",
              "      .colab-df-generate:hover {\n",
              "        background-color: #E2EBFA;\n",
              "        box-shadow: 0px 1px 2px rgba(60, 64, 67, 0.3), 0px 1px 3px 1px rgba(60, 64, 67, 0.15);\n",
              "        fill: #174EA6;\n",
              "      }\n",
              "\n",
              "      [theme=dark] .colab-df-generate {\n",
              "        background-color: #3B4455;\n",
              "        fill: #D2E3FC;\n",
              "      }\n",
              "\n",
              "      [theme=dark] .colab-df-generate:hover {\n",
              "        background-color: #434B5C;\n",
              "        box-shadow: 0px 1px 3px 1px rgba(0, 0, 0, 0.15);\n",
              "        filter: drop-shadow(0px 1px 2px rgba(0, 0, 0, 0.3));\n",
              "        fill: #FFFFFF;\n",
              "      }\n",
              "    </style>\n",
              "    <button class=\"colab-df-generate\" onclick=\"generateWithVariable('df')\"\n",
              "            title=\"Generate code using this dataframe.\"\n",
              "            style=\"display:none;\">\n",
              "\n",
              "  <svg xmlns=\"http://www.w3.org/2000/svg\" height=\"24px\"viewBox=\"0 0 24 24\"\n",
              "       width=\"24px\">\n",
              "    <path d=\"M7,19H8.4L18.45,9,17,7.55,7,17.6ZM5,21V16.75L18.45,3.32a2,2,0,0,1,2.83,0l1.4,1.43a1.91,1.91,0,0,1,.58,1.4,1.91,1.91,0,0,1-.58,1.4L9.25,21ZM18.45,9,17,7.55Zm-12,3A5.31,5.31,0,0,0,4.9,8.1,5.31,5.31,0,0,0,1,6.5,5.31,5.31,0,0,0,4.9,4.9,5.31,5.31,0,0,0,6.5,1,5.31,5.31,0,0,0,8.1,4.9,5.31,5.31,0,0,0,12,6.5,5.46,5.46,0,0,0,6.5,12Z\"/>\n",
              "  </svg>\n",
              "    </button>\n",
              "    <script>\n",
              "      (() => {\n",
              "      const buttonEl =\n",
              "        document.querySelector('#id_e1787895-6d66-478a-8661-e3258adfd746 button.colab-df-generate');\n",
              "      buttonEl.style.display =\n",
              "        google.colab.kernel.accessAllowed ? 'block' : 'none';\n",
              "\n",
              "      buttonEl.onclick = () => {\n",
              "        google.colab.notebook.generateWithVariable('df');\n",
              "      }\n",
              "      })();\n",
              "    </script>\n",
              "  </div>\n",
              "\n",
              "    </div>\n",
              "  </div>\n"
            ],
            "application/vnd.google.colaboratory.intrinsic+json": {
              "type": "dataframe",
              "variable_name": "df",
              "summary": "{\n  \"name\": \"df\",\n  \"rows\": 6116,\n  \"fields\": [\n    {\n      \"column\": \"Date\",\n      \"properties\": {\n        \"dtype\": \"object\",\n        \"num_unique_values\": 6116,\n        \"samples\": [\n          \"2022-01-14\",\n          \"2018-07-19\",\n          \"2013-12-31\"\n        ],\n        \"semantic_type\": \"\",\n        \"description\": \"\"\n      }\n    },\n    {\n      \"column\": \"Open\",\n      \"properties\": {\n        \"dtype\": \"number\",\n        \"std\": 121.26733388662407,\n        \"min\": 0.608333,\n        \"max\": 958.51001,\n        \"num_unique_values\": 4671,\n        \"samples\": [\n          6.8625,\n          45.119999,\n          59.974998\n        ],\n        \"semantic_type\": \"\",\n        \"description\": \"\"\n      }\n    },\n    {\n      \"column\": \"High\",\n      \"properties\": {\n        \"dtype\": \"number\",\n        \"std\": 123.42398171991037,\n        \"min\": 0.656667,\n        \"max\": 974.0,\n        \"num_unique_values\": 4643,\n        \"samples\": [\n          5.68,\n          2.62,\n          21.862499\n        ],\n        \"semantic_type\": \"\",\n        \"description\": \"\"\n      }\n    },\n    {\n      \"column\": \"Low\",\n      \"properties\": {\n        \"dtype\": \"number\",\n        \"std\": 118.83511449091245,\n        \"min\": 0.6,\n        \"max\": 935.099976,\n        \"num_unique_values\": 4649,\n        \"samples\": [\n          232.059998,\n          5.234167,\n          1.21875\n        ],\n        \"semantic_type\": \"\",\n        \"description\": \"\"\n      }\n    },\n    {\n      \"column\": \"Close\",\n      \"properties\": {\n        \"dtype\": \"number\",\n        \"std\": 121.18323380555461,\n        \"min\": 0.614167,\n        \"max\": 950.02002,\n        \"num_unique_values\": 4778,\n        \"samples\": [\n          1.403646,\n          2.756667,\n          60.764999\n        ],\n        \"semantic_type\": \"\",\n        \"description\": \"\"\n      }\n    },\n    {\n      \"column\": \"Adj Close\",\n      \"properties\": {\n        \"dtype\": \"number\",\n        \"std\": 121.21486368778578,\n        \"min\": 0.563377,\n        \"max\": 950.02002,\n        \"num_unique_values\": 5178,\n        \"samples\": [\n          4.675184,\n          1.095412,\n          5.662915\n        ],\n        \"semantic_type\": \"\",\n        \"description\": \"\"\n      }\n    },\n    {\n      \"column\": \"Volume\",\n      \"properties\": {\n        \"dtype\": \"number\",\n        \"std\": 43167138,\n        \"min\": 4564400,\n        \"max\": 923085600,\n        \"num_unique_values\": 6040,\n        \"samples\": [\n          57520700,\n          268813200,\n          20973200\n        ],\n        \"semantic_type\": \"\",\n        \"description\": \"\"\n      }\n    }\n  ]\n}"
            }
          },
          "metadata": {},
          "execution_count": 2
        }
      ]
    },
    {
      "cell_type": "code",
      "execution_count": 3,
      "metadata": {
        "id": "6r7RiF8c3_Lw",
        "outputId": "006a42b0-887e-4f46-fead-bd385ffe9f80",
        "colab": {
          "base_uri": "https://localhost:8080/",
          "height": 206
        }
      },
      "outputs": [
        {
          "output_type": "execute_result",
          "data": {
            "text/plain": [
              "         Date      Open      High       Low     Close  Adj Close    Volume\n",
              "0  2000-01-03  0.984375  0.992188  0.919271  0.975260   0.894608  30091200\n",
              "1  2000-01-04  0.958333  0.960938  0.901042  0.949219   0.870721  30048000\n",
              "2  2000-01-05  0.921875  0.937500  0.904948  0.917969   0.842055  18835200\n",
              "3  2000-01-06  0.917969  0.917969  0.822917  0.858073   0.787112  12048000\n",
              "4  2000-01-07  0.854167  0.881510  0.841146  0.872396   0.800251   7118400"
            ],
            "text/html": [
              "\n",
              "  <div id=\"df-c91a89b7-68e6-4207-ab36-611dcea64c72\" class=\"colab-df-container\">\n",
              "    <div>\n",
              "<style scoped>\n",
              "    .dataframe tbody tr th:only-of-type {\n",
              "        vertical-align: middle;\n",
              "    }\n",
              "\n",
              "    .dataframe tbody tr th {\n",
              "        vertical-align: top;\n",
              "    }\n",
              "\n",
              "    .dataframe thead th {\n",
              "        text-align: right;\n",
              "    }\n",
              "</style>\n",
              "<table border=\"1\" class=\"dataframe\">\n",
              "  <thead>\n",
              "    <tr style=\"text-align: right;\">\n",
              "      <th></th>\n",
              "      <th>Date</th>\n",
              "      <th>Open</th>\n",
              "      <th>High</th>\n",
              "      <th>Low</th>\n",
              "      <th>Close</th>\n",
              "      <th>Adj Close</th>\n",
              "      <th>Volume</th>\n",
              "    </tr>\n",
              "  </thead>\n",
              "  <tbody>\n",
              "    <tr>\n",
              "      <th>0</th>\n",
              "      <td>2000-01-03</td>\n",
              "      <td>0.984375</td>\n",
              "      <td>0.992188</td>\n",
              "      <td>0.919271</td>\n",
              "      <td>0.975260</td>\n",
              "      <td>0.894608</td>\n",
              "      <td>30091200</td>\n",
              "    </tr>\n",
              "    <tr>\n",
              "      <th>1</th>\n",
              "      <td>2000-01-04</td>\n",
              "      <td>0.958333</td>\n",
              "      <td>0.960938</td>\n",
              "      <td>0.901042</td>\n",
              "      <td>0.949219</td>\n",
              "      <td>0.870721</td>\n",
              "      <td>30048000</td>\n",
              "    </tr>\n",
              "    <tr>\n",
              "      <th>2</th>\n",
              "      <td>2000-01-05</td>\n",
              "      <td>0.921875</td>\n",
              "      <td>0.937500</td>\n",
              "      <td>0.904948</td>\n",
              "      <td>0.917969</td>\n",
              "      <td>0.842055</td>\n",
              "      <td>18835200</td>\n",
              "    </tr>\n",
              "    <tr>\n",
              "      <th>3</th>\n",
              "      <td>2000-01-06</td>\n",
              "      <td>0.917969</td>\n",
              "      <td>0.917969</td>\n",
              "      <td>0.822917</td>\n",
              "      <td>0.858073</td>\n",
              "      <td>0.787112</td>\n",
              "      <td>12048000</td>\n",
              "    </tr>\n",
              "    <tr>\n",
              "      <th>4</th>\n",
              "      <td>2000-01-07</td>\n",
              "      <td>0.854167</td>\n",
              "      <td>0.881510</td>\n",
              "      <td>0.841146</td>\n",
              "      <td>0.872396</td>\n",
              "      <td>0.800251</td>\n",
              "      <td>7118400</td>\n",
              "    </tr>\n",
              "  </tbody>\n",
              "</table>\n",
              "</div>\n",
              "    <div class=\"colab-df-buttons\">\n",
              "\n",
              "  <div class=\"colab-df-container\">\n",
              "    <button class=\"colab-df-convert\" onclick=\"convertToInteractive('df-c91a89b7-68e6-4207-ab36-611dcea64c72')\"\n",
              "            title=\"Convert this dataframe to an interactive table.\"\n",
              "            style=\"display:none;\">\n",
              "\n",
              "  <svg xmlns=\"http://www.w3.org/2000/svg\" height=\"24px\" viewBox=\"0 -960 960 960\">\n",
              "    <path d=\"M120-120v-720h720v720H120Zm60-500h600v-160H180v160Zm220 220h160v-160H400v160Zm0 220h160v-160H400v160ZM180-400h160v-160H180v160Zm440 0h160v-160H620v160ZM180-180h160v-160H180v160Zm440 0h160v-160H620v160Z\"/>\n",
              "  </svg>\n",
              "    </button>\n",
              "\n",
              "  <style>\n",
              "    .colab-df-container {\n",
              "      display:flex;\n",
              "      gap: 12px;\n",
              "    }\n",
              "\n",
              "    .colab-df-convert {\n",
              "      background-color: #E8F0FE;\n",
              "      border: none;\n",
              "      border-radius: 50%;\n",
              "      cursor: pointer;\n",
              "      display: none;\n",
              "      fill: #1967D2;\n",
              "      height: 32px;\n",
              "      padding: 0 0 0 0;\n",
              "      width: 32px;\n",
              "    }\n",
              "\n",
              "    .colab-df-convert:hover {\n",
              "      background-color: #E2EBFA;\n",
              "      box-shadow: 0px 1px 2px rgba(60, 64, 67, 0.3), 0px 1px 3px 1px rgba(60, 64, 67, 0.15);\n",
              "      fill: #174EA6;\n",
              "    }\n",
              "\n",
              "    .colab-df-buttons div {\n",
              "      margin-bottom: 4px;\n",
              "    }\n",
              "\n",
              "    [theme=dark] .colab-df-convert {\n",
              "      background-color: #3B4455;\n",
              "      fill: #D2E3FC;\n",
              "    }\n",
              "\n",
              "    [theme=dark] .colab-df-convert:hover {\n",
              "      background-color: #434B5C;\n",
              "      box-shadow: 0px 1px 3px 1px rgba(0, 0, 0, 0.15);\n",
              "      filter: drop-shadow(0px 1px 2px rgba(0, 0, 0, 0.3));\n",
              "      fill: #FFFFFF;\n",
              "    }\n",
              "  </style>\n",
              "\n",
              "    <script>\n",
              "      const buttonEl =\n",
              "        document.querySelector('#df-c91a89b7-68e6-4207-ab36-611dcea64c72 button.colab-df-convert');\n",
              "      buttonEl.style.display =\n",
              "        google.colab.kernel.accessAllowed ? 'block' : 'none';\n",
              "\n",
              "      async function convertToInteractive(key) {\n",
              "        const element = document.querySelector('#df-c91a89b7-68e6-4207-ab36-611dcea64c72');\n",
              "        const dataTable =\n",
              "          await google.colab.kernel.invokeFunction('convertToInteractive',\n",
              "                                                    [key], {});\n",
              "        if (!dataTable) return;\n",
              "\n",
              "        const docLinkHtml = 'Like what you see? Visit the ' +\n",
              "          '<a target=\"_blank\" href=https://colab.research.google.com/notebooks/data_table.ipynb>data table notebook</a>'\n",
              "          + ' to learn more about interactive tables.';\n",
              "        element.innerHTML = '';\n",
              "        dataTable['output_type'] = 'display_data';\n",
              "        await google.colab.output.renderOutput(dataTable, element);\n",
              "        const docLink = document.createElement('div');\n",
              "        docLink.innerHTML = docLinkHtml;\n",
              "        element.appendChild(docLink);\n",
              "      }\n",
              "    </script>\n",
              "  </div>\n",
              "\n",
              "\n",
              "<div id=\"df-71c7a301-fcc4-4fac-a903-31644a1b13af\">\n",
              "  <button class=\"colab-df-quickchart\" onclick=\"quickchart('df-71c7a301-fcc4-4fac-a903-31644a1b13af')\"\n",
              "            title=\"Suggest charts\"\n",
              "            style=\"display:none;\">\n",
              "\n",
              "<svg xmlns=\"http://www.w3.org/2000/svg\" height=\"24px\"viewBox=\"0 0 24 24\"\n",
              "     width=\"24px\">\n",
              "    <g>\n",
              "        <path d=\"M19 3H5c-1.1 0-2 .9-2 2v14c0 1.1.9 2 2 2h14c1.1 0 2-.9 2-2V5c0-1.1-.9-2-2-2zM9 17H7v-7h2v7zm4 0h-2V7h2v10zm4 0h-2v-4h2v4z\"/>\n",
              "    </g>\n",
              "</svg>\n",
              "  </button>\n",
              "\n",
              "<style>\n",
              "  .colab-df-quickchart {\n",
              "      --bg-color: #E8F0FE;\n",
              "      --fill-color: #1967D2;\n",
              "      --hover-bg-color: #E2EBFA;\n",
              "      --hover-fill-color: #174EA6;\n",
              "      --disabled-fill-color: #AAA;\n",
              "      --disabled-bg-color: #DDD;\n",
              "  }\n",
              "\n",
              "  [theme=dark] .colab-df-quickchart {\n",
              "      --bg-color: #3B4455;\n",
              "      --fill-color: #D2E3FC;\n",
              "      --hover-bg-color: #434B5C;\n",
              "      --hover-fill-color: #FFFFFF;\n",
              "      --disabled-bg-color: #3B4455;\n",
              "      --disabled-fill-color: #666;\n",
              "  }\n",
              "\n",
              "  .colab-df-quickchart {\n",
              "    background-color: var(--bg-color);\n",
              "    border: none;\n",
              "    border-radius: 50%;\n",
              "    cursor: pointer;\n",
              "    display: none;\n",
              "    fill: var(--fill-color);\n",
              "    height: 32px;\n",
              "    padding: 0;\n",
              "    width: 32px;\n",
              "  }\n",
              "\n",
              "  .colab-df-quickchart:hover {\n",
              "    background-color: var(--hover-bg-color);\n",
              "    box-shadow: 0 1px 2px rgba(60, 64, 67, 0.3), 0 1px 3px 1px rgba(60, 64, 67, 0.15);\n",
              "    fill: var(--button-hover-fill-color);\n",
              "  }\n",
              "\n",
              "  .colab-df-quickchart-complete:disabled,\n",
              "  .colab-df-quickchart-complete:disabled:hover {\n",
              "    background-color: var(--disabled-bg-color);\n",
              "    fill: var(--disabled-fill-color);\n",
              "    box-shadow: none;\n",
              "  }\n",
              "\n",
              "  .colab-df-spinner {\n",
              "    border: 2px solid var(--fill-color);\n",
              "    border-color: transparent;\n",
              "    border-bottom-color: var(--fill-color);\n",
              "    animation:\n",
              "      spin 1s steps(1) infinite;\n",
              "  }\n",
              "\n",
              "  @keyframes spin {\n",
              "    0% {\n",
              "      border-color: transparent;\n",
              "      border-bottom-color: var(--fill-color);\n",
              "      border-left-color: var(--fill-color);\n",
              "    }\n",
              "    20% {\n",
              "      border-color: transparent;\n",
              "      border-left-color: var(--fill-color);\n",
              "      border-top-color: var(--fill-color);\n",
              "    }\n",
              "    30% {\n",
              "      border-color: transparent;\n",
              "      border-left-color: var(--fill-color);\n",
              "      border-top-color: var(--fill-color);\n",
              "      border-right-color: var(--fill-color);\n",
              "    }\n",
              "    40% {\n",
              "      border-color: transparent;\n",
              "      border-right-color: var(--fill-color);\n",
              "      border-top-color: var(--fill-color);\n",
              "    }\n",
              "    60% {\n",
              "      border-color: transparent;\n",
              "      border-right-color: var(--fill-color);\n",
              "    }\n",
              "    80% {\n",
              "      border-color: transparent;\n",
              "      border-right-color: var(--fill-color);\n",
              "      border-bottom-color: var(--fill-color);\n",
              "    }\n",
              "    90% {\n",
              "      border-color: transparent;\n",
              "      border-bottom-color: var(--fill-color);\n",
              "    }\n",
              "  }\n",
              "</style>\n",
              "\n",
              "  <script>\n",
              "    async function quickchart(key) {\n",
              "      const quickchartButtonEl =\n",
              "        document.querySelector('#' + key + ' button');\n",
              "      quickchartButtonEl.disabled = true;  // To prevent multiple clicks.\n",
              "      quickchartButtonEl.classList.add('colab-df-spinner');\n",
              "      try {\n",
              "        const charts = await google.colab.kernel.invokeFunction(\n",
              "            'suggestCharts', [key], {});\n",
              "      } catch (error) {\n",
              "        console.error('Error during call to suggestCharts:', error);\n",
              "      }\n",
              "      quickchartButtonEl.classList.remove('colab-df-spinner');\n",
              "      quickchartButtonEl.classList.add('colab-df-quickchart-complete');\n",
              "    }\n",
              "    (() => {\n",
              "      let quickchartButtonEl =\n",
              "        document.querySelector('#df-71c7a301-fcc4-4fac-a903-31644a1b13af button');\n",
              "      quickchartButtonEl.style.display =\n",
              "        google.colab.kernel.accessAllowed ? 'block' : 'none';\n",
              "    })();\n",
              "  </script>\n",
              "</div>\n",
              "\n",
              "    </div>\n",
              "  </div>\n"
            ],
            "application/vnd.google.colaboratory.intrinsic+json": {
              "type": "dataframe",
              "variable_name": "df",
              "summary": "{\n  \"name\": \"df\",\n  \"rows\": 6116,\n  \"fields\": [\n    {\n      \"column\": \"Date\",\n      \"properties\": {\n        \"dtype\": \"object\",\n        \"num_unique_values\": 6116,\n        \"samples\": [\n          \"2022-01-14\",\n          \"2018-07-19\",\n          \"2013-12-31\"\n        ],\n        \"semantic_type\": \"\",\n        \"description\": \"\"\n      }\n    },\n    {\n      \"column\": \"Open\",\n      \"properties\": {\n        \"dtype\": \"number\",\n        \"std\": 121.26733388662407,\n        \"min\": 0.608333,\n        \"max\": 958.51001,\n        \"num_unique_values\": 4671,\n        \"samples\": [\n          6.8625,\n          45.119999,\n          59.974998\n        ],\n        \"semantic_type\": \"\",\n        \"description\": \"\"\n      }\n    },\n    {\n      \"column\": \"High\",\n      \"properties\": {\n        \"dtype\": \"number\",\n        \"std\": 123.42398171991037,\n        \"min\": 0.656667,\n        \"max\": 974.0,\n        \"num_unique_values\": 4643,\n        \"samples\": [\n          5.68,\n          2.62,\n          21.862499\n        ],\n        \"semantic_type\": \"\",\n        \"description\": \"\"\n      }\n    },\n    {\n      \"column\": \"Low\",\n      \"properties\": {\n        \"dtype\": \"number\",\n        \"std\": 118.83511449091245,\n        \"min\": 0.6,\n        \"max\": 935.099976,\n        \"num_unique_values\": 4649,\n        \"samples\": [\n          232.059998,\n          5.234167,\n          1.21875\n        ],\n        \"semantic_type\": \"\",\n        \"description\": \"\"\n      }\n    },\n    {\n      \"column\": \"Close\",\n      \"properties\": {\n        \"dtype\": \"number\",\n        \"std\": 121.18323380555461,\n        \"min\": 0.614167,\n        \"max\": 950.02002,\n        \"num_unique_values\": 4778,\n        \"samples\": [\n          1.403646,\n          2.756667,\n          60.764999\n        ],\n        \"semantic_type\": \"\",\n        \"description\": \"\"\n      }\n    },\n    {\n      \"column\": \"Adj Close\",\n      \"properties\": {\n        \"dtype\": \"number\",\n        \"std\": 121.21486368778578,\n        \"min\": 0.563377,\n        \"max\": 950.02002,\n        \"num_unique_values\": 5178,\n        \"samples\": [\n          4.675184,\n          1.095412,\n          5.662915\n        ],\n        \"semantic_type\": \"\",\n        \"description\": \"\"\n      }\n    },\n    {\n      \"column\": \"Volume\",\n      \"properties\": {\n        \"dtype\": \"number\",\n        \"std\": 43167138,\n        \"min\": 4564400,\n        \"max\": 923085600,\n        \"num_unique_values\": 6040,\n        \"samples\": [\n          57520700,\n          268813200,\n          20973200\n        ],\n        \"semantic_type\": \"\",\n        \"description\": \"\"\n      }\n    }\n  ]\n}"
            }
          },
          "metadata": {},
          "execution_count": 3
        }
      ],
      "source": [
        "df.head()"
      ]
    },
    {
      "cell_type": "code",
      "execution_count": 4,
      "metadata": {
        "id": "xsmn-Wlb3_Lx",
        "outputId": "7d01a45e-4ef0-407f-b4e9-953efe37b74a",
        "colab": {
          "base_uri": "https://localhost:8080/",
          "height": 206
        }
      },
      "outputs": [
        {
          "output_type": "execute_result",
          "data": {
            "text/plain": [
              "            Date        Open        High         Low       Close   Adj Close  \\\n",
              "6111  2024-04-18  849.700012  861.900024  824.020020  846.710022  846.710022   \n",
              "6112  2024-04-19  831.500000  843.239990  756.059998  762.000000  762.000000   \n",
              "6113  2024-04-22  781.039978  800.729980  764.000000  795.179993  795.179993   \n",
              "6114  2024-04-23  807.690002  827.690002  802.640015  824.229980  824.229980   \n",
              "6115  2024-04-24  839.500000  840.820007  791.830017  796.770020  796.770020   \n",
              "\n",
              "        Volume  \n",
              "6111  44726000  \n",
              "6112  87190500  \n",
              "6113  59634100  \n",
              "6114  43855900  \n",
              "6115  50961600  "
            ],
            "text/html": [
              "\n",
              "  <div id=\"df-ed67872a-49a0-4a49-a14c-851e54c16f8d\" class=\"colab-df-container\">\n",
              "    <div>\n",
              "<style scoped>\n",
              "    .dataframe tbody tr th:only-of-type {\n",
              "        vertical-align: middle;\n",
              "    }\n",
              "\n",
              "    .dataframe tbody tr th {\n",
              "        vertical-align: top;\n",
              "    }\n",
              "\n",
              "    .dataframe thead th {\n",
              "        text-align: right;\n",
              "    }\n",
              "</style>\n",
              "<table border=\"1\" class=\"dataframe\">\n",
              "  <thead>\n",
              "    <tr style=\"text-align: right;\">\n",
              "      <th></th>\n",
              "      <th>Date</th>\n",
              "      <th>Open</th>\n",
              "      <th>High</th>\n",
              "      <th>Low</th>\n",
              "      <th>Close</th>\n",
              "      <th>Adj Close</th>\n",
              "      <th>Volume</th>\n",
              "    </tr>\n",
              "  </thead>\n",
              "  <tbody>\n",
              "    <tr>\n",
              "      <th>6111</th>\n",
              "      <td>2024-04-18</td>\n",
              "      <td>849.700012</td>\n",
              "      <td>861.900024</td>\n",
              "      <td>824.020020</td>\n",
              "      <td>846.710022</td>\n",
              "      <td>846.710022</td>\n",
              "      <td>44726000</td>\n",
              "    </tr>\n",
              "    <tr>\n",
              "      <th>6112</th>\n",
              "      <td>2024-04-19</td>\n",
              "      <td>831.500000</td>\n",
              "      <td>843.239990</td>\n",
              "      <td>756.059998</td>\n",
              "      <td>762.000000</td>\n",
              "      <td>762.000000</td>\n",
              "      <td>87190500</td>\n",
              "    </tr>\n",
              "    <tr>\n",
              "      <th>6113</th>\n",
              "      <td>2024-04-22</td>\n",
              "      <td>781.039978</td>\n",
              "      <td>800.729980</td>\n",
              "      <td>764.000000</td>\n",
              "      <td>795.179993</td>\n",
              "      <td>795.179993</td>\n",
              "      <td>59634100</td>\n",
              "    </tr>\n",
              "    <tr>\n",
              "      <th>6114</th>\n",
              "      <td>2024-04-23</td>\n",
              "      <td>807.690002</td>\n",
              "      <td>827.690002</td>\n",
              "      <td>802.640015</td>\n",
              "      <td>824.229980</td>\n",
              "      <td>824.229980</td>\n",
              "      <td>43855900</td>\n",
              "    </tr>\n",
              "    <tr>\n",
              "      <th>6115</th>\n",
              "      <td>2024-04-24</td>\n",
              "      <td>839.500000</td>\n",
              "      <td>840.820007</td>\n",
              "      <td>791.830017</td>\n",
              "      <td>796.770020</td>\n",
              "      <td>796.770020</td>\n",
              "      <td>50961600</td>\n",
              "    </tr>\n",
              "  </tbody>\n",
              "</table>\n",
              "</div>\n",
              "    <div class=\"colab-df-buttons\">\n",
              "\n",
              "  <div class=\"colab-df-container\">\n",
              "    <button class=\"colab-df-convert\" onclick=\"convertToInteractive('df-ed67872a-49a0-4a49-a14c-851e54c16f8d')\"\n",
              "            title=\"Convert this dataframe to an interactive table.\"\n",
              "            style=\"display:none;\">\n",
              "\n",
              "  <svg xmlns=\"http://www.w3.org/2000/svg\" height=\"24px\" viewBox=\"0 -960 960 960\">\n",
              "    <path d=\"M120-120v-720h720v720H120Zm60-500h600v-160H180v160Zm220 220h160v-160H400v160Zm0 220h160v-160H400v160ZM180-400h160v-160H180v160Zm440 0h160v-160H620v160ZM180-180h160v-160H180v160Zm440 0h160v-160H620v160Z\"/>\n",
              "  </svg>\n",
              "    </button>\n",
              "\n",
              "  <style>\n",
              "    .colab-df-container {\n",
              "      display:flex;\n",
              "      gap: 12px;\n",
              "    }\n",
              "\n",
              "    .colab-df-convert {\n",
              "      background-color: #E8F0FE;\n",
              "      border: none;\n",
              "      border-radius: 50%;\n",
              "      cursor: pointer;\n",
              "      display: none;\n",
              "      fill: #1967D2;\n",
              "      height: 32px;\n",
              "      padding: 0 0 0 0;\n",
              "      width: 32px;\n",
              "    }\n",
              "\n",
              "    .colab-df-convert:hover {\n",
              "      background-color: #E2EBFA;\n",
              "      box-shadow: 0px 1px 2px rgba(60, 64, 67, 0.3), 0px 1px 3px 1px rgba(60, 64, 67, 0.15);\n",
              "      fill: #174EA6;\n",
              "    }\n",
              "\n",
              "    .colab-df-buttons div {\n",
              "      margin-bottom: 4px;\n",
              "    }\n",
              "\n",
              "    [theme=dark] .colab-df-convert {\n",
              "      background-color: #3B4455;\n",
              "      fill: #D2E3FC;\n",
              "    }\n",
              "\n",
              "    [theme=dark] .colab-df-convert:hover {\n",
              "      background-color: #434B5C;\n",
              "      box-shadow: 0px 1px 3px 1px rgba(0, 0, 0, 0.15);\n",
              "      filter: drop-shadow(0px 1px 2px rgba(0, 0, 0, 0.3));\n",
              "      fill: #FFFFFF;\n",
              "    }\n",
              "  </style>\n",
              "\n",
              "    <script>\n",
              "      const buttonEl =\n",
              "        document.querySelector('#df-ed67872a-49a0-4a49-a14c-851e54c16f8d button.colab-df-convert');\n",
              "      buttonEl.style.display =\n",
              "        google.colab.kernel.accessAllowed ? 'block' : 'none';\n",
              "\n",
              "      async function convertToInteractive(key) {\n",
              "        const element = document.querySelector('#df-ed67872a-49a0-4a49-a14c-851e54c16f8d');\n",
              "        const dataTable =\n",
              "          await google.colab.kernel.invokeFunction('convertToInteractive',\n",
              "                                                    [key], {});\n",
              "        if (!dataTable) return;\n",
              "\n",
              "        const docLinkHtml = 'Like what you see? Visit the ' +\n",
              "          '<a target=\"_blank\" href=https://colab.research.google.com/notebooks/data_table.ipynb>data table notebook</a>'\n",
              "          + ' to learn more about interactive tables.';\n",
              "        element.innerHTML = '';\n",
              "        dataTable['output_type'] = 'display_data';\n",
              "        await google.colab.output.renderOutput(dataTable, element);\n",
              "        const docLink = document.createElement('div');\n",
              "        docLink.innerHTML = docLinkHtml;\n",
              "        element.appendChild(docLink);\n",
              "      }\n",
              "    </script>\n",
              "  </div>\n",
              "\n",
              "\n",
              "<div id=\"df-761217b2-dd0c-437b-bc32-0335d9f6f099\">\n",
              "  <button class=\"colab-df-quickchart\" onclick=\"quickchart('df-761217b2-dd0c-437b-bc32-0335d9f6f099')\"\n",
              "            title=\"Suggest charts\"\n",
              "            style=\"display:none;\">\n",
              "\n",
              "<svg xmlns=\"http://www.w3.org/2000/svg\" height=\"24px\"viewBox=\"0 0 24 24\"\n",
              "     width=\"24px\">\n",
              "    <g>\n",
              "        <path d=\"M19 3H5c-1.1 0-2 .9-2 2v14c0 1.1.9 2 2 2h14c1.1 0 2-.9 2-2V5c0-1.1-.9-2-2-2zM9 17H7v-7h2v7zm4 0h-2V7h2v10zm4 0h-2v-4h2v4z\"/>\n",
              "    </g>\n",
              "</svg>\n",
              "  </button>\n",
              "\n",
              "<style>\n",
              "  .colab-df-quickchart {\n",
              "      --bg-color: #E8F0FE;\n",
              "      --fill-color: #1967D2;\n",
              "      --hover-bg-color: #E2EBFA;\n",
              "      --hover-fill-color: #174EA6;\n",
              "      --disabled-fill-color: #AAA;\n",
              "      --disabled-bg-color: #DDD;\n",
              "  }\n",
              "\n",
              "  [theme=dark] .colab-df-quickchart {\n",
              "      --bg-color: #3B4455;\n",
              "      --fill-color: #D2E3FC;\n",
              "      --hover-bg-color: #434B5C;\n",
              "      --hover-fill-color: #FFFFFF;\n",
              "      --disabled-bg-color: #3B4455;\n",
              "      --disabled-fill-color: #666;\n",
              "  }\n",
              "\n",
              "  .colab-df-quickchart {\n",
              "    background-color: var(--bg-color);\n",
              "    border: none;\n",
              "    border-radius: 50%;\n",
              "    cursor: pointer;\n",
              "    display: none;\n",
              "    fill: var(--fill-color);\n",
              "    height: 32px;\n",
              "    padding: 0;\n",
              "    width: 32px;\n",
              "  }\n",
              "\n",
              "  .colab-df-quickchart:hover {\n",
              "    background-color: var(--hover-bg-color);\n",
              "    box-shadow: 0 1px 2px rgba(60, 64, 67, 0.3), 0 1px 3px 1px rgba(60, 64, 67, 0.15);\n",
              "    fill: var(--button-hover-fill-color);\n",
              "  }\n",
              "\n",
              "  .colab-df-quickchart-complete:disabled,\n",
              "  .colab-df-quickchart-complete:disabled:hover {\n",
              "    background-color: var(--disabled-bg-color);\n",
              "    fill: var(--disabled-fill-color);\n",
              "    box-shadow: none;\n",
              "  }\n",
              "\n",
              "  .colab-df-spinner {\n",
              "    border: 2px solid var(--fill-color);\n",
              "    border-color: transparent;\n",
              "    border-bottom-color: var(--fill-color);\n",
              "    animation:\n",
              "      spin 1s steps(1) infinite;\n",
              "  }\n",
              "\n",
              "  @keyframes spin {\n",
              "    0% {\n",
              "      border-color: transparent;\n",
              "      border-bottom-color: var(--fill-color);\n",
              "      border-left-color: var(--fill-color);\n",
              "    }\n",
              "    20% {\n",
              "      border-color: transparent;\n",
              "      border-left-color: var(--fill-color);\n",
              "      border-top-color: var(--fill-color);\n",
              "    }\n",
              "    30% {\n",
              "      border-color: transparent;\n",
              "      border-left-color: var(--fill-color);\n",
              "      border-top-color: var(--fill-color);\n",
              "      border-right-color: var(--fill-color);\n",
              "    }\n",
              "    40% {\n",
              "      border-color: transparent;\n",
              "      border-right-color: var(--fill-color);\n",
              "      border-top-color: var(--fill-color);\n",
              "    }\n",
              "    60% {\n",
              "      border-color: transparent;\n",
              "      border-right-color: var(--fill-color);\n",
              "    }\n",
              "    80% {\n",
              "      border-color: transparent;\n",
              "      border-right-color: var(--fill-color);\n",
              "      border-bottom-color: var(--fill-color);\n",
              "    }\n",
              "    90% {\n",
              "      border-color: transparent;\n",
              "      border-bottom-color: var(--fill-color);\n",
              "    }\n",
              "  }\n",
              "</style>\n",
              "\n",
              "  <script>\n",
              "    async function quickchart(key) {\n",
              "      const quickchartButtonEl =\n",
              "        document.querySelector('#' + key + ' button');\n",
              "      quickchartButtonEl.disabled = true;  // To prevent multiple clicks.\n",
              "      quickchartButtonEl.classList.add('colab-df-spinner');\n",
              "      try {\n",
              "        const charts = await google.colab.kernel.invokeFunction(\n",
              "            'suggestCharts', [key], {});\n",
              "      } catch (error) {\n",
              "        console.error('Error during call to suggestCharts:', error);\n",
              "      }\n",
              "      quickchartButtonEl.classList.remove('colab-df-spinner');\n",
              "      quickchartButtonEl.classList.add('colab-df-quickchart-complete');\n",
              "    }\n",
              "    (() => {\n",
              "      let quickchartButtonEl =\n",
              "        document.querySelector('#df-761217b2-dd0c-437b-bc32-0335d9f6f099 button');\n",
              "      quickchartButtonEl.style.display =\n",
              "        google.colab.kernel.accessAllowed ? 'block' : 'none';\n",
              "    })();\n",
              "  </script>\n",
              "</div>\n",
              "\n",
              "    </div>\n",
              "  </div>\n"
            ],
            "application/vnd.google.colaboratory.intrinsic+json": {
              "type": "dataframe",
              "repr_error": "0"
            }
          },
          "metadata": {},
          "execution_count": 4
        }
      ],
      "source": [
        "df.tail()"
      ]
    },
    {
      "cell_type": "code",
      "execution_count": 5,
      "metadata": {
        "id": "GfsX_WHh3_Ly"
      },
      "outputs": [],
      "source": [
        "df1=df.reset_index()['Close']"
      ]
    },
    {
      "cell_type": "code",
      "execution_count": 6,
      "metadata": {
        "id": "RByh7Nal3_Lz",
        "outputId": "9da26253-727d-4370-bcaa-8baf893eabfc",
        "colab": {
          "base_uri": "https://localhost:8080/"
        }
      },
      "outputs": [
        {
          "output_type": "execute_result",
          "data": {
            "text/plain": [
              "0         0.975260\n",
              "1         0.949219\n",
              "2         0.917969\n",
              "3         0.858073\n",
              "4         0.872396\n",
              "           ...    \n",
              "6111    846.710022\n",
              "6112    762.000000\n",
              "6113    795.179993\n",
              "6114    824.229980\n",
              "6115    796.770020\n",
              "Name: Close, Length: 6116, dtype: float64"
            ]
          },
          "metadata": {},
          "execution_count": 6
        }
      ],
      "source": [
        "df1"
      ]
    },
    {
      "cell_type": "code",
      "execution_count": 7,
      "metadata": {
        "id": "XRy1p3Nr3_Lz",
        "outputId": "09f12c20-de86-4394-96b6-066750c6c367",
        "colab": {
          "base_uri": "https://localhost:8080/",
          "height": 447
        }
      },
      "outputs": [
        {
          "output_type": "execute_result",
          "data": {
            "text/plain": [
              "[<matplotlib.lines.Line2D at 0x7ce592774400>]"
            ]
          },
          "metadata": {},
          "execution_count": 7
        },
        {
          "output_type": "display_data",
          "data": {
            "text/plain": [
              "<Figure size 640x480 with 1 Axes>"
            ],
            "image/png": "[encoded data removed]"
          },
          "metadata": {}
        }
      ],
      "source": [
        "import matplotlib.pyplot as plt\n",
        "plt.plot(df1)"
      ]
    },
    {
      "cell_type": "code",
      "execution_count": null,
      "metadata": {
        "id": "Dot_0FBL3_L0"
      },
      "outputs": [],
      "source": [
        "### LSTM are sensitive to the scale of the data. so we apply MinMax scaler"
      ]
    },
    {
      "cell_type": "code",
      "execution_count": 8,
      "metadata": {
        "id": "9Fpw3FEI3_L0"
      },
      "outputs": [],
      "source": [
        "import numpy as np"
      ]
    },
    {
      "cell_type": "code",
      "execution_count": 9,
      "metadata": {
        "id": "Mm7QRfWB3_L0",
        "outputId": "e4cf99ca-adee-42a9-b85c-2e764a38d58d",
        "colab": {
          "base_uri": "https://localhost:8080/"
        }
      },
      "outputs": [
        {
          "output_type": "execute_result",
          "data": {
            "text/plain": [
              "0         0.975260\n",
              "1         0.949219\n",
              "2         0.917969\n",
              "3         0.858073\n",
              "4         0.872396\n",
              "           ...    \n",
              "6111    846.710022\n",
              "6112    762.000000\n",
              "6113    795.179993\n",
              "6114    824.229980\n",
              "6115    796.770020\n",
              "Name: Close, Length: 6116, dtype: float64"
            ]
          },
          "metadata": {},
          "execution_count": 9
        }
      ],
      "source": [
        "df1"
      ]
    },
    {
      "cell_type": "code",
      "execution_count": 10,
      "metadata": {
        "id": "lamUwHOk3_L1"
      },
      "outputs": [],
      "source": [
        "from sklearn.preprocessing import MinMaxScaler\n",
        "scaler=MinMaxScaler(feature_range=(0,1))\n",
        "df1=scaler.fit_transform(np.array(df1).reshape(-1,1))"
      ]
    },
    {
      "cell_type": "code",
      "execution_count": 11,
      "metadata": {
        "id": "AxGs8ULU3_L1",
        "outputId": "ff0a1157-eb38-4e53-bcde-bc46e243a00d",
        "colab": {
          "base_uri": "https://localhost:8080/"
        }
      },
      "outputs": [
        {
          "output_type": "stream",
          "name": "stdout",
          "text": [
            "[[3.80335764e-04]\n",
            " [3.52907030e-04]\n",
            " [3.19991707e-04]\n",
            " ...\n",
            " [8.36908498e-01]\n",
            " [8.67506568e-01]\n",
            " [8.38583258e-01]]\n"
          ]
        }
      ],
      "source": [
        "print(df1)"
      ]
    },
    {
      "cell_type": "code",
      "execution_count": 12,
      "metadata": {
        "id": "TTOTAB923_L1"
      },
      "outputs": [],
      "source": [
        "##splitting dataset into train and test split\n",
        "training_size=int(len(df1)*0.65)\n",
        "test_size=len(df1)-training_size\n",
        "train_data,test_data=df1[0:training_size,:],df1[training_size:len(df1),:1]"
      ]
    },
    {
      "cell_type": "code",
      "execution_count": 13,
      "metadata": {
        "id": "MmoK4iTr3_L2",
        "outputId": "212e4d6e-1218-4f5f-8572-7d4bb2adcb43",
        "colab": {
          "base_uri": "https://localhost:8080/"
        }
      },
      "outputs": [
        {
          "output_type": "execute_result",
          "data": {
            "text/plain": [
              "(3975, 2141)"
            ]
          },
          "metadata": {},
          "execution_count": 13
        }
      ],
      "source": [
        "training_size,test_size"
      ]
    },
    {
      "cell_type": "code",
      "execution_count": 14,
      "metadata": {
        "id": "YHYyZtfD3_L3",
        "outputId": "f8e58dc5-7e70-4c75-eb9b-6ff068c9b901",
        "colab": {
          "base_uri": "https://localhost:8080/"
        }
      },
      "outputs": [
        {
          "output_type": "execute_result",
          "data": {
            "text/plain": [
              "array([[0.00038034],\n",
              "       [0.00035291],\n",
              "       [0.00031999],\n",
              "       ...,\n",
              "       [0.00668927],\n",
              "       [0.0066761 ],\n",
              "       [0.00666557]])"
            ]
          },
          "metadata": {},
          "execution_count": 14
        }
      ],
      "source": [
        "train_data"
      ]
    },
    {
      "cell_type": "code",
      "execution_count": 15,
      "metadata": {
        "id": "6alx2-x43_L3"
      },
      "outputs": [],
      "source": [
        "import numpy\n",
        "# convert an array of values into a dataset matrix\n",
        "def create_dataset(dataset, time_step=1):\n",
        "\tdataX, dataY = [], []\n",
        "\tfor i in range(len(dataset)-time_step-1):\n",
        "\t\ta = dataset[i:(i+time_step), 0]   ###i=0, 0,1,2,3-----99   100\n",
        "\t\tdataX.append(a)\n",
        "\t\tdataY.append(dataset[i + time_step, 0])\n",
        "\treturn numpy.array(dataX), numpy.array(dataY)"
      ]
    },
    {
      "cell_type": "code",
      "execution_count": 16,
      "metadata": {
        "id": "tjXRr1Sh3_L4"
      },
      "outputs": [],
      "source": [
        "# reshape into X=t,t+1,t+2,t+3 and Y=t+4\n",
        "time_step = 100\n",
        "X_train, y_train = create_dataset(train_data, time_step)\n",
        "X_test, ytest = create_dataset(test_data, time_step)"
      ]
    },
    {
      "cell_type": "code",
      "execution_count": 17,
      "metadata": {
        "id": "v4HZjIqE3_L5",
        "outputId": "b823ad09-7fe4-43ab-8e50-93375919ed01",
        "colab": {
          "base_uri": "https://localhost:8080/"
        }
      },
      "outputs": [
        {
          "output_type": "stream",
          "name": "stdout",
          "text": [
            "(3874, 100)\n",
            "(3874,)\n"
          ]
        },
        {
          "output_type": "execute_result",
          "data": {
            "text/plain": [
              "(None, None)"
            ]
          },
          "metadata": {},
          "execution_count": 17
        }
      ],
      "source": [
        "print(X_train.shape), print(y_train.shape)"
      ]
    },
    {
      "cell_type": "code",
      "execution_count": 18,
      "metadata": {
        "id": "yTiYpnC43_L5",
        "outputId": "a3c638a9-da47-4d4b-d669-3c701a700db7",
        "colab": {
          "base_uri": "https://localhost:8080/"
        }
      },
      "outputs": [
        {
          "output_type": "stream",
          "name": "stdout",
          "text": [
            "(2040, 100)\n",
            "(2040,)\n"
          ]
        },
        {
          "output_type": "execute_result",
          "data": {
            "text/plain": [
              "(None, None)"
            ]
          },
          "metadata": {},
          "execution_count": 18
        }
      ],
      "source": [
        "print(X_test.shape), print(ytest.shape)"
      ]
    },
    {
      "cell_type": "code",
      "execution_count": 19,
      "metadata": {
        "id": "5PDq9CwM3_L6"
      },
      "outputs": [],
      "source": [
        "# reshape input to be [samples, time steps, features] which is required for LSTM\n",
        "X_train =X_train.reshape(X_train.shape[0],X_train.shape[1] , 1)\n",
        "X_test = X_test.reshape(X_test.shape[0],X_test.shape[1] , 1)"
      ]
    },
    {
      "cell_type": "code",
      "execution_count": 20,
      "metadata": {
        "id": "yYm9N29m3_L7"
      },
      "outputs": [],
      "source": [
        "### Create the Stacked LSTM model\n",
        "from tensorflow.keras.models import Sequential\n",
        "from tensorflow.keras.layers import Dense\n",
        "from tensorflow.keras.layers import LSTM"
      ]
    },
    {
      "cell_type": "code",
      "source": [],
      "metadata": {
        "id": "Mexox5mr2f0d"
      },
      "execution_count": null,
      "outputs": []
    },
    {
      "cell_type": "code",
      "execution_count": 21,
      "metadata": {
        "id": "LKg9TBX03_L7"
      },
      "outputs": [],
      "source": [
        "model=Sequential()\n",
        "model.add(LSTM(50,return_sequences=True,input_shape=(100,1)))\n",
        "model.add(LSTM(50,return_sequences=True))\n",
        "model.add(LSTM(50))\n",
        "model.add(Dense(1))\n",
        "model.compile(loss='mean_squared_error',optimizer='adam')\n"
      ]
    },
    {
      "cell_type": "code",
      "execution_count": 22,
      "metadata": {
        "id": "eEhFWACO3_L7",
        "outputId": "cfb9f513-03ad-4b9b-b3da-26d1dd436605",
        "colab": {
          "base_uri": "https://localhost:8080/"
        }
      },
      "outputs": [
        {
          "output_type": "stream",
          "name": "stdout",
          "text": [
            "Model: \"sequential\"\n",
            "_________________________________________________________________\n",
            " Layer (type)                Output Shape              Param #   \n",
            "=================================================================\n",
            " lstm (LSTM)                 (None, 100, 50)           10400     \n",
            "                                                                 \n",
            " lstm_1 (LSTM)               (None, 100, 50)           20200     \n",
            "                                                                 \n",
            " lstm_2 (LSTM)               (None, 50)                20200     \n",
            "                                                                 \n",
            " dense (Dense)               (None, 1)                 51        \n",
            "                                                                 \n",
            "=================================================================\n",
            "Total params: 50851 (198.64 KB)\n",
            "Trainable params: 50851 (198.64 KB)\n",
            "Non-trainable params: 0 (0.00 Byte)\n",
            "_________________________________________________________________\n"
          ]
        }
      ],
      "source": [
        "model.summary()"
      ]
    },
    {
      "cell_type": "code",
      "execution_count": 23,
      "metadata": {
        "id": "JjZ7oRzB3_L8",
        "outputId": "6c8b3e1b-6421-49aa-8cf3-1939ab57dc62",
        "colab": {
          "base_uri": "https://localhost:8080/"
        }
      },
      "outputs": [
        {
          "output_type": "stream",
          "name": "stdout",
          "text": [
            "Epoch 1/100\n",
            "61/61 [==============================] - 20s 243ms/step - loss: 2.4466e-05 - val_loss: 0.0516\n",
            "Epoch 2/100\n",
            "61/61 [==============================] - 13s 219ms/step - loss: 2.6640e-06 - val_loss: 0.0450\n",
            "Epoch 3/100\n",
            "61/61 [==============================] - 13s 222ms/step - loss: 2.1296e-06 - val_loss: 0.0296\n",
            "Epoch 4/100\n",
            "61/61 [==============================] - 13s 220ms/step - loss: 1.0414e-06 - val_loss: 0.0056\n",
            "Epoch 5/100\n",
            "61/61 [==============================] - 13s 206ms/step - loss: 2.6785e-07 - val_loss: 0.0049\n",
            "Epoch 6/100\n",
            "61/61 [==============================] - 13s 216ms/step - loss: 3.0637e-07 - val_loss: 0.0052\n",
            "Epoch 7/100\n",
            "61/61 [==============================] - 13s 210ms/step - loss: 2.7488e-07 - val_loss: 0.0047\n",
            "Epoch 8/100\n",
            "61/61 [==============================] - 13s 221ms/step - loss: 2.5523e-07 - val_loss: 0.0042\n",
            "Epoch 9/100\n",
            "61/61 [==============================] - 13s 222ms/step - loss: 2.2194e-07 - val_loss: 0.0044\n",
            "Epoch 10/100\n",
            "61/61 [==============================] - 13s 222ms/step - loss: 4.4799e-07 - val_loss: 0.0047\n",
            "Epoch 11/100\n",
            "61/61 [==============================] - 13s 220ms/step - loss: 2.1528e-07 - val_loss: 0.0040\n",
            "Epoch 12/100\n",
            "61/61 [==============================] - 13s 215ms/step - loss: 2.3593e-07 - val_loss: 0.0042\n",
            "Epoch 13/100\n",
            "61/61 [==============================] - 12s 195ms/step - loss: 2.1399e-07 - val_loss: 0.0040\n",
            "Epoch 14/100\n",
            "61/61 [==============================] - 13s 209ms/step - loss: 2.6830e-07 - val_loss: 0.0041\n",
            "Epoch 15/100\n",
            "61/61 [==============================] - 13s 222ms/step - loss: 2.7491e-07 - val_loss: 0.0038\n",
            "Epoch 16/100\n",
            "61/61 [==============================] - 13s 221ms/step - loss: 1.8770e-07 - val_loss: 0.0033\n",
            "Epoch 17/100\n",
            "61/61 [==============================] - 13s 220ms/step - loss: 2.1834e-07 - val_loss: 0.0034\n",
            "Epoch 18/100\n",
            "61/61 [==============================] - 13s 222ms/step - loss: 1.5248e-07 - val_loss: 0.0032\n",
            "Epoch 19/100\n",
            "61/61 [==============================] - 16s 256ms/step - loss: 1.5152e-07 - val_loss: 0.0029\n",
            "Epoch 20/100\n",
            "61/61 [==============================] - 13s 213ms/step - loss: 1.9906e-07 - val_loss: 0.0031\n",
            "Epoch 21/100\n",
            "61/61 [==============================] - 13s 204ms/step - loss: 2.0556e-07 - val_loss: 0.0029\n",
            "Epoch 22/100\n",
            "61/61 [==============================] - 13s 206ms/step - loss: 2.3690e-07 - val_loss: 0.0028\n",
            "Epoch 23/100\n",
            "61/61 [==============================] - 13s 220ms/step - loss: 1.7062e-07 - val_loss: 0.0029\n",
            "Epoch 24/100\n",
            "61/61 [==============================] - 14s 223ms/step - loss: 1.5874e-07 - val_loss: 0.0032\n",
            "Epoch 25/100\n",
            "61/61 [==============================] - 13s 219ms/step - loss: 2.4269e-07 - val_loss: 0.0032\n",
            "Epoch 26/100\n",
            "61/61 [==============================] - 14s 223ms/step - loss: 2.2709e-07 - val_loss: 0.0031\n",
            "Epoch 27/100\n",
            "61/61 [==============================] - 13s 217ms/step - loss: 1.3117e-07 - val_loss: 0.0028\n",
            "Epoch 28/100\n",
            "61/61 [==============================] - 13s 210ms/step - loss: 1.7649e-07 - val_loss: 0.0030\n",
            "Epoch 29/100\n",
            "61/61 [==============================] - 12s 199ms/step - loss: 1.6178e-07 - val_loss: 0.0032\n",
            "Epoch 30/100\n",
            "61/61 [==============================] - 14s 226ms/step - loss: 1.7113e-07 - val_loss: 0.0024\n",
            "Epoch 31/100\n",
            "61/61 [==============================] - 14s 221ms/step - loss: 1.4106e-07 - val_loss: 0.0026\n",
            "Epoch 32/100\n",
            "61/61 [==============================] - 13s 220ms/step - loss: 1.2675e-07 - val_loss: 0.0026\n",
            "Epoch 33/100\n",
            "61/61 [==============================] - 14s 225ms/step - loss: 1.8396e-07 - val_loss: 0.0038\n",
            "Epoch 34/100\n",
            "61/61 [==============================] - 14s 224ms/step - loss: 1.5613e-07 - val_loss: 0.0023\n",
            "Epoch 35/100\n",
            "61/61 [==============================] - 13s 221ms/step - loss: 1.8996e-07 - val_loss: 0.0028\n",
            "Epoch 36/100\n",
            "61/61 [==============================] - 13s 206ms/step - loss: 1.7970e-07 - val_loss: 0.0026\n",
            "Epoch 37/100\n",
            "61/61 [==============================] - 12s 200ms/step - loss: 1.6865e-07 - val_loss: 0.0026\n",
            "Epoch 38/100\n",
            "61/61 [==============================] - 13s 219ms/step - loss: 1.2872e-07 - val_loss: 0.0024\n",
            "Epoch 39/100\n",
            "61/61 [==============================] - 14s 223ms/step - loss: 1.0973e-07 - val_loss: 0.0024\n",
            "Epoch 40/100\n",
            "61/61 [==============================] - 13s 222ms/step - loss: 1.9258e-07 - val_loss: 0.0024\n",
            "Epoch 41/100\n",
            "61/61 [==============================] - 14s 223ms/step - loss: 2.5942e-07 - val_loss: 0.0023\n",
            "Epoch 42/100\n",
            "61/61 [==============================] - 14s 223ms/step - loss: 1.4813e-07 - val_loss: 0.0029\n",
            "Epoch 43/100\n",
            "61/61 [==============================] - 13s 216ms/step - loss: 3.9998e-07 - val_loss: 0.0029\n",
            "Epoch 44/100\n",
            "61/61 [==============================] - 12s 203ms/step - loss: 1.2406e-07 - val_loss: 0.0029\n",
            "Epoch 45/100\n",
            "61/61 [==============================] - 12s 201ms/step - loss: 1.2499e-07 - val_loss: 0.0026\n",
            "Epoch 46/100\n",
            "61/61 [==============================] - 13s 222ms/step - loss: 1.1558e-07 - val_loss: 0.0029\n",
            "Epoch 47/100\n",
            "61/61 [==============================] - 13s 221ms/step - loss: 1.5509e-07 - val_loss: 0.0027\n",
            "Epoch 48/100\n",
            "61/61 [==============================] - 13s 221ms/step - loss: 1.2043e-07 - val_loss: 0.0031\n",
            "Epoch 49/100\n",
            "61/61 [==============================] - 13s 221ms/step - loss: 1.0724e-07 - val_loss: 0.0029\n",
            "Epoch 50/100\n",
            "61/61 [==============================] - 13s 219ms/step - loss: 1.2427e-07 - val_loss: 0.0027\n",
            "Epoch 51/100\n",
            "61/61 [==============================] - 12s 202ms/step - loss: 1.5106e-07 - val_loss: 0.0023\n",
            "Epoch 52/100\n",
            "61/61 [==============================] - 12s 194ms/step - loss: 1.3498e-07 - val_loss: 0.0027\n",
            "Epoch 53/100\n",
            "61/61 [==============================] - 13s 215ms/step - loss: 1.1379e-07 - val_loss: 0.0025\n",
            "Epoch 54/100\n",
            "61/61 [==============================] - 13s 219ms/step - loss: 1.3560e-07 - val_loss: 0.0024\n",
            "Epoch 55/100\n",
            "61/61 [==============================] - 13s 217ms/step - loss: 1.4166e-07 - val_loss: 0.0027\n",
            "Epoch 56/100\n",
            "61/61 [==============================] - 13s 219ms/step - loss: 1.3325e-07 - val_loss: 0.0025\n",
            "Epoch 57/100\n",
            "61/61 [==============================] - 13s 221ms/step - loss: 1.3240e-07 - val_loss: 0.0027\n",
            "Epoch 58/100\n",
            "61/61 [==============================] - 13s 208ms/step - loss: 1.2270e-07 - val_loss: 0.0028\n",
            "Epoch 59/100\n",
            "61/61 [==============================] - 12s 202ms/step - loss: 1.1512e-07 - val_loss: 0.0029\n",
            "Epoch 60/100\n",
            "61/61 [==============================] - 13s 215ms/step - loss: 2.3209e-07 - val_loss: 0.0024\n",
            "Epoch 61/100\n",
            "61/61 [==============================] - 13s 220ms/step - loss: 1.2722e-07 - val_loss: 0.0023\n",
            "Epoch 62/100\n",
            "61/61 [==============================] - 14s 222ms/step - loss: 1.4833e-07 - val_loss: 0.0026\n",
            "Epoch 63/100\n",
            "61/61 [==============================] - 13s 222ms/step - loss: 1.6898e-07 - val_loss: 0.0029\n",
            "Epoch 64/100\n",
            "61/61 [==============================] - 13s 221ms/step - loss: 2.9300e-07 - val_loss: 0.0034\n",
            "Epoch 65/100\n",
            "61/61 [==============================] - 17s 275ms/step - loss: 1.3085e-07 - val_loss: 0.0028\n",
            "Epoch 66/100\n",
            "61/61 [==============================] - 14s 227ms/step - loss: 1.0747e-07 - val_loss: 0.0030\n",
            "Epoch 67/100\n",
            "61/61 [==============================] - 13s 204ms/step - loss: 1.7030e-07 - val_loss: 0.0031\n",
            "Epoch 68/100\n",
            "61/61 [==============================] - 12s 203ms/step - loss: 1.0969e-07 - val_loss: 0.0032\n",
            "Epoch 69/100\n",
            "61/61 [==============================] - 14s 221ms/step - loss: 1.3967e-07 - val_loss: 0.0033\n",
            "Epoch 70/100\n",
            "61/61 [==============================] - 13s 222ms/step - loss: 1.3620e-07 - val_loss: 0.0031\n",
            "Epoch 71/100\n",
            "61/61 [==============================] - 13s 222ms/step - loss: 1.3573e-07 - val_loss: 0.0030\n",
            "Epoch 72/100\n",
            "61/61 [==============================] - 13s 220ms/step - loss: 1.2369e-07 - val_loss: 0.0034\n",
            "Epoch 73/100\n",
            "61/61 [==============================] - 13s 222ms/step - loss: 1.3567e-07 - val_loss: 0.0032\n",
            "Epoch 74/100\n",
            "61/61 [==============================] - 13s 222ms/step - loss: 1.3571e-07 - val_loss: 0.0029\n",
            "Epoch 75/100\n",
            "61/61 [==============================] - 13s 216ms/step - loss: 1.0486e-07 - val_loss: 0.0027\n",
            "Epoch 76/100\n",
            "61/61 [==============================] - 12s 200ms/step - loss: 1.0500e-07 - val_loss: 0.0033\n",
            "Epoch 77/100\n",
            "61/61 [==============================] - 13s 208ms/step - loss: 1.2671e-07 - val_loss: 0.0031\n",
            "Epoch 78/100\n",
            "61/61 [==============================] - 14s 222ms/step - loss: 1.6632e-07 - val_loss: 0.0038\n",
            "Epoch 79/100\n",
            "61/61 [==============================] - 13s 222ms/step - loss: 2.0036e-07 - val_loss: 0.0035\n",
            "Epoch 80/100\n",
            "61/61 [==============================] - 13s 222ms/step - loss: 1.1793e-07 - val_loss: 0.0032\n",
            "Epoch 81/100\n",
            "61/61 [==============================] - 13s 222ms/step - loss: 8.0928e-08 - val_loss: 0.0037\n",
            "Epoch 82/100\n",
            "61/61 [==============================] - 13s 220ms/step - loss: 1.2018e-07 - val_loss: 0.0034\n",
            "Epoch 83/100\n",
            "61/61 [==============================] - 13s 219ms/step - loss: 9.9511e-08 - val_loss: 0.0031\n",
            "Epoch 84/100\n",
            "61/61 [==============================] - 12s 204ms/step - loss: 9.4425e-08 - val_loss: 0.0037\n",
            "Epoch 85/100\n",
            "61/61 [==============================] - 12s 202ms/step - loss: 1.5373e-07 - val_loss: 0.0042\n",
            "Epoch 86/100\n",
            "61/61 [==============================] - 13s 216ms/step - loss: 1.2898e-07 - val_loss: 0.0042\n",
            "Epoch 87/100\n",
            "61/61 [==============================] - 13s 221ms/step - loss: 1.3032e-07 - val_loss: 0.0038\n",
            "Epoch 88/100\n",
            "61/61 [==============================] - 14s 222ms/step - loss: 1.3867e-07 - val_loss: 0.0038\n",
            "Epoch 89/100\n",
            "61/61 [==============================] - 14s 223ms/step - loss: 1.1879e-07 - val_loss: 0.0034\n",
            "Epoch 90/100\n",
            "61/61 [==============================] - 13s 221ms/step - loss: 8.9855e-08 - val_loss: 0.0036\n",
            "Epoch 91/100\n",
            "61/61 [==============================] - 13s 220ms/step - loss: 2.0680e-07 - val_loss: 0.0039\n",
            "Epoch 92/100\n",
            "61/61 [==============================] - 13s 211ms/step - loss: 1.3191e-07 - val_loss: 0.0036\n",
            "Epoch 93/100\n",
            "61/61 [==============================] - 12s 199ms/step - loss: 1.1451e-07 - val_loss: 0.0036\n",
            "Epoch 94/100\n",
            "61/61 [==============================] - 13s 210ms/step - loss: 1.0730e-07 - val_loss: 0.0044\n",
            "Epoch 95/100\n",
            "61/61 [==============================] - 13s 221ms/step - loss: 1.6547e-07 - val_loss: 0.0044\n",
            "Epoch 96/100\n",
            "61/61 [==============================] - 13s 221ms/step - loss: 9.0120e-08 - val_loss: 0.0043\n",
            "Epoch 97/100\n",
            "61/61 [==============================] - 13s 222ms/step - loss: 1.0076e-07 - val_loss: 0.0039\n",
            "Epoch 98/100\n",
            "61/61 [==============================] - 13s 222ms/step - loss: 1.2942e-07 - val_loss: 0.0048\n",
            "Epoch 99/100\n",
            "61/61 [==============================] - 13s 221ms/step - loss: 1.2543e-07 - val_loss: 0.0045\n",
            "Epoch 100/100\n",
            "61/61 [==============================] - 13s 215ms/step - loss: 1.0159e-07 - val_loss: 0.0041\n"
          ]
        },
        {
          "output_type": "execute_result",
          "data": {
            "text/plain": [
              "<keras.src.callbacks.History at 0x7ce52971bb20>"
            ]
          },
          "metadata": {},
          "execution_count": 23
        }
      ],
      "source": [
        "model.fit(X_train,y_train,validation_data=(X_test,ytest),epochs=100,batch_size=64,verbose=1)"
      ]
    },
    {
      "cell_type": "code",
      "execution_count": 24,
      "metadata": {
        "id": "czQceV9C3_L9"
      },
      "outputs": [],
      "source": [
        "import tensorflow as tf"
      ]
    },
    {
      "cell_type": "code",
      "execution_count": 28,
      "metadata": {
        "id": "tthmYEqS3_L-",
        "outputId": "afb69385-00d8-4587-81ff-31da8c547739",
        "colab": {
          "base_uri": "https://localhost:8080/",
          "height": 35
        }
      },
      "outputs": [
        {
          "output_type": "execute_result",
          "data": {
            "text/plain": [
              "'2.15.0'"
            ],
            "application/vnd.google.colaboratory.intrinsic+json": {
              "type": "string"
            }
          },
          "metadata": {},
          "execution_count": 28
        }
      ],
      "source": [
        "tf.__version__"
      ]
    },
    {
      "cell_type": "code",
      "execution_count": 25,
      "metadata": {
        "id": "UZj_jE7P3_L-",
        "colab": {
          "base_uri": "https://localhost:8080/"
        },
        "outputId": "679041c8-653e-4df5-d086-5b5fdef19304"
      },
      "outputs": [
        {
          "output_type": "stream",
          "name": "stdout",
          "text": [
            "122/122 [==============================] - 6s 37ms/step\n",
            "64/64 [==============================] - 2s 38ms/step\n"
          ]
        }
      ],
      "source": [
        "### Lets Do the prediction and check performance metrics\n",
        "train_predict=model.predict(X_train)\n",
        "test_predict=model.predict(X_test)"
      ]
    },
    {
      "cell_type": "code",
      "execution_count": 26,
      "metadata": {
        "id": "PAhAWjlc3_L-"
      },
      "outputs": [],
      "source": [
        "##Transformback to original form\n",
        "train_predict=scaler.inverse_transform(train_predict)\n",
        "test_predict=scaler.inverse_transform(test_predict)"
      ]
    },
    {
      "cell_type": "code",
      "execution_count": 27,
      "metadata": {
        "id": "X_YrzplE3_L_",
        "outputId": "e3914128-14da-4245-e857-8d08a36ccc99",
        "colab": {
          "base_uri": "https://localhost:8080/"
        }
      },
      "outputs": [
        {
          "output_type": "execute_result",
          "data": {
            "text/plain": [
              "3.8705766127366807"
            ]
          },
          "metadata": {},
          "execution_count": 27
        }
      ],
      "source": [
        "### Calculate RMSE performance metrics\n",
        "import math\n",
        "from sklearn.metrics import mean_squared_error\n",
        "math.sqrt(mean_squared_error(y_train,train_predict))"
      ]
    },
    {
      "cell_type": "code",
      "execution_count": 28,
      "metadata": {
        "id": "DhOGVTlb3_L_",
        "outputId": "57403b70-2fe8-42f1-9cc7-03c69ce186b7",
        "colab": {
          "base_uri": "https://localhost:8080/"
        }
      },
      "outputs": [
        {
          "output_type": "execute_result",
          "data": {
            "text/plain": [
              "178.83678398746738"
            ]
          },
          "metadata": {},
          "execution_count": 28
        }
      ],
      "source": [
        "### Test Data RMSE\n",
        "math.sqrt(mean_squared_error(ytest,test_predict))"
      ]
    },
    {
      "cell_type": "code",
      "execution_count": 29,
      "metadata": {
        "id": "uBuxbi9k3_MA",
        "outputId": "e28ab6a3-a989-47d6-d9c0-4c3da4887393",
        "colab": {
          "base_uri": "https://localhost:8080/",
          "height": 430
        }
      },
      "outputs": [
        {
          "output_type": "display_data",
          "data": {
            "text/plain": [
              "<Figure size 640x480 with 1 Axes>"
            ],
            "image/png": "[encoded data removed]"
          },
          "metadata": {}
        }
      ],
      "source": [
        "### Plotting\n",
        "# shift train predictions for plotting\n",
        "look_back=100\n",
        "trainPredictPlot = numpy.empty_like(df1)\n",
        "trainPredictPlot[:, :] = np.nan\n",
        "trainPredictPlot[look_back:len(train_predict)+look_back, :] = train_predict\n",
        "# shift test predictions for plotting\n",
        "testPredictPlot = numpy.empty_like(df1)\n",
        "testPredictPlot[:, :] = numpy.nan\n",
        "testPredictPlot[len(train_predict)+(look_back*2)+1:len(df1)-1, :] = test_predict\n",
        "# plot baseline and predictions\n",
        "plt.plot(scaler.inverse_transform(df1))\n",
        "plt.plot(trainPredictPlot)\n",
        "plt.plot(testPredictPlot)\n",
        "plt.show()"
      ]
    },
    {
      "cell_type": "code",
      "execution_count": 31,
      "metadata": {
        "id": "5azbDOMn3_MA",
        "outputId": "8f608fed-abde-4925-892d-47fcaa31bd1d",
        "colab": {
          "base_uri": "https://localhost:8080/"
        }
      },
      "outputs": [
        {
          "output_type": "execute_result",
          "data": {
            "text/plain": [
              "2141"
            ]
          },
          "metadata": {},
          "execution_count": 31
        }
      ],
      "source": [
        "len(test_data)"
      ]
    },
    {
      "cell_type": "code",
      "execution_count": 33,
      "metadata": {
        "id": "-LLSHqc83_MD",
        "outputId": "85079528-9707-4dd8-aa2f-48df0c64fb08",
        "colab": {
          "base_uri": "https://localhost:8080/"
        }
      },
      "outputs": [
        {
          "output_type": "execute_result",
          "data": {
            "text/plain": [
              "(1, 100)"
            ]
          },
          "metadata": {},
          "execution_count": 33
        }
      ],
      "source": [
        "x_input=test_data[2041:].reshape(1,-1)\n",
        "x_input.shape\n"
      ]
    },
    {
      "cell_type": "code",
      "execution_count": 34,
      "metadata": {
        "id": "m5GvsKcT3_ME"
      },
      "outputs": [],
      "source": [
        "temp_input=list(x_input)\n",
        "temp_input=temp_input[0].tolist()"
      ]
    },
    {
      "cell_type": "code",
      "execution_count": 35,
      "metadata": {
        "id": "sjgMwrbQ3_ME",
        "outputId": "eecec2aa-dfc9-4f50-fb7a-b4be8dca5957",
        "colab": {
          "base_uri": "https://localhost:8080/"
        }
      },
      "outputs": [
        {
          "output_type": "execute_result",
          "data": {
            "text/plain": [
              "[0.4919770017470073,\n",
              " 0.4919243182715032,\n",
              " 0.4787055373251422,\n",
              " 0.4898282810565314,\n",
              " 0.4786317996293203,\n",
              " 0.4901442544614268,\n",
              " 0.49972920379710356,\n",
              " 0.4904707723557714,\n",
              " 0.5013196816683201,\n",
              " 0.505859360864926,\n",
              " 0.5086189762514556,\n",
              " 0.5143067376897664,\n",
              " 0.5268092885877752,\n",
              " 0.5218272464136577,\n",
              " 0.5061015965739996,\n",
              " 0.5153600280153317,\n",
              " 0.5136747571746852,\n",
              " 0.5184040528555705,\n",
              " 0.5198575977180119,\n",
              " 0.5209635399203716,\n",
              " 0.5209635399203716,\n",
              " 0.5067019804858944,\n",
              " 0.500392780915371,\n",
              " 0.5049114058916592,\n",
              " 0.516487056036719,\n",
              " 0.5497289282036898,\n",
              " 0.5590716081250027,\n",
              " 0.5718163957853754,\n",
              " 0.5767878955766242,\n",
              " 0.5756082156784427,\n",
              " 0.5932192625738951,\n",
              " 0.5897539605751724,\n",
              " 0.6008556174342439,\n",
              " 0.6259660229838502,\n",
              " 0.6276828914809733,\n",
              " 0.629989599400542,\n",
              " 0.6456731081475647,\n",
              " 0.6483589858382723,\n",
              " 0.6421867203298144,\n",
              " 0.6572909309839697,\n",
              " 0.6605455622780956,\n",
              " 0.6474110635170056,\n",
              " 0.6632104184004856,\n",
              " 0.696209957955673,\n",
              " 0.7296203597346054,\n",
              " 0.7179393415852471,\n",
              " 0.737699078625756,\n",
              " 0.7328749910287312,\n",
              " 0.7591230322865935,\n",
              " 0.7603342771892516,\n",
              " 0.7590703804097992,\n",
              " 0.7777346544333974,\n",
              " 0.7646528064958115,\n",
              " 0.7641788132098232,\n",
              " 0.7308843218180581,\n",
              " 0.7100291217606385,\n",
              " 0.826586264999569,\n",
              " 0.8295249218355091,\n",
              " 0.8324214702308138,\n",
              " 0.828303133496692,\n",
              " 0.8173699746508724,\n",
              " 0.8326321409354108,\n",
              " 0.8659898276401292,\n",
              " 0.8971461733762872,\n",
              " 0.9048036151089536,\n",
              " 0.9336216226170663,\n",
              " 0.9754267177453348,\n",
              " 0.92127709054686,\n",
              " 0.9028023371581214,\n",
              " 0.9674638460439319,\n",
              " 0.9566676202068872,\n",
              " 0.9256587498623731,\n",
              " 0.9245317218409859,\n",
              " 0.9310410486799472,\n",
              " 0.9409735680237057,\n",
              " 0.9512326063150991,\n",
              " 0.9624290877423102,\n",
              " 0.9924900347122674,\n",
              " 0.9999999999999998,\n",
              " 0.9742891462877887,\n",
              " 0.9499476226633289,\n",
              " 0.9510641083018474,\n",
              " 0.9511378459976693,\n",
              " 0.941542386931124,\n",
              " 0.9364023248759136,\n",
              " 0.9041821453780313,\n",
              " 0.9263328714700897,\n",
              " 0.917116581121393,\n",
              " 0.8983785051512632,\n",
              " 0.9161264861087809,\n",
              " 0.9538026368160591,\n",
              " 0.9282076945443056,\n",
              " 0.9051933272629612,\n",
              " 0.9200868672125195,\n",
              " 0.8844856036504757,\n",
              " 0.8911845785724262,\n",
              " 0.8019603319213999,\n",
              " 0.8369084975506254,\n",
              " 0.8675065678155239,\n",
              " 0.838583257607113]"
            ]
          },
          "metadata": {},
          "execution_count": 35
        }
      ],
      "source": [
        "temp_input"
      ]
    },
    {
      "cell_type": "code",
      "execution_count": 36,
      "metadata": {
        "id": "AGDop3aW3_ME",
        "outputId": "df26f551-68c7-4efb-913b-29f94d08ce25",
        "colab": {
          "base_uri": "https://localhost:8080/"
        }
      },
      "outputs": [
        {
          "output_type": "stream",
          "name": "stdout",
          "text": [
            "[0.5521083]\n",
            "101\n",
            "1 day input [0.49192432 0.47870554 0.48982828 0.4786318  0.49014425 0.4997292\n",
            " 0.49047077 0.50131968 0.50585936 0.50861898 0.51430674 0.52680929\n",
            " 0.52182725 0.5061016  0.51536003 0.51367476 0.51840405 0.5198576\n",
            " 0.52096354 0.52096354 0.50670198 0.50039278 0.50491141 0.51648706\n",
            " 0.54972893 0.55907161 0.5718164  0.5767879  0.57560822 0.59321926\n",
            " 0.58975396 0.60085562 0.62596602 0.62768289 0.6299896  0.64567311\n",
            " 0.64835899 0.64218672 0.65729093 0.66054556 0.64741106 0.66321042\n",
            " 0.69620996 0.72962036 0.71793934 0.73769908 0.73287499 0.75912303\n",
            " 0.76033428 0.75907038 0.77773465 0.76465281 0.76417881 0.73088432\n",
            " 0.71002912 0.82658626 0.82952492 0.83242147 0.82830313 0.81736997\n",
            " 0.83263214 0.86598983 0.89714617 0.90480362 0.93362162 0.97542672\n",
            " 0.92127709 0.90280234 0.96746385 0.95666762 0.92565875 0.92453172\n",
            " 0.93104105 0.94097357 0.95123261 0.96242909 0.99249003 1.\n",
            " 0.97428915 0.94994762 0.95106411 0.95113785 0.94154239 0.93640232\n",
            " 0.90418215 0.92633287 0.91711658 0.89837851 0.91612649 0.95380264\n",
            " 0.92820769 0.90519333 0.92008687 0.8844856  0.89118458 0.80196033\n",
            " 0.8369085  0.86750657 0.83858326 0.55210829]\n",
            "1 day output [[0.5472046]]\n",
            "2 day input [0.47870554 0.48982828 0.4786318  0.49014425 0.4997292  0.49047077\n",
            " 0.50131968 0.50585936 0.50861898 0.51430674 0.52680929 0.52182725\n",
            " 0.5061016  0.51536003 0.51367476 0.51840405 0.5198576  0.52096354\n",
            " 0.52096354 0.50670198 0.50039278 0.50491141 0.51648706 0.54972893\n",
            " 0.55907161 0.5718164  0.5767879  0.57560822 0.59321926 0.58975396\n",
            " 0.60085562 0.62596602 0.62768289 0.6299896  0.64567311 0.64835899\n",
            " 0.64218672 0.65729093 0.66054556 0.64741106 0.66321042 0.69620996\n",
            " 0.72962036 0.71793934 0.73769908 0.73287499 0.75912303 0.76033428\n",
            " 0.75907038 0.77773465 0.76465281 0.76417881 0.73088432 0.71002912\n",
            " 0.82658626 0.82952492 0.83242147 0.82830313 0.81736997 0.83263214\n",
            " 0.86598983 0.89714617 0.90480362 0.93362162 0.97542672 0.92127709\n",
            " 0.90280234 0.96746385 0.95666762 0.92565875 0.92453172 0.93104105\n",
            " 0.94097357 0.95123261 0.96242909 0.99249003 1.         0.97428915\n",
            " 0.94994762 0.95106411 0.95113785 0.94154239 0.93640232 0.90418215\n",
            " 0.92633287 0.91711658 0.89837851 0.91612649 0.95380264 0.92820769\n",
            " 0.90519333 0.92008687 0.8844856  0.89118458 0.80196033 0.8369085\n",
            " 0.86750657 0.83858326 0.55210829 0.54720461]\n",
            "2 day output [[0.53879744]]\n",
            "3 day input [0.48982828 0.4786318  0.49014425 0.4997292  0.49047077 0.50131968\n",
            " 0.50585936 0.50861898 0.51430674 0.52680929 0.52182725 0.5061016\n",
            " 0.51536003 0.51367476 0.51840405 0.5198576  0.52096354 0.52096354\n",
            " 0.50670198 0.50039278 0.50491141 0.51648706 0.54972893 0.55907161\n",
            " 0.5718164  0.5767879  0.57560822 0.59321926 0.58975396 0.60085562\n",
            " 0.62596602 0.62768289 0.6299896  0.64567311 0.64835899 0.64218672\n",
            " 0.65729093 0.66054556 0.64741106 0.66321042 0.69620996 0.72962036\n",
            " 0.71793934 0.73769908 0.73287499 0.75912303 0.76033428 0.75907038\n",
            " 0.77773465 0.76465281 0.76417881 0.73088432 0.71002912 0.82658626\n",
            " 0.82952492 0.83242147 0.82830313 0.81736997 0.83263214 0.86598983\n",
            " 0.89714617 0.90480362 0.93362162 0.97542672 0.92127709 0.90280234\n",
            " 0.96746385 0.95666762 0.92565875 0.92453172 0.93104105 0.94097357\n",
            " 0.95123261 0.96242909 0.99249003 1.         0.97428915 0.94994762\n",
            " 0.95106411 0.95113785 0.94154239 0.93640232 0.90418215 0.92633287\n",
            " 0.91711658 0.89837851 0.91612649 0.95380264 0.92820769 0.90519333\n",
            " 0.92008687 0.8844856  0.89118458 0.80196033 0.8369085  0.86750657\n",
            " 0.83858326 0.55210829 0.54720461 0.53879744]\n",
            "3 day output [[0.52755034]]\n",
            "4 day input [0.4786318  0.49014425 0.4997292  0.49047077 0.50131968 0.50585936\n",
            " 0.50861898 0.51430674 0.52680929 0.52182725 0.5061016  0.51536003\n",
            " 0.51367476 0.51840405 0.5198576  0.52096354 0.52096354 0.50670198\n",
            " 0.50039278 0.50491141 0.51648706 0.54972893 0.55907161 0.5718164\n",
            " 0.5767879  0.57560822 0.59321926 0.58975396 0.60085562 0.62596602\n",
            " 0.62768289 0.6299896  0.64567311 0.64835899 0.64218672 0.65729093\n",
            " 0.66054556 0.64741106 0.66321042 0.69620996 0.72962036 0.71793934\n",
            " 0.73769908 0.73287499 0.75912303 0.76033428 0.75907038 0.77773465\n",
            " 0.76465281 0.76417881 0.73088432 0.71002912 0.82658626 0.82952492\n",
            " 0.83242147 0.82830313 0.81736997 0.83263214 0.86598983 0.89714617\n",
            " 0.90480362 0.93362162 0.97542672 0.92127709 0.90280234 0.96746385\n",
            " 0.95666762 0.92565875 0.92453172 0.93104105 0.94097357 0.95123261\n",
            " 0.96242909 0.99249003 1.         0.97428915 0.94994762 0.95106411\n",
            " 0.95113785 0.94154239 0.93640232 0.90418215 0.92633287 0.91711658\n",
            " 0.89837851 0.91612649 0.95380264 0.92820769 0.90519333 0.92008687\n",
            " 0.8844856  0.89118458 0.80196033 0.8369085  0.86750657 0.83858326\n",
            " 0.55210829 0.54720461 0.53879744 0.52755034]\n",
            "4 day output [[0.5143808]]\n",
            "5 day input [0.49014425 0.4997292  0.49047077 0.50131968 0.50585936 0.50861898\n",
            " 0.51430674 0.52680929 0.52182725 0.5061016  0.51536003 0.51367476\n",
            " 0.51840405 0.5198576  0.52096354 0.52096354 0.50670198 0.50039278\n",
            " 0.50491141 0.51648706 0.54972893 0.55907161 0.5718164  0.5767879\n",
            " 0.57560822 0.59321926 0.58975396 0.60085562 0.62596602 0.62768289\n",
            " 0.6299896  0.64567311 0.64835899 0.64218672 0.65729093 0.66054556\n",
            " 0.64741106 0.66321042 0.69620996 0.72962036 0.71793934 0.73769908\n",
            " 0.73287499 0.75912303 0.76033428 0.75907038 0.77773465 0.76465281\n",
            " 0.76417881 0.73088432 0.71002912 0.82658626 0.82952492 0.83242147\n",
            " 0.82830313 0.81736997 0.83263214 0.86598983 0.89714617 0.90480362\n",
            " 0.93362162 0.97542672 0.92127709 0.90280234 0.96746385 0.95666762\n",
            " 0.92565875 0.92453172 0.93104105 0.94097357 0.95123261 0.96242909\n",
            " 0.99249003 1.         0.97428915 0.94994762 0.95106411 0.95113785\n",
            " 0.94154239 0.93640232 0.90418215 0.92633287 0.91711658 0.89837851\n",
            " 0.91612649 0.95380264 0.92820769 0.90519333 0.92008687 0.8844856\n",
            " 0.89118458 0.80196033 0.8369085  0.86750657 0.83858326 0.55210829\n",
            " 0.54720461 0.53879744 0.52755034 0.51438081]\n",
            "5 day output [[0.50014186]]\n",
            "6 day input [0.4997292  0.49047077 0.50131968 0.50585936 0.50861898 0.51430674\n",
            " 0.52680929 0.52182725 0.5061016  0.51536003 0.51367476 0.51840405\n",
            " 0.5198576  0.52096354 0.52096354 0.50670198 0.50039278 0.50491141\n",
            " 0.51648706 0.54972893 0.55907161 0.5718164  0.5767879  0.57560822\n",
            " 0.59321926 0.58975396 0.60085562 0.62596602 0.62768289 0.6299896\n",
            " 0.64567311 0.64835899 0.64218672 0.65729093 0.66054556 0.64741106\n",
            " 0.66321042 0.69620996 0.72962036 0.71793934 0.73769908 0.73287499\n",
            " 0.75912303 0.76033428 0.75907038 0.77773465 0.76465281 0.76417881\n",
            " 0.73088432 0.71002912 0.82658626 0.82952492 0.83242147 0.82830313\n",
            " 0.81736997 0.83263214 0.86598983 0.89714617 0.90480362 0.93362162\n",
            " 0.97542672 0.92127709 0.90280234 0.96746385 0.95666762 0.92565875\n",
            " 0.92453172 0.93104105 0.94097357 0.95123261 0.96242909 0.99249003\n",
            " 1.         0.97428915 0.94994762 0.95106411 0.95113785 0.94154239\n",
            " 0.93640232 0.90418215 0.92633287 0.91711658 0.89837851 0.91612649\n",
            " 0.95380264 0.92820769 0.90519333 0.92008687 0.8844856  0.89118458\n",
            " 0.80196033 0.8369085  0.86750657 0.83858326 0.55210829 0.54720461\n",
            " 0.53879744 0.52755034 0.51438081 0.50014186]\n",
            "6 day output [[0.4855007]]\n",
            "7 day input [0.49047077 0.50131968 0.50585936 0.50861898 0.51430674 0.52680929\n",
            " 0.52182725 0.5061016  0.51536003 0.51367476 0.51840405 0.5198576\n",
            " 0.52096354 0.52096354 0.50670198 0.50039278 0.50491141 0.51648706\n",
            " 0.54972893 0.55907161 0.5718164  0.5767879  0.57560822 0.59321926\n",
            " 0.58975396 0.60085562 0.62596602 0.62768289 0.6299896  0.64567311\n",
            " 0.64835899 0.64218672 0.65729093 0.66054556 0.64741106 0.66321042\n",
            " 0.69620996 0.72962036 0.71793934 0.73769908 0.73287499 0.75912303\n",
            " 0.76033428 0.75907038 0.77773465 0.76465281 0.76417881 0.73088432\n",
            " 0.71002912 0.82658626 0.82952492 0.83242147 0.82830313 0.81736997\n",
            " 0.83263214 0.86598983 0.89714617 0.90480362 0.93362162 0.97542672\n",
            " 0.92127709 0.90280234 0.96746385 0.95666762 0.92565875 0.92453172\n",
            " 0.93104105 0.94097357 0.95123261 0.96242909 0.99249003 1.\n",
            " 0.97428915 0.94994762 0.95106411 0.95113785 0.94154239 0.93640232\n",
            " 0.90418215 0.92633287 0.91711658 0.89837851 0.91612649 0.95380264\n",
            " 0.92820769 0.90519333 0.92008687 0.8844856  0.89118458 0.80196033\n",
            " 0.8369085  0.86750657 0.83858326 0.55210829 0.54720461 0.53879744\n",
            " 0.52755034 0.51438081 0.50014186 0.48550069]\n",
            "7 day output [[0.47092482]]\n",
            "8 day input [0.50131968 0.50585936 0.50861898 0.51430674 0.52680929 0.52182725\n",
            " 0.5061016  0.51536003 0.51367476 0.51840405 0.5198576  0.52096354\n",
            " 0.52096354 0.50670198 0.50039278 0.50491141 0.51648706 0.54972893\n",
            " 0.55907161 0.5718164  0.5767879  0.57560822 0.59321926 0.58975396\n",
            " 0.60085562 0.62596602 0.62768289 0.6299896  0.64567311 0.64835899\n",
            " 0.64218672 0.65729093 0.66054556 0.64741106 0.66321042 0.69620996\n",
            " 0.72962036 0.71793934 0.73769908 0.73287499 0.75912303 0.76033428\n",
            " 0.75907038 0.77773465 0.76465281 0.76417881 0.73088432 0.71002912\n",
            " 0.82658626 0.82952492 0.83242147 0.82830313 0.81736997 0.83263214\n",
            " 0.86598983 0.89714617 0.90480362 0.93362162 0.97542672 0.92127709\n",
            " 0.90280234 0.96746385 0.95666762 0.92565875 0.92453172 0.93104105\n",
            " 0.94097357 0.95123261 0.96242909 0.99249003 1.         0.97428915\n",
            " 0.94994762 0.95106411 0.95113785 0.94154239 0.93640232 0.90418215\n",
            " 0.92633287 0.91711658 0.89837851 0.91612649 0.95380264 0.92820769\n",
            " 0.90519333 0.92008687 0.8844856  0.89118458 0.80196033 0.8369085\n",
            " 0.86750657 0.83858326 0.55210829 0.54720461 0.53879744 0.52755034\n",
            " 0.51438081 0.50014186 0.48550069 0.47092482]\n",
            "8 day output [[0.45671272]]\n",
            "9 day input [0.50585936 0.50861898 0.51430674 0.52680929 0.52182725 0.5061016\n",
            " 0.51536003 0.51367476 0.51840405 0.5198576  0.52096354 0.52096354\n",
            " 0.50670198 0.50039278 0.50491141 0.51648706 0.54972893 0.55907161\n",
            " 0.5718164  0.5767879  0.57560822 0.59321926 0.58975396 0.60085562\n",
            " 0.62596602 0.62768289 0.6299896  0.64567311 0.64835899 0.64218672\n",
            " 0.65729093 0.66054556 0.64741106 0.66321042 0.69620996 0.72962036\n",
            " 0.71793934 0.73769908 0.73287499 0.75912303 0.76033428 0.75907038\n",
            " 0.77773465 0.76465281 0.76417881 0.73088432 0.71002912 0.82658626\n",
            " 0.82952492 0.83242147 0.82830313 0.81736997 0.83263214 0.86598983\n",
            " 0.89714617 0.90480362 0.93362162 0.97542672 0.92127709 0.90280234\n",
            " 0.96746385 0.95666762 0.92565875 0.92453172 0.93104105 0.94097357\n",
            " 0.95123261 0.96242909 0.99249003 1.         0.97428915 0.94994762\n",
            " 0.95106411 0.95113785 0.94154239 0.93640232 0.90418215 0.92633287\n",
            " 0.91711658 0.89837851 0.91612649 0.95380264 0.92820769 0.90519333\n",
            " 0.92008687 0.8844856  0.89118458 0.80196033 0.8369085  0.86750657\n",
            " 0.83858326 0.55210829 0.54720461 0.53879744 0.52755034 0.51438081\n",
            " 0.50014186 0.48550069 0.47092482 0.45671272]\n",
            "9 day output [[0.44303426]]\n",
            "10 day input [0.50861898 0.51430674 0.52680929 0.52182725 0.5061016  0.51536003\n",
            " 0.51367476 0.51840405 0.5198576  0.52096354 0.52096354 0.50670198\n",
            " 0.50039278 0.50491141 0.51648706 0.54972893 0.55907161 0.5718164\n",
            " 0.5767879  0.57560822 0.59321926 0.58975396 0.60085562 0.62596602\n",
            " 0.62768289 0.6299896  0.64567311 0.64835899 0.64218672 0.65729093\n",
            " 0.66054556 0.64741106 0.66321042 0.69620996 0.72962036 0.71793934\n",
            " 0.73769908 0.73287499 0.75912303 0.76033428 0.75907038 0.77773465\n",
            " 0.76465281 0.76417881 0.73088432 0.71002912 0.82658626 0.82952492\n",
            " 0.83242147 0.82830313 0.81736997 0.83263214 0.86598983 0.89714617\n",
            " 0.90480362 0.93362162 0.97542672 0.92127709 0.90280234 0.96746385\n",
            " 0.95666762 0.92565875 0.92453172 0.93104105 0.94097357 0.95123261\n",
            " 0.96242909 0.99249003 1.         0.97428915 0.94994762 0.95106411\n",
            " 0.95113785 0.94154239 0.93640232 0.90418215 0.92633287 0.91711658\n",
            " 0.89837851 0.91612649 0.95380264 0.92820769 0.90519333 0.92008687\n",
            " 0.8844856  0.89118458 0.80196033 0.8369085  0.86750657 0.83858326\n",
            " 0.55210829 0.54720461 0.53879744 0.52755034 0.51438081 0.50014186\n",
            " 0.48550069 0.47092482 0.45671272 0.44303426]\n",
            "10 day output [[0.42997155]]\n",
            "11 day input [0.51430674 0.52680929 0.52182725 0.5061016  0.51536003 0.51367476\n",
            " 0.51840405 0.5198576  0.52096354 0.52096354 0.50670198 0.50039278\n",
            " 0.50491141 0.51648706 0.54972893 0.55907161 0.5718164  0.5767879\n",
            " 0.57560822 0.59321926 0.58975396 0.60085562 0.62596602 0.62768289\n",
            " 0.6299896  0.64567311 0.64835899 0.64218672 0.65729093 0.66054556\n",
            " 0.64741106 0.66321042 0.69620996 0.72962036 0.71793934 0.73769908\n",
            " 0.73287499 0.75912303 0.76033428 0.75907038 0.77773465 0.76465281\n",
            " 0.76417881 0.73088432 0.71002912 0.82658626 0.82952492 0.83242147\n",
            " 0.82830313 0.81736997 0.83263214 0.86598983 0.89714617 0.90480362\n",
            " 0.93362162 0.97542672 0.92127709 0.90280234 0.96746385 0.95666762\n",
            " 0.92565875 0.92453172 0.93104105 0.94097357 0.95123261 0.96242909\n",
            " 0.99249003 1.         0.97428915 0.94994762 0.95106411 0.95113785\n",
            " 0.94154239 0.93640232 0.90418215 0.92633287 0.91711658 0.89837851\n",
            " 0.91612649 0.95380264 0.92820769 0.90519333 0.92008687 0.8844856\n",
            " 0.89118458 0.80196033 0.8369085  0.86750657 0.83858326 0.55210829\n",
            " 0.54720461 0.53879744 0.52755034 0.51438081 0.50014186 0.48550069\n",
            " 0.47092482 0.45671272 0.44303426 0.42997155]\n",
            "11 day output [[0.41754916]]\n",
            "12 day input [0.52680929 0.52182725 0.5061016  0.51536003 0.51367476 0.51840405\n",
            " 0.5198576  0.52096354 0.52096354 0.50670198 0.50039278 0.50491141\n",
            " 0.51648706 0.54972893 0.55907161 0.5718164  0.5767879  0.57560822\n",
            " 0.59321926 0.58975396 0.60085562 0.62596602 0.62768289 0.6299896\n",
            " 0.64567311 0.64835899 0.64218672 0.65729093 0.66054556 0.64741106\n",
            " 0.66321042 0.69620996 0.72962036 0.71793934 0.73769908 0.73287499\n",
            " 0.75912303 0.76033428 0.75907038 0.77773465 0.76465281 0.76417881\n",
            " 0.73088432 0.71002912 0.82658626 0.82952492 0.83242147 0.82830313\n",
            " 0.81736997 0.83263214 0.86598983 0.89714617 0.90480362 0.93362162\n",
            " 0.97542672 0.92127709 0.90280234 0.96746385 0.95666762 0.92565875\n",
            " 0.92453172 0.93104105 0.94097357 0.95123261 0.96242909 0.99249003\n",
            " 1.         0.97428915 0.94994762 0.95106411 0.95113785 0.94154239\n",
            " 0.93640232 0.90418215 0.92633287 0.91711658 0.89837851 0.91612649\n",
            " 0.95380264 0.92820769 0.90519333 0.92008687 0.8844856  0.89118458\n",
            " 0.80196033 0.8369085  0.86750657 0.83858326 0.55210829 0.54720461\n",
            " 0.53879744 0.52755034 0.51438081 0.50014186 0.48550069 0.47092482\n",
            " 0.45671272 0.44303426 0.42997155 0.41754916]\n",
            "12 day output [[0.40575793]]\n",
            "13 day input [0.52182725 0.5061016  0.51536003 0.51367476 0.51840405 0.5198576\n",
            " 0.52096354 0.52096354 0.50670198 0.50039278 0.50491141 0.51648706\n",
            " 0.54972893 0.55907161 0.5718164  0.5767879  0.57560822 0.59321926\n",
            " 0.58975396 0.60085562 0.62596602 0.62768289 0.6299896  0.64567311\n",
            " 0.64835899 0.64218672 0.65729093 0.66054556 0.64741106 0.66321042\n",
            " 0.69620996 0.72962036 0.71793934 0.73769908 0.73287499 0.75912303\n",
            " 0.76033428 0.75907038 0.77773465 0.76465281 0.76417881 0.73088432\n",
            " 0.71002912 0.82658626 0.82952492 0.83242147 0.82830313 0.81736997\n",
            " 0.83263214 0.86598983 0.89714617 0.90480362 0.93362162 0.97542672\n",
            " 0.92127709 0.90280234 0.96746385 0.95666762 0.92565875 0.92453172\n",
            " 0.93104105 0.94097357 0.95123261 0.96242909 0.99249003 1.\n",
            " 0.97428915 0.94994762 0.95106411 0.95113785 0.94154239 0.93640232\n",
            " 0.90418215 0.92633287 0.91711658 0.89837851 0.91612649 0.95380264\n",
            " 0.92820769 0.90519333 0.92008687 0.8844856  0.89118458 0.80196033\n",
            " 0.8369085  0.86750657 0.83858326 0.55210829 0.54720461 0.53879744\n",
            " 0.52755034 0.51438081 0.50014186 0.48550069 0.47092482 0.45671272\n",
            " 0.44303426 0.42997155 0.41754916 0.40575793]\n",
            "13 day output [[0.39457056]]\n",
            "14 day input [0.5061016  0.51536003 0.51367476 0.51840405 0.5198576  0.52096354\n",
            " 0.52096354 0.50670198 0.50039278 0.50491141 0.51648706 0.54972893\n",
            " 0.55907161 0.5718164  0.5767879  0.57560822 0.59321926 0.58975396\n",
            " 0.60085562 0.62596602 0.62768289 0.6299896  0.64567311 0.64835899\n",
            " 0.64218672 0.65729093 0.66054556 0.64741106 0.66321042 0.69620996\n",
            " 0.72962036 0.71793934 0.73769908 0.73287499 0.75912303 0.76033428\n",
            " 0.75907038 0.77773465 0.76465281 0.76417881 0.73088432 0.71002912\n",
            " 0.82658626 0.82952492 0.83242147 0.82830313 0.81736997 0.83263214\n",
            " 0.86598983 0.89714617 0.90480362 0.93362162 0.97542672 0.92127709\n",
            " 0.90280234 0.96746385 0.95666762 0.92565875 0.92453172 0.93104105\n",
            " 0.94097357 0.95123261 0.96242909 0.99249003 1.         0.97428915\n",
            " 0.94994762 0.95106411 0.95113785 0.94154239 0.93640232 0.90418215\n",
            " 0.92633287 0.91711658 0.89837851 0.91612649 0.95380264 0.92820769\n",
            " 0.90519333 0.92008687 0.8844856  0.89118458 0.80196033 0.8369085\n",
            " 0.86750657 0.83858326 0.55210829 0.54720461 0.53879744 0.52755034\n",
            " 0.51438081 0.50014186 0.48550069 0.47092482 0.45671272 0.44303426\n",
            " 0.42997155 0.41754916 0.40575793 0.39457056]\n",
            "14 day output [[0.38395202]]\n",
            "15 day input [0.51536003 0.51367476 0.51840405 0.5198576  0.52096354 0.52096354\n",
            " 0.50670198 0.50039278 0.50491141 0.51648706 0.54972893 0.55907161\n",
            " 0.5718164  0.5767879  0.57560822 0.59321926 0.58975396 0.60085562\n",
            " 0.62596602 0.62768289 0.6299896  0.64567311 0.64835899 0.64218672\n",
            " 0.65729093 0.66054556 0.64741106 0.66321042 0.69620996 0.72962036\n",
            " 0.71793934 0.73769908 0.73287499 0.75912303 0.76033428 0.75907038\n",
            " 0.77773465 0.76465281 0.76417881 0.73088432 0.71002912 0.82658626\n",
            " 0.82952492 0.83242147 0.82830313 0.81736997 0.83263214 0.86598983\n",
            " 0.89714617 0.90480362 0.93362162 0.97542672 0.92127709 0.90280234\n",
            " 0.96746385 0.95666762 0.92565875 0.92453172 0.93104105 0.94097357\n",
            " 0.95123261 0.96242909 0.99249003 1.         0.97428915 0.94994762\n",
            " 0.95106411 0.95113785 0.94154239 0.93640232 0.90418215 0.92633287\n",
            " 0.91711658 0.89837851 0.91612649 0.95380264 0.92820769 0.90519333\n",
            " 0.92008687 0.8844856  0.89118458 0.80196033 0.8369085  0.86750657\n",
            " 0.83858326 0.55210829 0.54720461 0.53879744 0.52755034 0.51438081\n",
            " 0.50014186 0.48550069 0.47092482 0.45671272 0.44303426 0.42997155\n",
            " 0.41754916 0.40575793 0.39457056 0.38395202]\n",
            "15 day output [[0.37386453]]\n",
            "16 day input [0.51367476 0.51840405 0.5198576  0.52096354 0.52096354 0.50670198\n",
            " 0.50039278 0.50491141 0.51648706 0.54972893 0.55907161 0.5718164\n",
            " 0.5767879  0.57560822 0.59321926 0.58975396 0.60085562 0.62596602\n",
            " 0.62768289 0.6299896  0.64567311 0.64835899 0.64218672 0.65729093\n",
            " 0.66054556 0.64741106 0.66321042 0.69620996 0.72962036 0.71793934\n",
            " 0.73769908 0.73287499 0.75912303 0.76033428 0.75907038 0.77773465\n",
            " 0.76465281 0.76417881 0.73088432 0.71002912 0.82658626 0.82952492\n",
            " 0.83242147 0.82830313 0.81736997 0.83263214 0.86598983 0.89714617\n",
            " 0.90480362 0.93362162 0.97542672 0.92127709 0.90280234 0.96746385\n",
            " 0.95666762 0.92565875 0.92453172 0.93104105 0.94097357 0.95123261\n",
            " 0.96242909 0.99249003 1.         0.97428915 0.94994762 0.95106411\n",
            " 0.95113785 0.94154239 0.93640232 0.90418215 0.92633287 0.91711658\n",
            " 0.89837851 0.91612649 0.95380264 0.92820769 0.90519333 0.92008687\n",
            " 0.8844856  0.89118458 0.80196033 0.8369085  0.86750657 0.83858326\n",
            " 0.55210829 0.54720461 0.53879744 0.52755034 0.51438081 0.50014186\n",
            " 0.48550069 0.47092482 0.45671272 0.44303426 0.42997155 0.41754916\n",
            " 0.40575793 0.39457056 0.38395202 0.37386453]\n",
            "16 day output [[0.36427137]]\n",
            "17 day input [0.51840405 0.5198576  0.52096354 0.52096354 0.50670198 0.50039278\n",
            " 0.50491141 0.51648706 0.54972893 0.55907161 0.5718164  0.5767879\n",
            " 0.57560822 0.59321926 0.58975396 0.60085562 0.62596602 0.62768289\n",
            " 0.6299896  0.64567311 0.64835899 0.64218672 0.65729093 0.66054556\n",
            " 0.64741106 0.66321042 0.69620996 0.72962036 0.71793934 0.73769908\n",
            " 0.73287499 0.75912303 0.76033428 0.75907038 0.77773465 0.76465281\n",
            " 0.76417881 0.73088432 0.71002912 0.82658626 0.82952492 0.83242147\n",
            " 0.82830313 0.81736997 0.83263214 0.86598983 0.89714617 0.90480362\n",
            " 0.93362162 0.97542672 0.92127709 0.90280234 0.96746385 0.95666762\n",
            " 0.92565875 0.92453172 0.93104105 0.94097357 0.95123261 0.96242909\n",
            " 0.99249003 1.         0.97428915 0.94994762 0.95106411 0.95113785\n",
            " 0.94154239 0.93640232 0.90418215 0.92633287 0.91711658 0.89837851\n",
            " 0.91612649 0.95380264 0.92820769 0.90519333 0.92008687 0.8844856\n",
            " 0.89118458 0.80196033 0.8369085  0.86750657 0.83858326 0.55210829\n",
            " 0.54720461 0.53879744 0.52755034 0.51438081 0.50014186 0.48550069\n",
            " 0.47092482 0.45671272 0.44303426 0.42997155 0.41754916 0.40575793\n",
            " 0.39457056 0.38395202 0.37386453 0.36427137]\n",
            "17 day output [[0.35513854]]\n",
            "18 day input [0.5198576  0.52096354 0.52096354 0.50670198 0.50039278 0.50491141\n",
            " 0.51648706 0.54972893 0.55907161 0.5718164  0.5767879  0.57560822\n",
            " 0.59321926 0.58975396 0.60085562 0.62596602 0.62768289 0.6299896\n",
            " 0.64567311 0.64835899 0.64218672 0.65729093 0.66054556 0.64741106\n",
            " 0.66321042 0.69620996 0.72962036 0.71793934 0.73769908 0.73287499\n",
            " 0.75912303 0.76033428 0.75907038 0.77773465 0.76465281 0.76417881\n",
            " 0.73088432 0.71002912 0.82658626 0.82952492 0.83242147 0.82830313\n",
            " 0.81736997 0.83263214 0.86598983 0.89714617 0.90480362 0.93362162\n",
            " 0.97542672 0.92127709 0.90280234 0.96746385 0.95666762 0.92565875\n",
            " 0.92453172 0.93104105 0.94097357 0.95123261 0.96242909 0.99249003\n",
            " 1.         0.97428915 0.94994762 0.95106411 0.95113785 0.94154239\n",
            " 0.93640232 0.90418215 0.92633287 0.91711658 0.89837851 0.91612649\n",
            " 0.95380264 0.92820769 0.90519333 0.92008687 0.8844856  0.89118458\n",
            " 0.80196033 0.8369085  0.86750657 0.83858326 0.55210829 0.54720461\n",
            " 0.53879744 0.52755034 0.51438081 0.50014186 0.48550069 0.47092482\n",
            " 0.45671272 0.44303426 0.42997155 0.41754916 0.40575793 0.39457056\n",
            " 0.38395202 0.37386453 0.36427137 0.35513854]\n",
            "18 day output [[0.34643444]]\n",
            "19 day input [0.52096354 0.52096354 0.50670198 0.50039278 0.50491141 0.51648706\n",
            " 0.54972893 0.55907161 0.5718164  0.5767879  0.57560822 0.59321926\n",
            " 0.58975396 0.60085562 0.62596602 0.62768289 0.6299896  0.64567311\n",
            " 0.64835899 0.64218672 0.65729093 0.66054556 0.64741106 0.66321042\n",
            " 0.69620996 0.72962036 0.71793934 0.73769908 0.73287499 0.75912303\n",
            " 0.76033428 0.75907038 0.77773465 0.76465281 0.76417881 0.73088432\n",
            " 0.71002912 0.82658626 0.82952492 0.83242147 0.82830313 0.81736997\n",
            " 0.83263214 0.86598983 0.89714617 0.90480362 0.93362162 0.97542672\n",
            " 0.92127709 0.90280234 0.96746385 0.95666762 0.92565875 0.92453172\n",
            " 0.93104105 0.94097357 0.95123261 0.96242909 0.99249003 1.\n",
            " 0.97428915 0.94994762 0.95106411 0.95113785 0.94154239 0.93640232\n",
            " 0.90418215 0.92633287 0.91711658 0.89837851 0.91612649 0.95380264\n",
            " 0.92820769 0.90519333 0.92008687 0.8844856  0.89118458 0.80196033\n",
            " 0.8369085  0.86750657 0.83858326 0.55210829 0.54720461 0.53879744\n",
            " 0.52755034 0.51438081 0.50014186 0.48550069 0.47092482 0.45671272\n",
            " 0.44303426 0.42997155 0.41754916 0.40575793 0.39457056 0.38395202\n",
            " 0.37386453 0.36427137 0.35513854 0.34643444]\n",
            "19 day output [[0.3381306]]\n",
            "20 day input [0.52096354 0.50670198 0.50039278 0.50491141 0.51648706 0.54972893\n",
            " 0.55907161 0.5718164  0.5767879  0.57560822 0.59321926 0.58975396\n",
            " 0.60085562 0.62596602 0.62768289 0.6299896  0.64567311 0.64835899\n",
            " 0.64218672 0.65729093 0.66054556 0.64741106 0.66321042 0.69620996\n",
            " 0.72962036 0.71793934 0.73769908 0.73287499 0.75912303 0.76033428\n",
            " 0.75907038 0.77773465 0.76465281 0.76417881 0.73088432 0.71002912\n",
            " 0.82658626 0.82952492 0.83242147 0.82830313 0.81736997 0.83263214\n",
            " 0.86598983 0.89714617 0.90480362 0.93362162 0.97542672 0.92127709\n",
            " 0.90280234 0.96746385 0.95666762 0.92565875 0.92453172 0.93104105\n",
            " 0.94097357 0.95123261 0.96242909 0.99249003 1.         0.97428915\n",
            " 0.94994762 0.95106411 0.95113785 0.94154239 0.93640232 0.90418215\n",
            " 0.92633287 0.91711658 0.89837851 0.91612649 0.95380264 0.92820769\n",
            " 0.90519333 0.92008687 0.8844856  0.89118458 0.80196033 0.8369085\n",
            " 0.86750657 0.83858326 0.55210829 0.54720461 0.53879744 0.52755034\n",
            " 0.51438081 0.50014186 0.48550069 0.47092482 0.45671272 0.44303426\n",
            " 0.42997155 0.41754916 0.40575793 0.39457056 0.38395202 0.37386453\n",
            " 0.36427137 0.35513854 0.34643444 0.33813059]\n",
            "20 day output [[0.330201]]\n",
            "21 day input [0.50670198 0.50039278 0.50491141 0.51648706 0.54972893 0.55907161\n",
            " 0.5718164  0.5767879  0.57560822 0.59321926 0.58975396 0.60085562\n",
            " 0.62596602 0.62768289 0.6299896  0.64567311 0.64835899 0.64218672\n",
            " 0.65729093 0.66054556 0.64741106 0.66321042 0.69620996 0.72962036\n",
            " 0.71793934 0.73769908 0.73287499 0.75912303 0.76033428 0.75907038\n",
            " 0.77773465 0.76465281 0.76417881 0.73088432 0.71002912 0.82658626\n",
            " 0.82952492 0.83242147 0.82830313 0.81736997 0.83263214 0.86598983\n",
            " 0.89714617 0.90480362 0.93362162 0.97542672 0.92127709 0.90280234\n",
            " 0.96746385 0.95666762 0.92565875 0.92453172 0.93104105 0.94097357\n",
            " 0.95123261 0.96242909 0.99249003 1.         0.97428915 0.94994762\n",
            " 0.95106411 0.95113785 0.94154239 0.93640232 0.90418215 0.92633287\n",
            " 0.91711658 0.89837851 0.91612649 0.95380264 0.92820769 0.90519333\n",
            " 0.92008687 0.8844856  0.89118458 0.80196033 0.8369085  0.86750657\n",
            " 0.83858326 0.55210829 0.54720461 0.53879744 0.52755034 0.51438081\n",
            " 0.50014186 0.48550069 0.47092482 0.45671272 0.44303426 0.42997155\n",
            " 0.41754916 0.40575793 0.39457056 0.38395202 0.37386453 0.36427137\n",
            " 0.35513854 0.34643444 0.33813059 0.330201  ]\n",
            "21 day output [[0.32262203]]\n",
            "22 day input [0.50039278 0.50491141 0.51648706 0.54972893 0.55907161 0.5718164\n",
            " 0.5767879  0.57560822 0.59321926 0.58975396 0.60085562 0.62596602\n",
            " 0.62768289 0.6299896  0.64567311 0.64835899 0.64218672 0.65729093\n",
            " 0.66054556 0.64741106 0.66321042 0.69620996 0.72962036 0.71793934\n",
            " 0.73769908 0.73287499 0.75912303 0.76033428 0.75907038 0.77773465\n",
            " 0.76465281 0.76417881 0.73088432 0.71002912 0.82658626 0.82952492\n",
            " 0.83242147 0.82830313 0.81736997 0.83263214 0.86598983 0.89714617\n",
            " 0.90480362 0.93362162 0.97542672 0.92127709 0.90280234 0.96746385\n",
            " 0.95666762 0.92565875 0.92453172 0.93104105 0.94097357 0.95123261\n",
            " 0.96242909 0.99249003 1.         0.97428915 0.94994762 0.95106411\n",
            " 0.95113785 0.94154239 0.93640232 0.90418215 0.92633287 0.91711658\n",
            " 0.89837851 0.91612649 0.95380264 0.92820769 0.90519333 0.92008687\n",
            " 0.8844856  0.89118458 0.80196033 0.8369085  0.86750657 0.83858326\n",
            " 0.55210829 0.54720461 0.53879744 0.52755034 0.51438081 0.50014186\n",
            " 0.48550069 0.47092482 0.45671272 0.44303426 0.42997155 0.41754916\n",
            " 0.40575793 0.39457056 0.38395202 0.37386453 0.36427137 0.35513854\n",
            " 0.34643444 0.33813059 0.330201   0.32262203]\n",
            "22 day output [[0.31537214]]\n",
            "23 day input [0.50491141 0.51648706 0.54972893 0.55907161 0.5718164  0.5767879\n",
            " 0.57560822 0.59321926 0.58975396 0.60085562 0.62596602 0.62768289\n",
            " 0.6299896  0.64567311 0.64835899 0.64218672 0.65729093 0.66054556\n",
            " 0.64741106 0.66321042 0.69620996 0.72962036 0.71793934 0.73769908\n",
            " 0.73287499 0.75912303 0.76033428 0.75907038 0.77773465 0.76465281\n",
            " 0.76417881 0.73088432 0.71002912 0.82658626 0.82952492 0.83242147\n",
            " 0.82830313 0.81736997 0.83263214 0.86598983 0.89714617 0.90480362\n",
            " 0.93362162 0.97542672 0.92127709 0.90280234 0.96746385 0.95666762\n",
            " 0.92565875 0.92453172 0.93104105 0.94097357 0.95123261 0.96242909\n",
            " 0.99249003 1.         0.97428915 0.94994762 0.95106411 0.95113785\n",
            " 0.94154239 0.93640232 0.90418215 0.92633287 0.91711658 0.89837851\n",
            " 0.91612649 0.95380264 0.92820769 0.90519333 0.92008687 0.8844856\n",
            " 0.89118458 0.80196033 0.8369085  0.86750657 0.83858326 0.55210829\n",
            " 0.54720461 0.53879744 0.52755034 0.51438081 0.50014186 0.48550069\n",
            " 0.47092482 0.45671272 0.44303426 0.42997155 0.41754916 0.40575793\n",
            " 0.39457056 0.38395202 0.37386453 0.36427137 0.35513854 0.34643444\n",
            " 0.33813059 0.330201   0.32262203 0.31537214]\n",
            "23 day output [[0.3084312]]\n",
            "24 day input [0.51648706 0.54972893 0.55907161 0.5718164  0.5767879  0.57560822\n",
            " 0.59321926 0.58975396 0.60085562 0.62596602 0.62768289 0.6299896\n",
            " 0.64567311 0.64835899 0.64218672 0.65729093 0.66054556 0.64741106\n",
            " 0.66321042 0.69620996 0.72962036 0.71793934 0.73769908 0.73287499\n",
            " 0.75912303 0.76033428 0.75907038 0.77773465 0.76465281 0.76417881\n",
            " 0.73088432 0.71002912 0.82658626 0.82952492 0.83242147 0.82830313\n",
            " 0.81736997 0.83263214 0.86598983 0.89714617 0.90480362 0.93362162\n",
            " 0.97542672 0.92127709 0.90280234 0.96746385 0.95666762 0.92565875\n",
            " 0.92453172 0.93104105 0.94097357 0.95123261 0.96242909 0.99249003\n",
            " 1.         0.97428915 0.94994762 0.95106411 0.95113785 0.94154239\n",
            " 0.93640232 0.90418215 0.92633287 0.91711658 0.89837851 0.91612649\n",
            " 0.95380264 0.92820769 0.90519333 0.92008687 0.8844856  0.89118458\n",
            " 0.80196033 0.8369085  0.86750657 0.83858326 0.55210829 0.54720461\n",
            " 0.53879744 0.52755034 0.51438081 0.50014186 0.48550069 0.47092482\n",
            " 0.45671272 0.44303426 0.42997155 0.41754916 0.40575793 0.39457056\n",
            " 0.38395202 0.37386453 0.36427137 0.35513854 0.34643444 0.33813059\n",
            " 0.330201   0.32262203 0.31537214 0.30843121]\n",
            "24 day output [[0.30178115]]\n",
            "25 day input [0.54972893 0.55907161 0.5718164  0.5767879  0.57560822 0.59321926\n",
            " 0.58975396 0.60085562 0.62596602 0.62768289 0.6299896  0.64567311\n",
            " 0.64835899 0.64218672 0.65729093 0.66054556 0.64741106 0.66321042\n",
            " 0.69620996 0.72962036 0.71793934 0.73769908 0.73287499 0.75912303\n",
            " 0.76033428 0.75907038 0.77773465 0.76465281 0.76417881 0.73088432\n",
            " 0.71002912 0.82658626 0.82952492 0.83242147 0.82830313 0.81736997\n",
            " 0.83263214 0.86598983 0.89714617 0.90480362 0.93362162 0.97542672\n",
            " 0.92127709 0.90280234 0.96746385 0.95666762 0.92565875 0.92453172\n",
            " 0.93104105 0.94097357 0.95123261 0.96242909 0.99249003 1.\n",
            " 0.97428915 0.94994762 0.95106411 0.95113785 0.94154239 0.93640232\n",
            " 0.90418215 0.92633287 0.91711658 0.89837851 0.91612649 0.95380264\n",
            " 0.92820769 0.90519333 0.92008687 0.8844856  0.89118458 0.80196033\n",
            " 0.8369085  0.86750657 0.83858326 0.55210829 0.54720461 0.53879744\n",
            " 0.52755034 0.51438081 0.50014186 0.48550069 0.47092482 0.45671272\n",
            " 0.44303426 0.42997155 0.41754916 0.40575793 0.39457056 0.38395202\n",
            " 0.37386453 0.36427137 0.35513854 0.34643444 0.33813059 0.330201\n",
            " 0.32262203 0.31537214 0.30843121 0.30178115]\n",
            "25 day output [[0.2954049]]\n",
            "26 day input [0.55907161 0.5718164  0.5767879  0.57560822 0.59321926 0.58975396\n",
            " 0.60085562 0.62596602 0.62768289 0.6299896  0.64567311 0.64835899\n",
            " 0.64218672 0.65729093 0.66054556 0.64741106 0.66321042 0.69620996\n",
            " 0.72962036 0.71793934 0.73769908 0.73287499 0.75912303 0.76033428\n",
            " 0.75907038 0.77773465 0.76465281 0.76417881 0.73088432 0.71002912\n",
            " 0.82658626 0.82952492 0.83242147 0.82830313 0.81736997 0.83263214\n",
            " 0.86598983 0.89714617 0.90480362 0.93362162 0.97542672 0.92127709\n",
            " 0.90280234 0.96746385 0.95666762 0.92565875 0.92453172 0.93104105\n",
            " 0.94097357 0.95123261 0.96242909 0.99249003 1.         0.97428915\n",
            " 0.94994762 0.95106411 0.95113785 0.94154239 0.93640232 0.90418215\n",
            " 0.92633287 0.91711658 0.89837851 0.91612649 0.95380264 0.92820769\n",
            " 0.90519333 0.92008687 0.8844856  0.89118458 0.80196033 0.8369085\n",
            " 0.86750657 0.83858326 0.55210829 0.54720461 0.53879744 0.52755034\n",
            " 0.51438081 0.50014186 0.48550069 0.47092482 0.45671272 0.44303426\n",
            " 0.42997155 0.41754916 0.40575793 0.39457056 0.38395202 0.37386453\n",
            " 0.36427137 0.35513854 0.34643444 0.33813059 0.330201   0.32262203\n",
            " 0.31537214 0.30843121 0.30178115 0.29540491]\n",
            "26 day output [[0.28928676]]\n",
            "27 day input [0.5718164  0.5767879  0.57560822 0.59321926 0.58975396 0.60085562\n",
            " 0.62596602 0.62768289 0.6299896  0.64567311 0.64835899 0.64218672\n",
            " 0.65729093 0.66054556 0.64741106 0.66321042 0.69620996 0.72962036\n",
            " 0.71793934 0.73769908 0.73287499 0.75912303 0.76033428 0.75907038\n",
            " 0.77773465 0.76465281 0.76417881 0.73088432 0.71002912 0.82658626\n",
            " 0.82952492 0.83242147 0.82830313 0.81736997 0.83263214 0.86598983\n",
            " 0.89714617 0.90480362 0.93362162 0.97542672 0.92127709 0.90280234\n",
            " 0.96746385 0.95666762 0.92565875 0.92453172 0.93104105 0.94097357\n",
            " 0.95123261 0.96242909 0.99249003 1.         0.97428915 0.94994762\n",
            " 0.95106411 0.95113785 0.94154239 0.93640232 0.90418215 0.92633287\n",
            " 0.91711658 0.89837851 0.91612649 0.95380264 0.92820769 0.90519333\n",
            " 0.92008687 0.8844856  0.89118458 0.80196033 0.8369085  0.86750657\n",
            " 0.83858326 0.55210829 0.54720461 0.53879744 0.52755034 0.51438081\n",
            " 0.50014186 0.48550069 0.47092482 0.45671272 0.44303426 0.42997155\n",
            " 0.41754916 0.40575793 0.39457056 0.38395202 0.37386453 0.36427137\n",
            " 0.35513854 0.34643444 0.33813059 0.330201   0.32262203 0.31537214\n",
            " 0.30843121 0.30178115 0.29540491 0.28928676]\n",
            "27 day output [[0.28341213]]\n",
            "28 day input [0.5767879  0.57560822 0.59321926 0.58975396 0.60085562 0.62596602\n",
            " 0.62768289 0.6299896  0.64567311 0.64835899 0.64218672 0.65729093\n",
            " 0.66054556 0.64741106 0.66321042 0.69620996 0.72962036 0.71793934\n",
            " 0.73769908 0.73287499 0.75912303 0.76033428 0.75907038 0.77773465\n",
            " 0.76465281 0.76417881 0.73088432 0.71002912 0.82658626 0.82952492\n",
            " 0.83242147 0.82830313 0.81736997 0.83263214 0.86598983 0.89714617\n",
            " 0.90480362 0.93362162 0.97542672 0.92127709 0.90280234 0.96746385\n",
            " 0.95666762 0.92565875 0.92453172 0.93104105 0.94097357 0.95123261\n",
            " 0.96242909 0.99249003 1.         0.97428915 0.94994762 0.95106411\n",
            " 0.95113785 0.94154239 0.93640232 0.90418215 0.92633287 0.91711658\n",
            " 0.89837851 0.91612649 0.95380264 0.92820769 0.90519333 0.92008687\n",
            " 0.8844856  0.89118458 0.80196033 0.8369085  0.86750657 0.83858326\n",
            " 0.55210829 0.54720461 0.53879744 0.52755034 0.51438081 0.50014186\n",
            " 0.48550069 0.47092482 0.45671272 0.44303426 0.42997155 0.41754916\n",
            " 0.40575793 0.39457056 0.38395202 0.37386453 0.36427137 0.35513854\n",
            " 0.34643444 0.33813059 0.330201   0.32262203 0.31537214 0.30843121\n",
            " 0.30178115 0.29540491 0.28928676 0.28341213]\n",
            "28 day output [[0.2777674]]\n",
            "29 day input [0.57560822 0.59321926 0.58975396 0.60085562 0.62596602 0.62768289\n",
            " 0.6299896  0.64567311 0.64835899 0.64218672 0.65729093 0.66054556\n",
            " 0.64741106 0.66321042 0.69620996 0.72962036 0.71793934 0.73769908\n",
            " 0.73287499 0.75912303 0.76033428 0.75907038 0.77773465 0.76465281\n",
            " 0.76417881 0.73088432 0.71002912 0.82658626 0.82952492 0.83242147\n",
            " 0.82830313 0.81736997 0.83263214 0.86598983 0.89714617 0.90480362\n",
            " 0.93362162 0.97542672 0.92127709 0.90280234 0.96746385 0.95666762\n",
            " 0.92565875 0.92453172 0.93104105 0.94097357 0.95123261 0.96242909\n",
            " 0.99249003 1.         0.97428915 0.94994762 0.95106411 0.95113785\n",
            " 0.94154239 0.93640232 0.90418215 0.92633287 0.91711658 0.89837851\n",
            " 0.91612649 0.95380264 0.92820769 0.90519333 0.92008687 0.8844856\n",
            " 0.89118458 0.80196033 0.8369085  0.86750657 0.83858326 0.55210829\n",
            " 0.54720461 0.53879744 0.52755034 0.51438081 0.50014186 0.48550069\n",
            " 0.47092482 0.45671272 0.44303426 0.42997155 0.41754916 0.40575793\n",
            " 0.39457056 0.38395202 0.37386453 0.36427137 0.35513854 0.34643444\n",
            " 0.33813059 0.330201   0.32262203 0.31537214 0.30843121 0.30178115\n",
            " 0.29540491 0.28928676 0.28341213 0.27776739]\n",
            "29 day output [[0.27234003]]\n",
            "[[0.5521082878112793], [0.5472046136856079], [0.5387974381446838], [0.5275503396987915], [0.5143808126449585], [0.5001418590545654], [0.485500693321228], [0.47092482447624207], [0.4567127227783203], [0.44303426146507263], [0.4299715459346771], [0.41754916310310364], [0.40575793385505676], [0.39457055926322937], [0.3839520215988159], [0.3738645315170288], [0.3642713725566864], [0.35513854026794434], [0.34643444418907166], [0.3381305932998657], [0.33020099997520447], [0.32262203097343445], [0.31537213921546936], [0.3084312081336975], [0.30178114771842957], [0.29540491104125977], [0.2892867624759674], [0.2834121286869049], [0.2777673900127411], [0.2723400294780731]]\n"
          ]
        }
      ],
      "source": [
        "# demonstrate prediction for next 10 days\n",
        "from numpy import array\n",
        "\n",
        "lst_output=[]\n",
        "n_steps=100\n",
        "i=0\n",
        "while(i<30):\n",
        "\n",
        "    if(len(temp_input)>100):\n",
        "        #print(temp_input)\n",
        "        x_input=np.array(temp_input[1:])\n",
        "        print(\"{} day input {}\".format(i,x_input))\n",
        "        x_input=x_input.reshape(1,-1)\n",
        "        x_input = x_input.reshape((1, n_steps, 1))\n",
        "        #print(x_input)\n",
        "        yhat = model.predict(x_input, verbose=0)\n",
        "        print(\"{} day output {}\".format(i,yhat))\n",
        "        temp_input.extend(yhat[0].tolist())\n",
        "        temp_input=temp_input[1:]\n",
        "        #print(temp_input)\n",
        "        lst_output.extend(yhat.tolist())\n",
        "        i=i+1\n",
        "    else:\n",
        "        x_input = x_input.reshape((1, n_steps,1))\n",
        "        yhat = model.predict(x_input, verbose=0)\n",
        "        print(yhat[0])\n",
        "        temp_input.extend(yhat[0].tolist())\n",
        "        print(len(temp_input))\n",
        "        lst_output.extend(yhat.tolist())\n",
        "        i=i+1\n",
        "\n",
        "\n",
        "print(lst_output)"
      ]
    },
    {
      "cell_type": "code",
      "execution_count": 37,
      "metadata": {
        "id": "6fs4hksz3_MF"
      },
      "outputs": [],
      "source": [
        "day_new=np.arange(1,101)\n",
        "day_pred=np.arange(101,131)"
      ]
    },
    {
      "cell_type": "code",
      "execution_count": 38,
      "metadata": {
        "id": "884ygsX73_MF"
      },
      "outputs": [],
      "source": [
        "import matplotlib.pyplot as plt"
      ]
    },
    {
      "cell_type": "code",
      "execution_count": 39,
      "metadata": {
        "id": "3C863ZHx3_MF",
        "outputId": "efd62f3d-4502-446d-8930-ef6540bcf583",
        "colab": {
          "base_uri": "https://localhost:8080/"
        }
      },
      "outputs": [
        {
          "output_type": "execute_result",
          "data": {
            "text/plain": [
              "6116"
            ]
          },
          "metadata": {},
          "execution_count": 39
        }
      ],
      "source": [
        "len(df1)"
      ]
    },
    {
      "cell_type": "code",
      "execution_count": null,
      "metadata": {
        "id": "PP0dTBaW3_MG"
      },
      "outputs": [],
      "source": []
    },
    {
      "cell_type": "code",
      "execution_count": 40,
      "metadata": {
        "id": "ANP8i2bf3_MG",
        "outputId": "d514d9f3-b0be-435b-834e-b6fb7259e4ab",
        "colab": {
          "base_uri": "https://localhost:8080/",
          "height": 447
        }
      },
      "outputs": [
        {
          "output_type": "execute_result",
          "data": {
            "text/plain": [
              "[<matplotlib.lines.Line2D at 0x7ce5299c6050>]"
            ]
          },
          "metadata": {},
          "execution_count": 40
        },
        {
          "output_type": "display_data",
          "data": {
            "text/plain": [
              "<Figure size 640x480 with 1 Axes>"
            ],
            "image/png": "[encoded data removed]"
          },
          "metadata": {}
        }
      ],
      "source": [
        "plt.plot(day_new,scaler.inverse_transform(df1[6016:]))\n",
        "plt.plot(day_pred,scaler.inverse_transform(lst_output))"
      ]
    },
    {
      "cell_type": "code",
      "execution_count": 44,
      "metadata": {
        "id": "5HidaKWg3_MG",
        "outputId": "e6d2109a-c042-4bad-9a89-a324ae920466",
        "colab": {
          "base_uri": "https://localhost:8080/",
          "height": 447
        }
      },
      "outputs": [
        {
          "output_type": "execute_result",
          "data": {
            "text/plain": [
              "[<matplotlib.lines.Line2D at 0x7ce523799630>]"
            ]
          },
          "metadata": {},
          "execution_count": 44
        },
        {
          "output_type": "display_data",
          "data": {
            "text/plain": [
              "<Figure size 640x480 with 1 Axes>"
            ],
            "image/png": "[encoded data removed]"
          },
          "metadata": {}
        }
      ],
      "source": [
        "df3=df1.tolist()\n",
        "df3.extend(lst_output)\n",
        "plt.plot(df3[6000:])"
      ]
    },
    {
      "cell_type": "code",
      "execution_count": 45,
      "metadata": {
        "id": "6aL97tTo3_MH"
      },
      "outputs": [],
      "source": [
        "df3=scaler.inverse_transform(df3).tolist()"
      ]
    },
    {
      "cell_type": "code",
      "execution_count": 46,
      "metadata": {
        "id": "hn7AOnGp3_MH",
        "outputId": "bbb04d48-a37f-4943-9888-932939ec1cb9",
        "colab": {
          "base_uri": "https://localhost:8080/",
          "height": 447
        }
      },
      "outputs": [
        {
          "output_type": "execute_result",
          "data": {
            "text/plain": [
              "[<matplotlib.lines.Line2D at 0x7ce52371f610>]"
            ]
          },
          "metadata": {},
          "execution_count": 46
        },
        {
          "output_type": "display_data",
          "data": {
            "text/plain": [
              "<Figure size 640x480 with 1 Axes>"
            ],
            "image/png": "[encoded data removed]"
          },
          "metadata": {}
        }
      ],
      "source": [
        "plt.plot(df3)"
      ]
    },
    {
      "cell_type": "code",
      "execution_count": null,
      "metadata": {
        "id": "ugmS1IBq3_MH"
      },
      "outputs": [],
      "source": []
    }
  ],
  "metadata": {
    "kernelspec": {
      "display_name": "Python 3",
      "language": "python",
      "name": "python3"
    },
    "language_info": {
      "codemirror_mode": {
        "name": "ipython",
        "version": 3
      },
      "file_extension": ".py",
      "mimetype": "text/x-python",
      "name": "python",
      "nbconvert_exporter": "python",
      "pygments_lexer": "ipython3",
      "version": "3.6.9"
    },
    "colab": {
      "provenance": [],
      "include_colab_link": true
    }
  },
  "nbformat": 4,
  "nbformat_minor": 0
}